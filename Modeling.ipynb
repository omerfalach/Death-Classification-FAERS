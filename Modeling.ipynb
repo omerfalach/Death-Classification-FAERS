{
  "cells": [
    {
      "cell_type": "markdown",
      "metadata": {
        "id": "view-in-github",
        "colab_type": "text"
      },
      "source": [
        "<a href=\"https://colab.research.google.com/github/omerfalach/Death-Classification-FAERS/blob/main/Modeling.ipynb\" target=\"_parent\"><img src=\"https://colab.research.google.com/assets/colab-badge.svg\" alt=\"Open In Colab\"/></a>"
      ]
    },
    {
      "cell_type": "code",
      "execution_count": 2,
      "metadata": {
        "colab": {
          "base_uri": "https://localhost:8080/"
        },
        "id": "anIwRoDVtmU4",
        "outputId": "b8f1b526-1da3-4ef2-c6e0-cda987d93fd2"
      },
      "outputs": [
        {
          "output_type": "stream",
          "name": "stdout",
          "text": [
            "Drive already mounted at /content/drive/; to attempt to forcibly remount, call drive.mount(\"/content/drive/\", force_remount=True).\n"
          ]
        }
      ],
      "source": [
        "##connect to google drive \n",
        "from google.colab import drive\n",
        "drive.mount('/content/drive/')"
      ]
    },
    {
      "cell_type": "code",
      "source": [
        "##pandas version for pickle files\n",
        "#Warning: Runtime restart has to be done!!!!!!!\n",
        "!pip install --upgrade pandas==1.1.5"
      ],
      "metadata": {
        "id": "G_laQKeyChvx",
        "outputId": "4d8068b9-f239-437f-ec78-bcde4ad7a3aa",
        "colab": {
          "base_uri": "https://localhost:8080/"
        }
      },
      "execution_count": 3,
      "outputs": [
        {
          "output_type": "stream",
          "name": "stdout",
          "text": [
            "Requirement already satisfied: pandas==1.1.5 in /usr/local/lib/python3.7/dist-packages (1.1.5)\n",
            "Requirement already satisfied: python-dateutil>=2.7.3 in /usr/local/lib/python3.7/dist-packages (from pandas==1.1.5) (2.8.2)\n",
            "Requirement already satisfied: pytz>=2017.2 in /usr/local/lib/python3.7/dist-packages (from pandas==1.1.5) (2018.9)\n",
            "Requirement already satisfied: numpy>=1.15.4 in /usr/local/lib/python3.7/dist-packages (from pandas==1.1.5) (1.19.5)\n",
            "Requirement already satisfied: six>=1.5 in /usr/local/lib/python3.7/dist-packages (from python-dateutil>=2.7.3->pandas==1.1.5) (1.15.0)\n"
          ]
        }
      ]
    },
    {
      "cell_type": "code",
      "execution_count": 4,
      "metadata": {
        "colab": {
          "base_uri": "https://localhost:8080/"
        },
        "id": "VIIoAeXduMLt",
        "outputId": "4a381184-a348-4caf-be7c-0c10362d4d8d"
      },
      "outputs": [
        {
          "output_type": "stream",
          "name": "stdout",
          "text": [
            "Requirement already satisfied: category_encoders in /usr/local/lib/python3.7/dist-packages (2.3.0)\n",
            "Requirement already satisfied: pandas>=0.21.1 in /usr/local/lib/python3.7/dist-packages (from category_encoders) (1.1.5)\n",
            "Requirement already satisfied: numpy>=1.14.0 in /usr/local/lib/python3.7/dist-packages (from category_encoders) (1.19.5)\n",
            "Requirement already satisfied: statsmodels>=0.9.0 in /usr/local/lib/python3.7/dist-packages (from category_encoders) (0.10.2)\n",
            "Requirement already satisfied: patsy>=0.5.1 in /usr/local/lib/python3.7/dist-packages (from category_encoders) (0.5.2)\n",
            "Requirement already satisfied: scikit-learn>=0.20.0 in /usr/local/lib/python3.7/dist-packages (from category_encoders) (1.0.2)\n",
            "Requirement already satisfied: scipy>=1.0.0 in /usr/local/lib/python3.7/dist-packages (from category_encoders) (1.4.1)\n",
            "Requirement already satisfied: python-dateutil>=2.7.3 in /usr/local/lib/python3.7/dist-packages (from pandas>=0.21.1->category_encoders) (2.8.2)\n",
            "Requirement already satisfied: pytz>=2017.2 in /usr/local/lib/python3.7/dist-packages (from pandas>=0.21.1->category_encoders) (2018.9)\n",
            "Requirement already satisfied: six in /usr/local/lib/python3.7/dist-packages (from patsy>=0.5.1->category_encoders) (1.15.0)\n",
            "Requirement already satisfied: threadpoolctl>=2.0.0 in /usr/local/lib/python3.7/dist-packages (from scikit-learn>=0.20.0->category_encoders) (3.0.0)\n",
            "Requirement already satisfied: joblib>=0.11 in /usr/local/lib/python3.7/dist-packages (from scikit-learn>=0.20.0->category_encoders) (1.1.0)\n",
            "Requirement already satisfied: squarify in /usr/local/lib/python3.7/dist-packages (0.4.3)\n",
            "Requirement already satisfied: xgboost in /usr/local/lib/python3.7/dist-packages (1.5.2)\n",
            "Requirement already satisfied: numpy in /usr/local/lib/python3.7/dist-packages (from xgboost) (1.19.5)\n",
            "Requirement already satisfied: scipy in /usr/local/lib/python3.7/dist-packages (from xgboost) (1.4.1)\n"
          ]
        }
      ],
      "source": [
        "###Installations for google colab\n",
        "!pip install category_encoders\n",
        "!pip install squarify\n",
        "!pip install --upgrade xgboost"
      ]
    },
    {
      "cell_type": "code",
      "source": [
        "###Project folder location\n",
        "folder = '/content/drive/MyDrive/Colab Notebooks/Project/'"
      ],
      "metadata": {
        "id": "FKmA_OH0CdKP"
      },
      "execution_count": 5,
      "outputs": []
    },
    {
      "cell_type": "code",
      "execution_count": 6,
      "metadata": {
        "colab": {
          "base_uri": "https://localhost:8080/"
        },
        "id": "zvoUpGM8uGyM",
        "outputId": "886db6ef-3512-4e3d-a915-e1191063dda7"
      },
      "outputs": [
        {
          "output_type": "stream",
          "name": "stdout",
          "text": [
            "1.1.5\n"
          ]
        },
        {
          "output_type": "stream",
          "name": "stderr",
          "text": [
            "/usr/local/lib/python3.7/dist-packages/statsmodels/tools/_testing.py:19: FutureWarning: pandas.util.testing is deprecated. Use the functions in the public API at pandas.testing instead.\n",
            "  import pandas.util.testing as tm\n"
          ]
        }
      ],
      "source": [
        "import sys\n",
        "import numpy as np\n",
        "import os\n",
        "import warnings\n",
        "from sklearn.pipeline import Pipeline, FeatureUnion\n",
        "from sklearn.feature_extraction.text import CountVectorizer,TfidfVectorizer\n",
        "from sklearn.svm import LinearSVC\n",
        "from sklearn.feature_extraction.text import TfidfTransformer\n",
        "from sklearn.multiclass import OneVsRestClassifier\n",
        "from sklearn.preprocessing import FunctionTransformer\n",
        "from sklearn.compose import ColumnTransformer\n",
        "import pandas as pd\n",
        "print(pd.__version__)\n",
        "import pytz\n",
        "import pickle\n",
        "# import pycountry_convert as pc\n",
        "from sklearn.preprocessing import FunctionTransformer\n",
        "from sklearn.compose import make_column_transformer\n",
        "from sklearn.base import BaseEstimator, TransformerMixin\n",
        "import random\n",
        "import pandas as pd\n",
        "import numpy as np\n",
        "import matplotlib.pyplot as plt\n",
        "import seaborn as sns\n",
        "import sklearn\n",
        "from sklearn.neighbors import KNeighborsClassifier\n",
        "from sklearn.preprocessing import LabelEncoder,OneHotEncoder\n",
        "\n",
        "import random\n",
        "from sklearn.preprocessing import StandardScaler\n",
        "import requests\n",
        "from category_encoders import TargetEncoder\n",
        "from sklearn.linear_model import LogisticRegression\n",
        "from sklearn.ensemble import RandomForestClassifier, GradientBoostingClassifier\n",
        "from sklearn.model_selection import StratifiedKFold, train_test_split, GridSearchCV, RandomizedSearchCV\n",
        "from sklearn.metrics import precision_score, roc_auc_score, recall_score, accuracy_score, make_scorer\n",
        "from sklearn.metrics import confusion_matrix, plot_confusion_matrix, roc_curve, auc,precision_recall_curve,ConfusionMatrixDisplay,RocCurveDisplay\n",
        "\n",
        "import plotly.express as px\n",
        "from sklearn.model_selection import StratifiedKFold\n",
        "from scipy import stats\n",
        "from datetime import datetime as dt\n",
        "import dill as dillpickle\n",
        "import matplotlib.image as mpimg\n",
        "from xgboost import XGBClassifier\n",
        "py_file_location = folder+ \"scripts\"\n",
        "sys.path.append(os.path.abspath(py_file_location))\n",
        "import project_plots as op\n",
        "\n"
      ]
    },
    {
      "cell_type": "code",
      "execution_count": 7,
      "metadata": {
        "id": "5k6yq1adt0jF"
      },
      "outputs": [],
      "source": [
        "train_features= pd.read_csv(folder+ 'preprocessed_files/train_features.csv')\n",
        "test_features= pd.read_csv(folder+  'preprocessed_files/test_features.csv')\n",
        "train_labels= pd.read_csv(folder+'preprocessed_files/train_labels.csv')\n",
        "test_labels= pd.read_csv(folder+'preprocessed_files/test_labels.csv')"
      ]
    },
    {
      "cell_type": "code",
      "execution_count": 8,
      "metadata": {
        "id": "N-HfqyfPW_OD"
      },
      "outputs": [],
      "source": [
        "#Read_csv read pandas column with lists as str\n",
        "def convert_str_to_list(x):\n",
        "    try:\n",
        "        z= x.strip('[]').replace(\"'\", \"\").split(',')\n",
        "        z1 = [f.strip() for f in z]\n",
        "        return  z1\n",
        "    except:\n",
        "        return x # replace with any suitable placeholder value\n",
        "train_features['indi_pt']= train_features['indi_pt'].apply(lambda x: convert_str_to_list(x) if type(x)!=float else x)\n",
        "train_features['drugname_listed']= train_features['drugname_listed'].apply(lambda x: convert_str_to_list(x) if type(x)!=float else x)\n",
        "train_features['role_cod_listed']= train_features['role_cod_listed'].apply(lambda x: convert_str_to_list(x) if type(x)!=float else x)\n",
        "test_features['indi_pt']= test_features['indi_pt'].apply(lambda x: convert_str_to_list(x) if type(x)!=float else x)\n",
        "test_features['drugname_listed']= test_features['drugname_listed'].apply(lambda x: convert_str_to_list(x) if type(x)!=float else x)\n",
        "test_features['role_cod_listed']= test_features['role_cod_listed'].apply(lambda x: convert_str_to_list(x) if type(x)!=float else x)"
      ]
    },
    {
      "cell_type": "markdown",
      "source": [
        "#Creating preprocessors"
      ],
      "metadata": {
        "id": "hSHdYIoH825p"
      }
    },
    {
      "cell_type": "code",
      "execution_count": 9,
      "metadata": {
        "id": "2ZtW277JVyEr"
      },
      "outputs": [],
      "source": [
        "##Defining functions for custom_preprocessors\n",
        "##agecolumn - fill missing_values\n",
        "##Transform column_transformer matrix for XGboost\n",
        "class CSCTransformer(TransformerMixin):\n",
        "    def transform(self, X, y=None, **fit_params):\n",
        "        return X.tocsc()\n",
        "\n",
        "    def fit_transform(self, X, y=None, **fit_params):\n",
        "        self.fit(X, y, **fit_params)\n",
        "        return self.transform(X)\n",
        "\n",
        "    def fit(self, X, y=None, **fit_params):\n",
        "        return self\n",
        "class ageImputer(BaseEstimator, TransformerMixin) :\n",
        "    def __init__(self, column = 'age'):\n",
        "        self.death_chances = None\n",
        "        self.live_chances = None\n",
        "        self.column = column\n",
        "        self.X1 = None\n",
        "        self.y = None\n",
        "    def get_age_new(self,d_chances,l_chances,column,out = -100):\n",
        "        try:\n",
        "            out = int(out)\n",
        "            if out == 1:\n",
        "                ages_unichoi = [random.uniform(i.left,i.right) for i in list(d_chances['age_groups'])]\n",
        "                death_ages = random.choices(ages_unichoi, weights = list(d_chances[column]), k = 1)\n",
        "                return round(death_ages[0], 1)\n",
        "            elif out==0:\n",
        "                ages_unichoi = [random.uniform(i.left,i.right) for i in list(l_chances['age_groups'])]\n",
        "                live_ages = random.choices(ages_unichoi, weights = list(l_chances[column]), k = 1)\n",
        "                return round(live_ages[0], 1)\n",
        "            else:\n",
        "                trans = random.choices(random.uniform(i.left,i.right), weights = list(d_chances[column]), k = 1)\n",
        "                return  round(trans[0], 1)\n",
        "        except:\n",
        "            return -1\n",
        "\n",
        "    def fit(self, X, y=None):\n",
        "        self.y = y\n",
        "        self.X1 = X.merge(self.y, right_index=True, left_index=True)\n",
        "        X_fixed_age_not_null = self.X1[self.X1[self.column].notnull()]\n",
        "        death = X_fixed_age_not_null[X_fixed_age_not_null['outc_cod']==1]\n",
        "        live = X_fixed_age_not_null[X_fixed_age_not_null['outc_cod']==0]\n",
        "        self.death_chances = death[self.column].value_counts(bins= 2 ,normalize = True).to_frame()\n",
        "        self.death_chances = self.death_chances.reset_index().rename(columns = {'index':'age_groups'})\n",
        "        self.live_chances = live[self.column].value_counts(bins= 2 ,normalize = True).to_frame()\n",
        "        self.live_chances =self.live_chances.reset_index().rename(columns = {'index':'age_groups'})\n",
        "        self.X1[self.column] = self.X1.apply(lambda row: self.get_age_new(self.death_chances,self.live_chances,self.column,row['outc_cod']) if np.isnan(row[self.column]) else row[self.column],axis=1)\n",
        "        X.iloc[:, 0] = self.X1[self.column]\n",
        "        return  self                      \n",
        "    def transform(self, X, y=None):\n",
        "        X1 = X.copy()\n",
        "        X1.iloc[:, 0] = X1.iloc[:, 0].apply(lambda row: self.get_age_new(self.death_chances,self.live_chances,self.column) if np.isnan(row) else row)\n",
        "        return X1\n",
        "###convert_sex_values_to_integer_and_fillna_randomaly\n",
        "def sex_change(x):\n",
        "    if x =='M':\n",
        "        return 0\n",
        "    elif x == 'F':\n",
        "        return 1\n",
        "    else:\n",
        "        return random.choice([0,1])\n",
        "def sex_transform_to_pipe(data):\n",
        "    z = data.apply(lambda x: [sex_change(t) for t in x])\n",
        "    return z\n",
        "def convert_df_column_to_list(data):\n",
        "    d = list(data.iloc[:, 0])\n",
        "    return d"
      ]
    },
    {
      "cell_type": "code",
      "execution_count": 8,
      "metadata": {
        "id": "FNdMDCMQWLaU"
      },
      "outputs": [],
      "source": [
        "drug_feature = ['drugname_listed']\n",
        "age_feature = ['age']\n",
        "sex_feature = ['sex']\n",
        "cat_features = ['occr_country']\n",
        "indi_feature = ['indi_pt']\n",
        "catall_features = ['drugname','occr_country']\n",
        "all_features = ['age','sex','drugname','occr_country']\n",
        "sex_transformer = Pipeline(steps=[('se',FunctionTransformer(sex_transform_to_pipe)),('onehot', OneHotEncoder())])\n",
        "target_encoding_transformer = Pipeline(steps = [('target',TargetEncoder())])\n",
        "tfidf_transformer=  Pipeline(steps=[\n",
        "    ('extract_list',FunctionTransformer(convert_df_column_to_list,validate=False)),\n",
        "    ('tf',TfidfVectorizer(analyzer = 'word',tokenizer=lambda x: x,\n",
        "                        preprocessor=lambda x: x,lowercase = False))])\n",
        "ageImputer_transformer = Pipeline(steps = \n",
        "    [(\"age\", ageImputer()),\n",
        "        ('scale', StandardScaler())])\n",
        "drug_tf_idf_preprocessor =ColumnTransformer(transformers = [\n",
        "    ('sex',sex_transformer,sex_feature),\n",
        "    ('age2',ageImputer_transformer,age_feature),\n",
        "    ('drug',tfidf_transformer,drug_feature),\n",
        "    ('categorical',target_encoding_transformer,cat_features)\n",
        "])\n",
        "indi_tf_idf_preprocessor =ColumnTransformer(transformers = [\n",
        "    ('sex',sex_transformer,sex_feature),\n",
        "    ('age2',ageImputer_transformer,age_feature),\n",
        "    ('indi',tfidf_transformer,indi_feature),\n",
        "    ('categorical',target_encoding_transformer,cat_features)\n",
        "])\n",
        "baseline_preprocessor = ColumnTransformer(transformers = [\n",
        "    ('sex',sex_transformer,sex_feature),\n",
        "    ('age',ageImputer_transformer,age_feature),\n",
        "    ('categorical',target_encoding_transformer,catall_features)])"
      ]
    },
    {
      "cell_type": "markdown",
      "source": [
        "#Training classes"
      ],
      "metadata": {
        "id": "enXt8i8b9WFq"
      }
    },
    {
      "cell_type": "code",
      "execution_count": 10,
      "metadata": {
        "id": "1ZcaiI-EWX0i"
      },
      "outputs": [],
      "source": [
        "class set_modeling():\n",
        "    def __init__(self, num_val_folds = 5):\n",
        "        #Initialze the general parameters\n",
        "        self.score_to_optimize = 'AUC'\n",
        "        self.verbose = 10\n",
        "        self.n_experiments = int(1e1)\n",
        "        self.n_jobs=-2 \n",
        "        self.num_val_folds = num_val_folds\n",
        "        self.splitter = StratifiedKFold(self.num_val_folds)\n",
        "        #Initiaze scorers\n",
        "        self.auc_scorer = None\n",
        "        self.precision_scorer = None\n",
        "        self.recall_scorer = None\n",
        "        self.precision_recall_scorer = None\n",
        "        self.scorers = dict\n",
        "        self.hyper_opt = None \n",
        "    ##get roc_auc_score\n",
        "    def get_roc_auc(self,gt, pred):\n",
        "        return roc_auc_score(gt, pred, average='weighted')\n",
        "    def get_precision(self,gt, pred):\n",
        "        return precision_score(gt, pred, average='weighted')\n",
        "    def get_recall(self,gt, pred):\n",
        "        return recall_score(gt, pred, average='weighted')\n",
        "    def get_precision_recall_fscore_support(self,gt, pred):\n",
        "        precision,recall,f2_score,support = precision_recall_fscore_support(gt, pred,beta = 2,average='weighted')\n",
        "        return f2_score\n",
        "    def set_scorers(self):\n",
        "        self.auc_scorer = make_scorer(self.get_roc_auc, needs_proba=True)\n",
        "        self.precision_scorer = make_scorer(self.get_precision)\n",
        "        self.recall_scorer = make_scorer(self.get_recall)\n",
        "        self.precision_recall_scorer = make_scorer(self.get_precision_recall_fscore_support)\n",
        "        self.scorers = {'AUC':  self.auc_scorer, \n",
        "           'Precision': self.precision_scorer, 'Recall': self.recall_scorer,\n",
        "           'Accuracy': 'accuracy'}\n",
        "    def optimize_predict(self,train_features, train_labels,test_features,test_labels,pipeline,param):\n",
        "        print(type(train_labels[0:10]))\n",
        "        self.set_scorers()\n",
        "        self.hyper_opt = RandomizedSearchCV(pipeline, param,n_iter = self.n_experiments,\n",
        "                           scoring = self.scorers, n_jobs =  self.n_jobs, cv=self.splitter,\n",
        "                           refit=self.score_to_optimize,pre_dispatch =2,\n",
        "                           return_train_score=False, verbose=self.verbose)\n",
        "        tr_val_sequences, tr_val_labels = train_features, train_labels\n",
        "        num_label_apperances = tr_val_labels.value_counts()\n",
        "        min_label_apperances = min(num_label_apperances)\n",
        "        if self.num_val_folds > min_label_apperances:\n",
        "            self.hyper_opt.cv = StratifiedKFold(min_label_apperances)\n",
        "        start_time = dt.now()\n",
        "        print(f\"Fitting (training) the models and performing hyper parameter search. \"\n",
        "              f\"Time: {start_time}\")\n",
        "        self.hyper_opt.fit(tr_val_sequences, tr_val_labels)\n",
        "        best_ind = self.hyper_opt.best_index_\n",
        "        scores = {}\n",
        "        for scorer in self.scorers:\n",
        "            scores[scorer] = self.hyper_opt.cv_results_['mean_test_' + scorer][best_ind]\n",
        "        scores_str = '\\n'.join(f\"{k}: {v:.3f}\" for k, v in scores.items())\n",
        "        print(f'---Algorithm performance---: \\n{scores_str}\\n-------------')\n",
        "\n",
        "\n",
        "        end_time = dt.now()\n",
        "        duration = (end_time - start_time).total_seconds()\n",
        "        print(f'Training took {duration} seconds')\n"
      ]
    },
    {
      "cell_type": "code",
      "execution_count": 12,
      "metadata": {
        "id": "xpaZ9mD0Wadf"
      },
      "outputs": [],
      "source": [
        "class pipes_training(set_modeling):\n",
        "        def __init__(self, preprocessor = None,num_val_folds = 5):\n",
        "            set_modeling.__init__(self)\n",
        "            self.reg_coef_logrange = (0, 3, 5)\n",
        "            self.min_dfs_logrange = (0, 2, 1)\n",
        "            # Initialze featuers\n",
        "            self.drug_feature = ['drugname']\n",
        "            self.age_feature = ['age']\n",
        "            self.sex_feature = ['sex']\n",
        "            self.cat_features = ['occr_country']\n",
        "            self.catall_features = ['drugname','occr_country']\n",
        "            self.naive_preprocessor = preprocessor\n",
        "            # Initialze the estimators\n",
        "            self.clf1 = LogisticRegression()\n",
        "            self.clf2 = RandomForestClassifier()\n",
        "            self.clf3 = XGBClassifier()\n",
        "            # self.classifiers = [self.clf1,self.clf2]\n",
        "            self.classifiers = [self.clf1]\n",
        "            self.models = []\n",
        "            # Initiaze dictionaries for hyperparameters\n",
        "            self.param1 = {}\n",
        "            self.param2 = {}\n",
        "            self.param3 = {}\n",
        "            self.params = {}\n",
        "        def log_range(self,lower, upper, samples_per_decade, is_int=True):\n",
        "            samples = 1 + (upper - lower) * samples_per_decade\n",
        "            samples = int(round(samples))\n",
        "            if is_int:\n",
        "                return [int(round(i)) for i in np.logspace(lower, upper, samples)]\n",
        "            else:\n",
        "                return list(np.logspace(lower, upper, samples))\n",
        "        def set_hyperparameters(self): #hyperparameters for each classifier\n",
        "            ##fill logistic regression parameters\n",
        "            self.param1['feature_extractor']= self.naive_preprocessor\n",
        "            # self.param1['feature_extractor__indi__tf__min_df']= [0.01,0.05,0.1]\n",
        "            self.param1['feature_extractor__categorical__target__min_samples_leaf']= [200,1000,2000]\n",
        "            self.param1['classifier__solver']=['lbfgs']\n",
        "            self.param1['classifier__multi_class']=['auto']\n",
        "            self.param1['classifier__max_iter']=[int(1e6)]\n",
        "            self.param1['classifier__class_weight']=['balanced']\n",
        "            self.param1['classifier__C'] = self.log_range(*self.reg_coef_logrange, is_int=False)\n",
        "#             self.param1['classifier__penalty'] = ['l1', 'l2']\n",
        "            self.param1['classifier'] = [self.clf1]\n",
        "\n",
        "             ##fill randomforest parameters\n",
        "            self.param2['feature_extractor__categorical__target__min_samples_leaf']= [200,1000]\n",
        "            self.param2['feature_extractor']=self.naive_preprocessor\n",
        "            self.param2['classifier__n_estimators'] = [10]\n",
        "            self.param2['classifier__max_depth'] = [5, 10, 20]\n",
        "            self.param2['classifier__class_weight'] = ['balanced_subsample']\n",
        "            self.param2['classifier'] = [self.clf2]\n",
        "\n",
        "            ##fill knn parameters\n",
        "            self.param3['feature_extractor']=[naive_preprocessor],\n",
        "            self.param3['classifier'] = [self.clf3]\n",
        "\n",
        "            if self.naive_preprocessor==drug_tf_idf_preprocessor:\n",
        "                    self.param1['feature_extractor__drug__tf__min_df']= [0.001,0.005,0.01,0.05]\n",
        "                    self.param2['feature_extractor__drug__tf__min_df']= [0.001,0.005,0.01,0.05]\n",
        "            if self.naive_preprocessor==indi_tf_idf_preprocessor:\n",
        "                    self.param1['feature_extractor__indi__tf__min_df']= [0.001,0.005,0.01,0.05]\n",
        "                    self.param2['feature_extractor__indi__tf__min_df']= [0.001,0.005,0.01,0.05]\n",
        "\n",
        "            self.params = [self.param1,self.param2,self.param3]\n",
        "        def add_params(self,new_params):\n",
        "              self.params= [new_params]\n",
        "        def train_pipes(self,train_features, train_labels,test_features,test_labels,default_params = True,params = 0):\n",
        "                if default_params ==True:\n",
        "                    self.set_hyperparameters()\n",
        "                params_for_tuning = self.params[params]\n",
        "                for i in self.classifiers:\n",
        "                    print(i)\n",
        "                    p = Pipeline(steps = [('feature_extractor','passthrough'),('classifier',i)])\n",
        "#                     print(p)\n",
        "                    self.optimize_predict(train_features, train_labels,test_features,test_labels,p, params_for_tuning)\n",
        "                    self.models.append(self.hyper_opt)\n",
        "                return self.models"
      ]
    },
    {
      "cell_type": "markdown",
      "source": [
        "# **Training**"
      ],
      "metadata": {
        "id": "KxJeaKlp9iBw"
      }
    },
    {
      "cell_type": "markdown",
      "metadata": {
        "id": "aTTl2KDZp-f9"
      },
      "source": [
        "# **Baseline Model**\n"
      ]
    },
    {
      "cell_type": "code",
      "execution_count": 13,
      "metadata": {
        "id": "Dca5Pt4j7Q9g"
      },
      "outputs": [],
      "source": [
        "##Training - Baseline model_5Folds\n",
        "##Logistic_Regression\n",
        "# baseline = pipes_training(preprocessor = [baseline_preprocessor])\n",
        "# models = baseline.train_pipes(train_features,train_labels['outc_cod'],test_features,test_labels['outc_cod'])\n",
        "filename = folder+'models/baseline_traget_encoding_Logistic_Regression.pkl'\n",
        "# dillpickle.dump(models[0], open(filename, 'wb'))\n"
      ]
    },
    {
      "cell_type": "code",
      "source": [
        "###Results\n",
        "baseline_logreg = dillpickle.load(open(filename, 'rb'))\n",
        "op.get_train_scores(baseline_logreg)"
      ],
      "metadata": {
        "id": "aCRBuTUIbgdA",
        "colab": {
          "base_uri": "https://localhost:8080/"
        },
        "outputId": "5a4e1201-0497-4452-8999-bb1a191f128e"
      },
      "execution_count": 14,
      "outputs": [
        {
          "output_type": "stream",
          "name": "stdout",
          "text": [
            "---Algorithm performance---: \n",
            "AUC: 0.727\n",
            "Precision: 0.813\n",
            "Recall: 0.748\n",
            "Accuracy: 0.748\n",
            "-------------\n"
          ]
        }
      ]
    },
    {
      "cell_type": "code",
      "execution_count": 16,
      "metadata": {
        "id": "NzZRqfRkj_vF"
      },
      "outputs": [],
      "source": [
        "##Training - Baseline model_5Folds\n",
        "##Random_Forest\n",
        "\n",
        "##Training and save pickle file\n",
        "# baseline = pipes_training(preprocessor = [baseline_preprocessor])\n",
        "# models = baseline.train_pipes(train_features,train_labels['outc_cod'],test_features,test_labels['outc_cod'],params=1)\n",
        "filename = folder+'models/baseline_traget_encoding_Random_Forest.pkl'\n",
        "# dillpickle.dump(models[0], open(filename, 'wb'))\n",
        "\n"
      ]
    },
    {
      "cell_type": "code",
      "source": [
        "###Loading Results\n",
        "baseline_rforest = dillpickle.load(open(filename, 'rb'))\n",
        "op.get_train_scores(baseline_rforest)"
      ],
      "metadata": {
        "id": "mTv7V_w6bcqE",
        "outputId": "73d6a8b7-a66b-48a9-b02c-54b8fb6cbeab",
        "colab": {
          "base_uri": "https://localhost:8080/"
        }
      },
      "execution_count": 17,
      "outputs": [
        {
          "output_type": "stream",
          "name": "stdout",
          "text": [
            "---Algorithm performance---: \n",
            "AUC: 0.742\n",
            "Precision: 0.820\n",
            "Recall: 0.706\n",
            "Accuracy: 0.706\n",
            "-------------\n"
          ]
        }
      ]
    },
    {
      "cell_type": "code",
      "execution_count": 19,
      "metadata": {
        "id": "UWppmTMRq1j2"
      },
      "outputs": [],
      "source": [
        "##Training - Baseline model_5Folds\n",
        "##XGboost\n",
        "\n",
        "#Set Parameters\n",
        "# new_params_baseline = {}\n",
        "# new_params_baseline['feature_extractor']=[baseline_preprocessor]\n",
        "# new_params_baseline['classifier__num_parallel_tree'] =  [4]\n",
        "# new_params_baseline['feature_extractor__categorical__target__min_samples_leaf']= [300,500]\n",
        "# new_params_baseline['classifier__objective'] =  ['binary:logistic']\n",
        "# new_params_baseline['classifier__tree_method'] =  ['gpu_hist']\n",
        "# new_params_baseline['classifier__eval_metric'] = ['auc']\n",
        "# new_params_baseline['classifier__min_child_weight'] =  [1,5]\n",
        "# new_params_baseline['classifier__gamma'] = [1]\n",
        "# new_params_baseline['classifier__scale_pos_weight']=[0.85/0.15]\n",
        "# new_params_baseline['classifier__subsample']=[0.5]\n",
        "# new_params_baseline['classifier__colsample_bytree']=[0.6]\n",
        "# new_params_baseline['classifier__max_delta_step']=[10]\n",
        "# new_params_baseline['classifier__max_depth']= [20]\n",
        "# new_params_baseline['classifier__learning_rate']= [0.001,0.01,0.2,0.4]\n",
        "\n",
        "##Training and save pickle file\n",
        "# baseline = pipes_training(preprocessor = [baseline_preprocessor])\n",
        "# models = baseline.train_pipes(train_features,train_labels['outc_cod'],test_features,test_labels['outc_cod'],params=0)\n",
        "filename = folder+'models/baseline_traget_encoding_XGboost.pkl'\n",
        "# dillpickle.dump(models[0], open(filename, 'wb'))\n",
        "\n"
      ]
    },
    {
      "cell_type": "code",
      "source": [
        "###Loading Results\n",
        "baseline_xgboost = dillpickle.load(open(filename, 'rb'))\n",
        "op.get_train_scores(baseline_xgboost)"
      ],
      "metadata": {
        "id": "j9hSnCLFbZMn",
        "outputId": "9f969fac-1b4f-4883-d0e0-8d8b99bdf5a7",
        "colab": {
          "base_uri": "https://localhost:8080/"
        }
      },
      "execution_count": 20,
      "outputs": [
        {
          "output_type": "stream",
          "name": "stdout",
          "text": [
            "[02:18:44] WARNING: ../src/gbm/gbtree.cc:386: Loading from a raw memory buffer on CPU only machine.  Changing tree_method to hist.\n",
            "[02:18:44] WARNING: ../src/learner.cc:223: No visible GPU is found, setting `gpu_id` to -1\n",
            "---Algorithm performance---: \n",
            "AUC: 0.751\n",
            "Precision: 0.824\n",
            "Recall: 0.703\n",
            "Accuracy: 0.703\n",
            "-------------\n"
          ]
        }
      ]
    },
    {
      "cell_type": "code",
      "source": [
        "baseline_classifiers = {'Baseline_Logistic_Regression':baseline_logreg,'Baseline_Random_Forest':baseline_rforest, 'Baseline_XGBoost':baseline_xgboost}\n",
        "def evaluation_table(models):\n",
        "  evaluation = pd.DataFrame(columns = ['Classifier','AUC','Accuracy','Precision','Recall'])\n",
        "  for i in models:\n",
        "        best_ind = models[i].best_index_\n",
        "        scores = {}\n",
        "        scores['Classifier']= str(i)\n",
        "        for scorer in models[i].scorer_:\n",
        "            scores[scorer] =  models[i].cv_results_['mean_test_' + scorer][best_ind]\n",
        "        evaluation= evaluation.append(pd.DataFrame.from_dict(scores, orient='index').T)\n",
        "  return evaluation\n",
        "\n",
        "baseline_evaluation= evaluation_table(baseline_classifiers)\n",
        "baseline_evaluation"
      ],
      "metadata": {
        "id": "kz2bqZAq_dru",
        "outputId": "f3e8f188-d71c-4d3c-8971-66cd58082b58",
        "colab": {
          "base_uri": "https://localhost:8080/",
          "height": 143
        }
      },
      "execution_count": 43,
      "outputs": [
        {
          "output_type": "execute_result",
          "data": {
            "text/html": [
              "\n",
              "  <div id=\"df-9dd6160a-7efa-49d1-a2d5-ff972c40f5ca\">\n",
              "    <div class=\"colab-df-container\">\n",
              "      <div>\n",
              "<style scoped>\n",
              "    .dataframe tbody tr th:only-of-type {\n",
              "        vertical-align: middle;\n",
              "    }\n",
              "\n",
              "    .dataframe tbody tr th {\n",
              "        vertical-align: top;\n",
              "    }\n",
              "\n",
              "    .dataframe thead th {\n",
              "        text-align: right;\n",
              "    }\n",
              "</style>\n",
              "<table border=\"1\" class=\"dataframe\">\n",
              "  <thead>\n",
              "    <tr style=\"text-align: right;\">\n",
              "      <th></th>\n",
              "      <th>Classifier</th>\n",
              "      <th>AUC</th>\n",
              "      <th>Accuracy</th>\n",
              "      <th>Precision</th>\n",
              "      <th>Recall</th>\n",
              "    </tr>\n",
              "  </thead>\n",
              "  <tbody>\n",
              "    <tr>\n",
              "      <th>0</th>\n",
              "      <td>Baseline_Logistic_Regression</td>\n",
              "      <td>0.727113</td>\n",
              "      <td>0.748354</td>\n",
              "      <td>0.813215</td>\n",
              "      <td>0.748354</td>\n",
              "    </tr>\n",
              "    <tr>\n",
              "      <th>0</th>\n",
              "      <td>Baseline_Random_Forest</td>\n",
              "      <td>0.742181</td>\n",
              "      <td>0.706419</td>\n",
              "      <td>0.82007</td>\n",
              "      <td>0.706419</td>\n",
              "    </tr>\n",
              "    <tr>\n",
              "      <th>0</th>\n",
              "      <td>Baseline_XGBoost</td>\n",
              "      <td>0.750609</td>\n",
              "      <td>0.702825</td>\n",
              "      <td>0.824209</td>\n",
              "      <td>0.702825</td>\n",
              "    </tr>\n",
              "  </tbody>\n",
              "</table>\n",
              "</div>\n",
              "      <button class=\"colab-df-convert\" onclick=\"convertToInteractive('df-9dd6160a-7efa-49d1-a2d5-ff972c40f5ca')\"\n",
              "              title=\"Convert this dataframe to an interactive table.\"\n",
              "              style=\"display:none;\">\n",
              "        \n",
              "  <svg xmlns=\"http://www.w3.org/2000/svg\" height=\"24px\"viewBox=\"0 0 24 24\"\n",
              "       width=\"24px\">\n",
              "    <path d=\"M0 0h24v24H0V0z\" fill=\"none\"/>\n",
              "    <path d=\"M18.56 5.44l.94 2.06.94-2.06 2.06-.94-2.06-.94-.94-2.06-.94 2.06-2.06.94zm-11 1L8.5 8.5l.94-2.06 2.06-.94-2.06-.94L8.5 2.5l-.94 2.06-2.06.94zm10 10l.94 2.06.94-2.06 2.06-.94-2.06-.94-.94-2.06-.94 2.06-2.06.94z\"/><path d=\"M17.41 7.96l-1.37-1.37c-.4-.4-.92-.59-1.43-.59-.52 0-1.04.2-1.43.59L10.3 9.45l-7.72 7.72c-.78.78-.78 2.05 0 2.83L4 21.41c.39.39.9.59 1.41.59.51 0 1.02-.2 1.41-.59l7.78-7.78 2.81-2.81c.8-.78.8-2.07 0-2.86zM5.41 20L4 18.59l7.72-7.72 1.47 1.35L5.41 20z\"/>\n",
              "  </svg>\n",
              "      </button>\n",
              "      \n",
              "  <style>\n",
              "    .colab-df-container {\n",
              "      display:flex;\n",
              "      flex-wrap:wrap;\n",
              "      gap: 12px;\n",
              "    }\n",
              "\n",
              "    .colab-df-convert {\n",
              "      background-color: #E8F0FE;\n",
              "      border: none;\n",
              "      border-radius: 50%;\n",
              "      cursor: pointer;\n",
              "      display: none;\n",
              "      fill: #1967D2;\n",
              "      height: 32px;\n",
              "      padding: 0 0 0 0;\n",
              "      width: 32px;\n",
              "    }\n",
              "\n",
              "    .colab-df-convert:hover {\n",
              "      background-color: #E2EBFA;\n",
              "      box-shadow: 0px 1px 2px rgba(60, 64, 67, 0.3), 0px 1px 3px 1px rgba(60, 64, 67, 0.15);\n",
              "      fill: #174EA6;\n",
              "    }\n",
              "\n",
              "    [theme=dark] .colab-df-convert {\n",
              "      background-color: #3B4455;\n",
              "      fill: #D2E3FC;\n",
              "    }\n",
              "\n",
              "    [theme=dark] .colab-df-convert:hover {\n",
              "      background-color: #434B5C;\n",
              "      box-shadow: 0px 1px 3px 1px rgba(0, 0, 0, 0.15);\n",
              "      filter: drop-shadow(0px 1px 2px rgba(0, 0, 0, 0.3));\n",
              "      fill: #FFFFFF;\n",
              "    }\n",
              "  </style>\n",
              "\n",
              "      <script>\n",
              "        const buttonEl =\n",
              "          document.querySelector('#df-9dd6160a-7efa-49d1-a2d5-ff972c40f5ca button.colab-df-convert');\n",
              "        buttonEl.style.display =\n",
              "          google.colab.kernel.accessAllowed ? 'block' : 'none';\n",
              "\n",
              "        async function convertToInteractive(key) {\n",
              "          const element = document.querySelector('#df-9dd6160a-7efa-49d1-a2d5-ff972c40f5ca');\n",
              "          const dataTable =\n",
              "            await google.colab.kernel.invokeFunction('convertToInteractive',\n",
              "                                                     [key], {});\n",
              "          if (!dataTable) return;\n",
              "\n",
              "          const docLinkHtml = 'Like what you see? Visit the ' +\n",
              "            '<a target=\"_blank\" href=https://colab.research.google.com/notebooks/data_table.ipynb>data table notebook</a>'\n",
              "            + ' to learn more about interactive tables.';\n",
              "          element.innerHTML = '';\n",
              "          dataTable['output_type'] = 'display_data';\n",
              "          await google.colab.output.renderOutput(dataTable, element);\n",
              "          const docLink = document.createElement('div');\n",
              "          docLink.innerHTML = docLinkHtml;\n",
              "          element.appendChild(docLink);\n",
              "        }\n",
              "      </script>\n",
              "    </div>\n",
              "  </div>\n",
              "  "
            ],
            "text/plain": [
              "                     Classifier       AUC  Accuracy Precision    Recall\n",
              "0  Baseline_Logistic_Regression  0.727113  0.748354  0.813215  0.748354\n",
              "0        Baseline_Random_Forest  0.742181  0.706419   0.82007  0.706419\n",
              "0              Baseline_XGBoost  0.750609  0.702825  0.824209  0.702825"
            ]
          },
          "metadata": {},
          "execution_count": 43
        }
      ]
    },
    {
      "cell_type": "markdown",
      "metadata": {
        "id": "CZRKe54YGTiE"
      },
      "source": [
        "# **Drug TF-IDF Model** "
      ]
    },
    {
      "cell_type": "code",
      "execution_count": 36,
      "metadata": {
        "id": "o09pARnPk_1N"
      },
      "outputs": [],
      "source": [
        "##Training - Using_tf-idf_vectorizer_for_drugname_feature_5Folds\n",
        "##Logistic_Regression\n",
        "# baseline = pipes_training(preprocessor =[drug_tf_idf_preprocessor])\n",
        "# models = baseline.train_pipes(train_features,train_labels['outc_cod'],test_features,test_labels['outc_cod'])\n",
        "filename = folder+'models/drug_tf_idf_Logistic_Regression.pkl'\n",
        "# dillpickle.dump(models[0], open(filename, 'wb'))\n"
      ]
    },
    {
      "cell_type": "code",
      "source": [
        "###Loading Results\n",
        "drug_tfidf_logreg = dillpickle.load(open(filename, 'rb'))\n",
        "op.get_train_scores(drug_tfidf_logreg)"
      ],
      "metadata": {
        "id": "Igj-h8wgbU9J",
        "outputId": "5f2f9c81-2a3d-4167-aab0-8ee42852340e",
        "colab": {
          "base_uri": "https://localhost:8080/"
        }
      },
      "execution_count": 37,
      "outputs": [
        {
          "output_type": "stream",
          "name": "stdout",
          "text": [
            "---Algorithm performance---: \n",
            "AUC: 0.618\n",
            "Precision: 0.780\n",
            "Recall: 0.708\n",
            "Accuracy: 0.708\n",
            "-------------\n"
          ]
        }
      ]
    },
    {
      "cell_type": "code",
      "execution_count": 38,
      "metadata": {
        "id": "2do-7Jb0mNyP"
      },
      "outputs": [],
      "source": [
        "##Training - Using_tf-idf_vectorizer_for_drugname_feature_5Folds\n",
        "##Random_Forest\n",
        "# baseline = pipes_training(preprocessor =[drug_tf_idf_preprocessor])\n",
        "# models = baseline.train_pipes(train_features,train_labels['outc_cod'],test_features,test_labels['outc_cod'],params=1)\n",
        "filename = folder+'models/drug_tf_idf_Random_Forest.pkl'\n",
        "# dillpickle.dump(models[0], open(filename, 'wb'))\n"
      ]
    },
    {
      "cell_type": "code",
      "source": [
        "###Loading Results\n",
        "drug_tfidf_rforest = dillpickle.load(open(filename, 'rb'))\n",
        "op.get_train_scores(drug_tfidf_rforest)"
      ],
      "metadata": {
        "id": "ui09eWbHbSAl",
        "outputId": "c118709e-4f1c-42c5-a502-7ffb562acc43",
        "colab": {
          "base_uri": "https://localhost:8080/"
        }
      },
      "execution_count": 39,
      "outputs": [
        {
          "output_type": "stream",
          "name": "stdout",
          "text": [
            "---Algorithm performance---: \n",
            "AUC: 0.733\n",
            "Precision: 0.815\n",
            "Recall: 0.779\n",
            "Accuracy: 0.779\n",
            "-------------\n"
          ]
        }
      ]
    },
    {
      "cell_type": "code",
      "execution_count": 40,
      "metadata": {
        "id": "t0GG5_AwiN3d"
      },
      "outputs": [],
      "source": [
        "##Training - Using_tf-idf_vectorizer_for_drugname_feature_5Folds\n",
        "##XGboost\n",
        "##Set Parmeters\n",
        "# new_params_drug_tf_idf = {}\n",
        "# new_params_drug_tf_idf['feature_extractor']=[drug_tf_idf_preprocessor]\n",
        "# new_params_drug_tf_idf['classifier__sparse'] = [CSCTransformer()]\n",
        "# new_params_drug_tf_idf['classifier__num_parallel_tree'] =  [4]\n",
        "# new_params_drug_tf_idf['feature_extractor__categorical__target__min_samples_leaf']= [500]\n",
        "# new_params_drug_tf_idf['feature_extractor__drug__tf__min_df']= [0.0001,0.0005,0.001,0.05]\n",
        "# new_params_drug_tf_idf['classifier__objective'] =  ['binary:logistic']\n",
        "# new_params_drug_tf_idf['classifier__tree_method'] =  ['gpu_hist']\n",
        "# new_params_drug_tf_idf['classifier__eval_metric'] = ['auc']\n",
        "# new_params_drug_tf_idf['classifier__min_child_weight'] =  [5]\n",
        "# new_params_drug_tf_idf['classifier__gamma'] = [1]\n",
        "# new_params_drug_tf_idf['classifier__scale_pos_weight']=[0.85/0.15]\n",
        "# new_params_drug_tf_idf['classifier__subsample']=[0.5]\n",
        "# new_params_drug_tf_idf['classifier__colsample_bytree']=[0.6]\n",
        "# new_params_drug_tf_idf['classifier__max_delta_step']=[1,5]\n",
        "# new_params_drug_tf_idf['classifier__max_depth']= [5,10,20]\n",
        "# new_params_drug_tf_idf['classifier__learning_rate']= [0.001,0.1,0.2,0.4]\n",
        "\n",
        "##Training and save pickle file\n",
        "filename= folder+'models/drug_tf_idf_XGboost_lastversion.pkl'\n",
        "# drug_train =pipes_training()\n",
        "# drug_train.add_params(new_params_drug_tf_idf)\n",
        "# models = drug_train.train_pipes(train_features, train_labels['outc_cod'],test_features,test_labels['outc_cod'],default_params = False,params = 0)\n",
        "# dillpickle.dump(models[0], open(filename, 'wb'))\n",
        "\n",
        "\n",
        "\n"
      ]
    },
    {
      "cell_type": "code",
      "source": [
        "drug_tfidf_xgboost = dillpickle.load(open(filename, 'rb'))\n",
        "op.get_train_scores(drug_tfidf_xgboost)"
      ],
      "metadata": {
        "id": "EjKxtvc1ngbD",
        "outputId": "d39b17a8-8b2d-44f7-a2d3-5c86701d33ce",
        "colab": {
          "base_uri": "https://localhost:8080/"
        }
      },
      "execution_count": 41,
      "outputs": [
        {
          "output_type": "stream",
          "name": "stdout",
          "text": [
            "[02:22:07] WARNING: ../src/gbm/gbtree.cc:386: Loading from a raw memory buffer on CPU only machine.  Changing tree_method to hist.\n",
            "[02:22:07] WARNING: ../src/learner.cc:223: No visible GPU is found, setting `gpu_id` to -1\n",
            "---Algorithm performance---: \n",
            "AUC: 0.770\n",
            "Precision: 0.828\n",
            "Recall: 0.749\n",
            "Accuracy: 0.749\n",
            "-------------\n"
          ]
        }
      ]
    },
    {
      "cell_type": "code",
      "source": [
        "drug_tfidf_classifiers = {'Drug_tfidf_Logistic_Regression':drug_tfidf_logreg,'Drug_tfidf_Random_Forest':drug_tfidf_rforest, 'Drug_tfidf_XGBoost':drug_tfidf_xgboost}\n",
        "drug_tfidf_evaluation= evaluation_table(drug_tfidf_classifiers)\n",
        "drug_tfidf_evaluation"
      ],
      "metadata": {
        "id": "pbfUwJQqY9iH",
        "outputId": "4d0f8f5b-e187-4f1c-f3e7-b23600316336",
        "colab": {
          "base_uri": "https://localhost:8080/",
          "height": 143
        }
      },
      "execution_count": 45,
      "outputs": [
        {
          "output_type": "execute_result",
          "data": {
            "text/html": [
              "\n",
              "  <div id=\"df-d012d7b8-9ce8-4f01-afce-eb2a8df5541d\">\n",
              "    <div class=\"colab-df-container\">\n",
              "      <div>\n",
              "<style scoped>\n",
              "    .dataframe tbody tr th:only-of-type {\n",
              "        vertical-align: middle;\n",
              "    }\n",
              "\n",
              "    .dataframe tbody tr th {\n",
              "        vertical-align: top;\n",
              "    }\n",
              "\n",
              "    .dataframe thead th {\n",
              "        text-align: right;\n",
              "    }\n",
              "</style>\n",
              "<table border=\"1\" class=\"dataframe\">\n",
              "  <thead>\n",
              "    <tr style=\"text-align: right;\">\n",
              "      <th></th>\n",
              "      <th>Classifier</th>\n",
              "      <th>AUC</th>\n",
              "      <th>Accuracy</th>\n",
              "      <th>Precision</th>\n",
              "      <th>Recall</th>\n",
              "    </tr>\n",
              "  </thead>\n",
              "  <tbody>\n",
              "    <tr>\n",
              "      <th>0</th>\n",
              "      <td>Drug_tfidf_Logistic_Regression</td>\n",
              "      <td>0.618158</td>\n",
              "      <td>0.708459</td>\n",
              "      <td>0.780013</td>\n",
              "      <td>0.708459</td>\n",
              "    </tr>\n",
              "    <tr>\n",
              "      <th>0</th>\n",
              "      <td>Drug_tfidf_Random_Forest</td>\n",
              "      <td>0.732708</td>\n",
              "      <td>0.778941</td>\n",
              "      <td>0.815085</td>\n",
              "      <td>0.778941</td>\n",
              "    </tr>\n",
              "    <tr>\n",
              "      <th>0</th>\n",
              "      <td>Drug_tfidf_XGBoost</td>\n",
              "      <td>0.770439</td>\n",
              "      <td>0.748907</td>\n",
              "      <td>0.828117</td>\n",
              "      <td>0.748907</td>\n",
              "    </tr>\n",
              "  </tbody>\n",
              "</table>\n",
              "</div>\n",
              "      <button class=\"colab-df-convert\" onclick=\"convertToInteractive('df-d012d7b8-9ce8-4f01-afce-eb2a8df5541d')\"\n",
              "              title=\"Convert this dataframe to an interactive table.\"\n",
              "              style=\"display:none;\">\n",
              "        \n",
              "  <svg xmlns=\"http://www.w3.org/2000/svg\" height=\"24px\"viewBox=\"0 0 24 24\"\n",
              "       width=\"24px\">\n",
              "    <path d=\"M0 0h24v24H0V0z\" fill=\"none\"/>\n",
              "    <path d=\"M18.56 5.44l.94 2.06.94-2.06 2.06-.94-2.06-.94-.94-2.06-.94 2.06-2.06.94zm-11 1L8.5 8.5l.94-2.06 2.06-.94-2.06-.94L8.5 2.5l-.94 2.06-2.06.94zm10 10l.94 2.06.94-2.06 2.06-.94-2.06-.94-.94-2.06-.94 2.06-2.06.94z\"/><path d=\"M17.41 7.96l-1.37-1.37c-.4-.4-.92-.59-1.43-.59-.52 0-1.04.2-1.43.59L10.3 9.45l-7.72 7.72c-.78.78-.78 2.05 0 2.83L4 21.41c.39.39.9.59 1.41.59.51 0 1.02-.2 1.41-.59l7.78-7.78 2.81-2.81c.8-.78.8-2.07 0-2.86zM5.41 20L4 18.59l7.72-7.72 1.47 1.35L5.41 20z\"/>\n",
              "  </svg>\n",
              "      </button>\n",
              "      \n",
              "  <style>\n",
              "    .colab-df-container {\n",
              "      display:flex;\n",
              "      flex-wrap:wrap;\n",
              "      gap: 12px;\n",
              "    }\n",
              "\n",
              "    .colab-df-convert {\n",
              "      background-color: #E8F0FE;\n",
              "      border: none;\n",
              "      border-radius: 50%;\n",
              "      cursor: pointer;\n",
              "      display: none;\n",
              "      fill: #1967D2;\n",
              "      height: 32px;\n",
              "      padding: 0 0 0 0;\n",
              "      width: 32px;\n",
              "    }\n",
              "\n",
              "    .colab-df-convert:hover {\n",
              "      background-color: #E2EBFA;\n",
              "      box-shadow: 0px 1px 2px rgba(60, 64, 67, 0.3), 0px 1px 3px 1px rgba(60, 64, 67, 0.15);\n",
              "      fill: #174EA6;\n",
              "    }\n",
              "\n",
              "    [theme=dark] .colab-df-convert {\n",
              "      background-color: #3B4455;\n",
              "      fill: #D2E3FC;\n",
              "    }\n",
              "\n",
              "    [theme=dark] .colab-df-convert:hover {\n",
              "      background-color: #434B5C;\n",
              "      box-shadow: 0px 1px 3px 1px rgba(0, 0, 0, 0.15);\n",
              "      filter: drop-shadow(0px 1px 2px rgba(0, 0, 0, 0.3));\n",
              "      fill: #FFFFFF;\n",
              "    }\n",
              "  </style>\n",
              "\n",
              "      <script>\n",
              "        const buttonEl =\n",
              "          document.querySelector('#df-d012d7b8-9ce8-4f01-afce-eb2a8df5541d button.colab-df-convert');\n",
              "        buttonEl.style.display =\n",
              "          google.colab.kernel.accessAllowed ? 'block' : 'none';\n",
              "\n",
              "        async function convertToInteractive(key) {\n",
              "          const element = document.querySelector('#df-d012d7b8-9ce8-4f01-afce-eb2a8df5541d');\n",
              "          const dataTable =\n",
              "            await google.colab.kernel.invokeFunction('convertToInteractive',\n",
              "                                                     [key], {});\n",
              "          if (!dataTable) return;\n",
              "\n",
              "          const docLinkHtml = 'Like what you see? Visit the ' +\n",
              "            '<a target=\"_blank\" href=https://colab.research.google.com/notebooks/data_table.ipynb>data table notebook</a>'\n",
              "            + ' to learn more about interactive tables.';\n",
              "          element.innerHTML = '';\n",
              "          dataTable['output_type'] = 'display_data';\n",
              "          await google.colab.output.renderOutput(dataTable, element);\n",
              "          const docLink = document.createElement('div');\n",
              "          docLink.innerHTML = docLinkHtml;\n",
              "          element.appendChild(docLink);\n",
              "        }\n",
              "      </script>\n",
              "    </div>\n",
              "  </div>\n",
              "  "
            ],
            "text/plain": [
              "                       Classifier       AUC  Accuracy Precision    Recall\n",
              "0  Drug_tfidf_Logistic_Regression  0.618158  0.708459  0.780013  0.708459\n",
              "0        Drug_tfidf_Random_Forest  0.732708  0.778941  0.815085  0.778941\n",
              "0              Drug_tfidf_XGBoost  0.770439  0.748907  0.828117  0.748907"
            ]
          },
          "metadata": {},
          "execution_count": 45
        }
      ]
    },
    {
      "cell_type": "markdown",
      "metadata": {
        "id": "1jyNBYtTGa3t"
      },
      "source": [
        "# **Indication TF-IDF Model**"
      ]
    },
    {
      "cell_type": "code",
      "execution_count": 46,
      "metadata": {
        "id": "u4xsjRYbmZTf"
      },
      "outputs": [],
      "source": [
        "##Training - Using_tf-idf_vectorizer_for_indi_pt_feature_5Folds\n",
        "##Logistic_Regression\n",
        "# baseline = pipes_training(preprocessor =[indi_tf_idf_preprocessor])\n",
        "# models = baseline.train_pipes(train_features,train_labels['outc_cod'],test_features,test_labels['outc_cod'])\n",
        "filename = folder+'models/indi_tf_idf_Logistic_Regression_onehot.pkl'\n",
        "# dillpickle.dump(models[0], open(filename, 'wb'))"
      ]
    },
    {
      "cell_type": "code",
      "source": [
        "###Loading Results\n",
        "indi_tfidf_logreg = dillpickle.load(open(filename, 'rb'))\n",
        "op.get_train_scores(indi_tfidf_logreg)"
      ],
      "metadata": {
        "id": "LfCWbBzvbF4J",
        "outputId": "1ff20e06-cc59-402c-eff4-27fa9f699de6",
        "colab": {
          "base_uri": "https://localhost:8080/"
        }
      },
      "execution_count": 47,
      "outputs": [
        {
          "output_type": "stream",
          "name": "stdout",
          "text": [
            "---Algorithm performance---: \n",
            "AUC: 0.695\n",
            "Precision: 0.798\n",
            "Recall: 0.696\n",
            "Accuracy: 0.696\n",
            "-------------\n"
          ]
        }
      ]
    },
    {
      "cell_type": "code",
      "execution_count": 48,
      "metadata": {
        "id": "Jl4qk_1PnItL"
      },
      "outputs": [],
      "source": [
        "##Training - Using_tf-idf_vectorizer_for_indi_pt_feature_5Folds\n",
        "##Random_Forest\n",
        "# baseline = pipes_training(preprocessor =[indi_tf_idf_preprocessor])\n",
        "# models = baseline.train_pipes(train_features,train_labels['outc_cod'],test_features,test_labels['outc_cod'],params=1)\n",
        "filename = folder+'models/indi_tf_idf_Random_Forest.pkl'\n",
        "# dillpickle.dump(models[0], open(filename, 'wb'))\n",
        "\n"
      ]
    },
    {
      "cell_type": "code",
      "source": [
        "###Loading Results\n",
        "indi_tfidf_rforest = dillpickle.load(open(filename, 'rb'))\n",
        "op.get_train_scores(indi_tfidf_rforest)"
      ],
      "metadata": {
        "id": "ttI4u1s0bDlD",
        "outputId": "9765216e-1980-4ae4-9038-11d654d8bf92",
        "colab": {
          "base_uri": "https://localhost:8080/"
        }
      },
      "execution_count": 49,
      "outputs": [
        {
          "output_type": "stream",
          "name": "stdout",
          "text": [
            "---Algorithm performance---: \n",
            "AUC: 0.744\n",
            "Precision: 0.817\n",
            "Recall: 0.745\n",
            "Accuracy: 0.745\n",
            "-------------\n"
          ]
        }
      ]
    },
    {
      "cell_type": "code",
      "execution_count": 50,
      "metadata": {
        "id": "b48c06qi8d6G"
      },
      "outputs": [],
      "source": [
        "##Training - Using_tf-idf_vectorizer_for_indi_pt_feature_5Folds\n",
        "##XGboost\n",
        "##Set Parmeters\n",
        "# new_params_indi_tf_idf = {}\n",
        "# new_params_indi_tf_idf['feature_extractor']=[indi_tf_idf_preprocessor]\n",
        "# new_params_indi_tf_idf['classifier__sparse'] = [CSCTransformer()]\n",
        "# new_params_indi_tf_idf['classifier__num_parallel_tree'] =  [4]\n",
        "# new_params_indi_tf_idf['feature_extractor__categorical__target__min_samples_leaf']= [500]\n",
        "# new_params_indi_tf_idf['feature_extractor__indi__tf__min_df']= [0.0001,0.0005,0.001,0.05]\n",
        "# new_params_indi_tf_idf['classifier__objective'] =  ['binary:logistic']\n",
        "# new_params_indi_tf_idf['classifier__tree_method'] =  ['gpu_hist']\n",
        "# new_params_indi_tf_idf['classifier__eval_metric'] = ['auc']\n",
        "# new_params_indi_tf_idf['classifier__min_child_weight'] =  [5]\n",
        "# new_params_indi_tf_idf['classifier__gamma'] = [1]\n",
        "# new_params_indi_tf_idf['classifier__scale_pos_weight']=[0.85/0.15]\n",
        "# new_params_indi_tf_idf['classifier__subsample']=[0.5]\n",
        "# new_params_indi_tf_idf['classifier__colsample_bytree']=[0.6]\n",
        "# new_params_indi_tf_idf['classifier__max_delta_step']=[1,5]\n",
        "# new_params_indi_tf_idf['classifier__max_depth']= [10,20]\n",
        "# new_params_indi_tf_idf['classifier__learning_rate']= [0.001,0.1,0.2,0.4]\n",
        "\n",
        "\n",
        "##Training and save pickle file\n",
        "filename = folder+'models/indi_tf_idf_XGboost_last_version.pkl'\n",
        "# indi_train =pipes_training()\n",
        "# indi_train.add_params(new_params_indi_tf_idf)\n",
        "# models = indi_train.train_pipes(train_features, train_labels['outc_cod'],test_features,test_labels['outc_cod'],default_params = False,params = 0)\n",
        "# dillpickle.dump(models[0], open(filename, 'wb'))"
      ]
    },
    {
      "cell_type": "code",
      "source": [
        "# filename = '/content/drive/MyDrive/Colab Notebooks/indi_tf_idf_XGboost_last_version.pkl'\n",
        "###Loading Results\n",
        "indi_tfidf_xgboost = dillpickle.load(open(filename, 'rb'))\n",
        "op.get_train_scores(indi_tfidf_rforest)"
      ],
      "metadata": {
        "id": "VLh-TUwmNYgs",
        "outputId": "d05ff2f1-5143-487f-f9c9-7c5615c0d2af",
        "colab": {
          "base_uri": "https://localhost:8080/"
        }
      },
      "execution_count": 51,
      "outputs": [
        {
          "output_type": "stream",
          "name": "stdout",
          "text": [
            "[02:25:43] WARNING: ../src/gbm/gbtree.cc:386: Loading from a raw memory buffer on CPU only machine.  Changing tree_method to hist.\n",
            "[02:25:43] WARNING: ../src/learner.cc:223: No visible GPU is found, setting `gpu_id` to -1\n",
            "---Algorithm performance---: \n",
            "AUC: 0.744\n",
            "Precision: 0.817\n",
            "Recall: 0.745\n",
            "Accuracy: 0.745\n",
            "-------------\n"
          ]
        }
      ]
    },
    {
      "cell_type": "code",
      "source": [
        "indi_tfidf_classifiers = {'Indi_tfidf_Logistic_Regression':indi_tfidf_logreg,'Indi_tfidf_Random_Forest':indi_tfidf_rforest, 'Indi_tfidf_XGBoost':indi_tfidf_xgboost}\n",
        "indi_tfidf_evaluation= evaluation_table(indi_tfidf_classifiers)\n",
        "indi_tfidf_evaluation"
      ],
      "metadata": {
        "id": "hpzblF8tZuzt",
        "outputId": "338e6b54-87d7-422b-ac0f-a86b8daeed28",
        "colab": {
          "base_uri": "https://localhost:8080/",
          "height": 143
        }
      },
      "execution_count": 52,
      "outputs": [
        {
          "output_type": "execute_result",
          "data": {
            "text/html": [
              "\n",
              "  <div id=\"df-a7897937-47ee-4a98-a382-06b74f2b640c\">\n",
              "    <div class=\"colab-df-container\">\n",
              "      <div>\n",
              "<style scoped>\n",
              "    .dataframe tbody tr th:only-of-type {\n",
              "        vertical-align: middle;\n",
              "    }\n",
              "\n",
              "    .dataframe tbody tr th {\n",
              "        vertical-align: top;\n",
              "    }\n",
              "\n",
              "    .dataframe thead th {\n",
              "        text-align: right;\n",
              "    }\n",
              "</style>\n",
              "<table border=\"1\" class=\"dataframe\">\n",
              "  <thead>\n",
              "    <tr style=\"text-align: right;\">\n",
              "      <th></th>\n",
              "      <th>Classifier</th>\n",
              "      <th>AUC</th>\n",
              "      <th>Accuracy</th>\n",
              "      <th>Precision</th>\n",
              "      <th>Recall</th>\n",
              "    </tr>\n",
              "  </thead>\n",
              "  <tbody>\n",
              "    <tr>\n",
              "      <th>0</th>\n",
              "      <td>Indi_tfidf_Logistic_Regression</td>\n",
              "      <td>0.695089</td>\n",
              "      <td>0.696329</td>\n",
              "      <td>0.797976</td>\n",
              "      <td>0.696329</td>\n",
              "    </tr>\n",
              "    <tr>\n",
              "      <th>0</th>\n",
              "      <td>Indi_tfidf_Random_Forest</td>\n",
              "      <td>0.743579</td>\n",
              "      <td>0.745114</td>\n",
              "      <td>0.816676</td>\n",
              "      <td>0.745114</td>\n",
              "    </tr>\n",
              "    <tr>\n",
              "      <th>0</th>\n",
              "      <td>Indi_tfidf_XGBoost</td>\n",
              "      <td>0.746627</td>\n",
              "      <td>0.698335</td>\n",
              "      <td>0.819752</td>\n",
              "      <td>0.698335</td>\n",
              "    </tr>\n",
              "  </tbody>\n",
              "</table>\n",
              "</div>\n",
              "      <button class=\"colab-df-convert\" onclick=\"convertToInteractive('df-a7897937-47ee-4a98-a382-06b74f2b640c')\"\n",
              "              title=\"Convert this dataframe to an interactive table.\"\n",
              "              style=\"display:none;\">\n",
              "        \n",
              "  <svg xmlns=\"http://www.w3.org/2000/svg\" height=\"24px\"viewBox=\"0 0 24 24\"\n",
              "       width=\"24px\">\n",
              "    <path d=\"M0 0h24v24H0V0z\" fill=\"none\"/>\n",
              "    <path d=\"M18.56 5.44l.94 2.06.94-2.06 2.06-.94-2.06-.94-.94-2.06-.94 2.06-2.06.94zm-11 1L8.5 8.5l.94-2.06 2.06-.94-2.06-.94L8.5 2.5l-.94 2.06-2.06.94zm10 10l.94 2.06.94-2.06 2.06-.94-2.06-.94-.94-2.06-.94 2.06-2.06.94z\"/><path d=\"M17.41 7.96l-1.37-1.37c-.4-.4-.92-.59-1.43-.59-.52 0-1.04.2-1.43.59L10.3 9.45l-7.72 7.72c-.78.78-.78 2.05 0 2.83L4 21.41c.39.39.9.59 1.41.59.51 0 1.02-.2 1.41-.59l7.78-7.78 2.81-2.81c.8-.78.8-2.07 0-2.86zM5.41 20L4 18.59l7.72-7.72 1.47 1.35L5.41 20z\"/>\n",
              "  </svg>\n",
              "      </button>\n",
              "      \n",
              "  <style>\n",
              "    .colab-df-container {\n",
              "      display:flex;\n",
              "      flex-wrap:wrap;\n",
              "      gap: 12px;\n",
              "    }\n",
              "\n",
              "    .colab-df-convert {\n",
              "      background-color: #E8F0FE;\n",
              "      border: none;\n",
              "      border-radius: 50%;\n",
              "      cursor: pointer;\n",
              "      display: none;\n",
              "      fill: #1967D2;\n",
              "      height: 32px;\n",
              "      padding: 0 0 0 0;\n",
              "      width: 32px;\n",
              "    }\n",
              "\n",
              "    .colab-df-convert:hover {\n",
              "      background-color: #E2EBFA;\n",
              "      box-shadow: 0px 1px 2px rgba(60, 64, 67, 0.3), 0px 1px 3px 1px rgba(60, 64, 67, 0.15);\n",
              "      fill: #174EA6;\n",
              "    }\n",
              "\n",
              "    [theme=dark] .colab-df-convert {\n",
              "      background-color: #3B4455;\n",
              "      fill: #D2E3FC;\n",
              "    }\n",
              "\n",
              "    [theme=dark] .colab-df-convert:hover {\n",
              "      background-color: #434B5C;\n",
              "      box-shadow: 0px 1px 3px 1px rgba(0, 0, 0, 0.15);\n",
              "      filter: drop-shadow(0px 1px 2px rgba(0, 0, 0, 0.3));\n",
              "      fill: #FFFFFF;\n",
              "    }\n",
              "  </style>\n",
              "\n",
              "      <script>\n",
              "        const buttonEl =\n",
              "          document.querySelector('#df-a7897937-47ee-4a98-a382-06b74f2b640c button.colab-df-convert');\n",
              "        buttonEl.style.display =\n",
              "          google.colab.kernel.accessAllowed ? 'block' : 'none';\n",
              "\n",
              "        async function convertToInteractive(key) {\n",
              "          const element = document.querySelector('#df-a7897937-47ee-4a98-a382-06b74f2b640c');\n",
              "          const dataTable =\n",
              "            await google.colab.kernel.invokeFunction('convertToInteractive',\n",
              "                                                     [key], {});\n",
              "          if (!dataTable) return;\n",
              "\n",
              "          const docLinkHtml = 'Like what you see? Visit the ' +\n",
              "            '<a target=\"_blank\" href=https://colab.research.google.com/notebooks/data_table.ipynb>data table notebook</a>'\n",
              "            + ' to learn more about interactive tables.';\n",
              "          element.innerHTML = '';\n",
              "          dataTable['output_type'] = 'display_data';\n",
              "          await google.colab.output.renderOutput(dataTable, element);\n",
              "          const docLink = document.createElement('div');\n",
              "          docLink.innerHTML = docLinkHtml;\n",
              "          element.appendChild(docLink);\n",
              "        }\n",
              "      </script>\n",
              "    </div>\n",
              "  </div>\n",
              "  "
            ],
            "text/plain": [
              "                       Classifier       AUC  Accuracy Precision    Recall\n",
              "0  Indi_tfidf_Logistic_Regression  0.695089  0.696329  0.797976  0.696329\n",
              "0        Indi_tfidf_Random_Forest  0.743579  0.745114  0.816676  0.745114\n",
              "0              Indi_tfidf_XGBoost  0.746627  0.698335  0.819752  0.698335"
            ]
          },
          "metadata": {},
          "execution_count": 52
        }
      ]
    },
    {
      "cell_type": "markdown",
      "source": [
        "#**Test Set Results**"
      ],
      "metadata": {
        "id": "mx7g9X3oopJv"
      }
    },
    {
      "cell_type": "code",
      "source": [
        "classifiers = {'Baseline_Logistic_Regression':baseline_logreg,'Baseline_Random_Forest':baseline_rforest, 'Baseline_XGboost':baseline_xgboost,\n",
        "               'Baseline_Logistic_Regression':drug_tfidf_logreg,'Drug_Random_Forest':drug_tfidf_rforest,'Drug_XGboost':drug_tfidf_xgboost,'Indi_Logistic_Regression':indi_tfidf_logreg,'Indi_Random_Forest':indi_tfidf_rforest, 'Indi_XGboost':indi_tfidf_xgboost}\n",
        "\n",
        "\n",
        "op.compare_models(test_features,test_labels,classifiers)"
      ],
      "metadata": {
        "colab": {
          "base_uri": "https://localhost:8080/",
          "height": 621
        },
        "id": "DWHLRCL5qHvG",
        "outputId": "bd752e6f-ebb6-4ca2-de85-dd75e021b549"
      },
      "execution_count": 59,
      "outputs": [
        {
          "output_type": "display_data",
          "data": {
            "image/png": "[encoded data removed]",
            "text/plain": [
              "<Figure size 1440x720 with 2 Axes>"
            ]
          },
          "metadata": {
            "needs_background": "light"
          }
        }
      ]
    }
  ],
  "metadata": {
    "colab": {
      "collapsed_sections": [],
      "name": "Modeling.ipynb",
      "provenance": [],
      "include_colab_link": true
    },
    "kernelspec": {
      "display_name": "Python 3",
      "name": "python3"
    },
    "language_info": {
      "name": "python"
    }
  },
  "nbformat": 4,
  "nbformat_minor": 0
}