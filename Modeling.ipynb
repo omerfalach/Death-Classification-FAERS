{
  "cells": [
    {
      "cell_type": "markdown",
      "metadata": {
        "id": "view-in-github",
        "colab_type": "text"
      },
      "source": [
        "<a href=\"https://colab.research.google.com/github/omerfalach/Death-Classification-FAERS/blob/main/Modeling.ipynb\" target=\"_parent\"><img src=\"https://colab.research.google.com/assets/colab-badge.svg\" alt=\"Open In Colab\"/></a>"
      ]
    },
    {
      "cell_type": "code",
      "execution_count": 1,
      "metadata": {
        "colab": {
          "base_uri": "https://localhost:8080/"
        },
        "id": "anIwRoDVtmU4",
        "outputId": "5ba8af08-71ff-41a7-f7ce-98b6f18a3a12"
      },
      "outputs": [
        {
          "output_type": "stream",
          "name": "stdout",
          "text": [
            "Mounted at /content/drive/\n"
          ]
        }
      ],
      "source": [
        "##connect to google drive \n",
        "from google.colab import drive\n",
        "drive.mount('/content/drive/')"
      ]
    },
    {
      "cell_type": "code",
      "execution_count": 2,
      "metadata": {
        "colab": {
          "base_uri": "https://localhost:8080/"
        },
        "id": "VIIoAeXduMLt",
        "outputId": "6c597ce3-4e52-4936-d590-fa8032a40c1f"
      },
      "outputs": [
        {
          "output_type": "stream",
          "name": "stdout",
          "text": [
            "Collecting category_encoders\n",
            "  Downloading category_encoders-2.3.0-py2.py3-none-any.whl (82 kB)\n",
            "\u001b[?25l\r\u001b[K     |████                            | 10 kB 23.4 MB/s eta 0:00:01\r\u001b[K     |████████                        | 20 kB 10.8 MB/s eta 0:00:01\r\u001b[K     |████████████                    | 30 kB 8.1 MB/s eta 0:00:01\r\u001b[K     |████████████████                | 40 kB 7.5 MB/s eta 0:00:01\r\u001b[K     |████████████████████            | 51 kB 4.4 MB/s eta 0:00:01\r\u001b[K     |████████████████████████        | 61 kB 4.6 MB/s eta 0:00:01\r\u001b[K     |████████████████████████████    | 71 kB 4.6 MB/s eta 0:00:01\r\u001b[K     |███████████████████████████████▉| 81 kB 5.2 MB/s eta 0:00:01\r\u001b[K     |████████████████████████████████| 82 kB 388 kB/s \n",
            "\u001b[?25hRequirement already satisfied: pandas>=0.21.1 in /usr/local/lib/python3.7/dist-packages (from category_encoders) (1.1.5)\n",
            "Requirement already satisfied: scikit-learn>=0.20.0 in /usr/local/lib/python3.7/dist-packages (from category_encoders) (1.0.2)\n",
            "Requirement already satisfied: scipy>=1.0.0 in /usr/local/lib/python3.7/dist-packages (from category_encoders) (1.4.1)\n",
            "Requirement already satisfied: numpy>=1.14.0 in /usr/local/lib/python3.7/dist-packages (from category_encoders) (1.19.5)\n",
            "Requirement already satisfied: statsmodels>=0.9.0 in /usr/local/lib/python3.7/dist-packages (from category_encoders) (0.10.2)\n",
            "Requirement already satisfied: patsy>=0.5.1 in /usr/local/lib/python3.7/dist-packages (from category_encoders) (0.5.2)\n",
            "Requirement already satisfied: pytz>=2017.2 in /usr/local/lib/python3.7/dist-packages (from pandas>=0.21.1->category_encoders) (2018.9)\n",
            "Requirement already satisfied: python-dateutil>=2.7.3 in /usr/local/lib/python3.7/dist-packages (from pandas>=0.21.1->category_encoders) (2.8.2)\n",
            "Requirement already satisfied: six in /usr/local/lib/python3.7/dist-packages (from patsy>=0.5.1->category_encoders) (1.15.0)\n",
            "Requirement already satisfied: joblib>=0.11 in /usr/local/lib/python3.7/dist-packages (from scikit-learn>=0.20.0->category_encoders) (1.1.0)\n",
            "Requirement already satisfied: threadpoolctl>=2.0.0 in /usr/local/lib/python3.7/dist-packages (from scikit-learn>=0.20.0->category_encoders) (3.0.0)\n",
            "Installing collected packages: category-encoders\n",
            "Successfully installed category-encoders-2.3.0\n",
            "Collecting squarify\n",
            "  Downloading squarify-0.4.3-py3-none-any.whl (4.3 kB)\n",
            "Installing collected packages: squarify\n",
            "Successfully installed squarify-0.4.3\n",
            "Requirement already satisfied: xgboost in /usr/local/lib/python3.7/dist-packages (0.90)\n",
            "Collecting xgboost\n",
            "  Downloading xgboost-1.5.2-py3-none-manylinux2014_x86_64.whl (173.6 MB)\n",
            "\u001b[K     |████████████████████████████████| 173.6 MB 7.8 kB/s \n",
            "\u001b[?25hRequirement already satisfied: scipy in /usr/local/lib/python3.7/dist-packages (from xgboost) (1.4.1)\n",
            "Requirement already satisfied: numpy in /usr/local/lib/python3.7/dist-packages (from xgboost) (1.19.5)\n",
            "Installing collected packages: xgboost\n",
            "  Attempting uninstall: xgboost\n",
            "    Found existing installation: xgboost 0.90\n",
            "    Uninstalling xgboost-0.90:\n",
            "      Successfully uninstalled xgboost-0.90\n",
            "Successfully installed xgboost-1.5.2\n"
          ]
        }
      ],
      "source": [
        "###Installations for google colab\n",
        "!pip install category_encoders\n",
        "!pip install squarify\n",
        "!pip install --upgrade xgboost"
      ]
    },
    {
      "cell_type": "code",
      "execution_count": 3,
      "metadata": {
        "colab": {
          "base_uri": "https://localhost:8080/"
        },
        "id": "zvoUpGM8uGyM",
        "outputId": "7af3ace0-949c-4ec9-9410-e5ea950e49c8"
      },
      "outputs": [
        {
          "output_type": "stream",
          "name": "stderr",
          "text": [
            "/usr/local/lib/python3.7/dist-packages/statsmodels/tools/_testing.py:19: FutureWarning: pandas.util.testing is deprecated. Use the functions in the public API at pandas.testing instead.\n",
            "  import pandas.util.testing as tm\n"
          ]
        }
      ],
      "source": [
        "import numpy as np\n",
        "from sklearn.pipeline import Pipeline, FeatureUnion\n",
        "from sklearn.feature_extraction.text import CountVectorizer,TfidfVectorizer\n",
        "from sklearn.svm import LinearSVC\n",
        "from sklearn.feature_extraction.text import TfidfTransformer\n",
        "from sklearn.multiclass import OneVsRestClassifier\n",
        "from sklearn.preprocessing import FunctionTransformer\n",
        "from sklearn.compose import ColumnTransformer\n",
        "import pandas as pd\n",
        "import pytz\n",
        "import pickle\n",
        "# import pycountry_convert as pc\n",
        "from sklearn.preprocessing import FunctionTransformer\n",
        "from sklearn.compose import make_column_transformer\n",
        "from sklearn.base import BaseEstimator, TransformerMixin\n",
        "import random\n",
        "import pandas as pd\n",
        "import numpy as np\n",
        "import matplotlib.pyplot as plt\n",
        "import seaborn as sns\n",
        "import sklearn\n",
        "from sklearn.neighbors import KNeighborsClassifier\n",
        "from sklearn.preprocessing import LabelEncoder,OneHotEncoder\n",
        "import os\n",
        "import warnings\n",
        "import random\n",
        "from sklearn.preprocessing import StandardScaler\n",
        "import requests\n",
        "from category_encoders import TargetEncoder\n",
        "from sklearn.linear_model import LogisticRegression\n",
        "from sklearn.ensemble import RandomForestClassifier, GradientBoostingClassifier\n",
        "from sklearn.model_selection import StratifiedKFold, train_test_split, GridSearchCV, RandomizedSearchCV\n",
        "from sklearn.metrics import precision_score, roc_auc_score, recall_score, accuracy_score, make_scorer\n",
        "from sklearn.metrics import confusion_matrix, plot_confusion_matrix, roc_curve, auc,precision_recall_curve,ConfusionMatrixDisplay,RocCurveDisplay\n",
        "import sys\n",
        "import plotly.express as px\n",
        "from sklearn.model_selection import StratifiedKFold\n",
        "from scipy import stats\n",
        "from datetime import datetime as dt\n",
        "import dill as dillpickle\n",
        "import matplotlib.image as mpimg\n",
        "from xgboost import XGBClassifier\n",
        "py_file_location = \"/content/drive/MyDrive/Colab Notebooks/Project/scripts\"\n",
        "sys.path.append(os.path.abspath(py_file_location))\n",
        "import project_plots as op\n",
        "\n"
      ]
    },
    {
      "cell_type": "code",
      "execution_count": 4,
      "metadata": {
        "id": "5k6yq1adt0jF"
      },
      "outputs": [],
      "source": [
        "train_features= pd.read_csv('/content/drive/MyDrive/Colab Notebooks/Project/preprocessed_files/train_features.csv')\n",
        "test_features= pd.read_csv('/content/drive/MyDrive/Colab Notebooks/Project/preprocessed_files/test_features.csv')\n",
        "train_labels= pd.read_csv('/content/drive/MyDrive/Colab Notebooks/Project/preprocessed_files/train_labels.csv')\n",
        "test_labels= pd.read_csv('/content/drive/MyDrive/Colab Notebooks/Project/preprocessed_files/test_labels.csv')"
      ]
    },
    {
      "cell_type": "code",
      "execution_count": 5,
      "metadata": {
        "id": "N-HfqyfPW_OD"
      },
      "outputs": [],
      "source": [
        "#Read_csv read pandas column with lists as str\n",
        "def convert_str_to_list(x):\n",
        "    try:\n",
        "        z= x.strip('[]').replace(\"'\", \"\").split(',')\n",
        "        z1 = [f.strip() for f in z]\n",
        "        return  z1\n",
        "    except:\n",
        "        return x # replace with any suitable placeholder value\n",
        "train_features['indi_pt']= train_features['indi_pt'].apply(lambda x: convert_str_to_list(x) if type(x)!=float else x)\n",
        "train_features['drugname_listed']= train_features['drugname_listed'].apply(lambda x: convert_str_to_list(x) if type(x)!=float else x)\n",
        "train_features['role_cod_listed']= train_features['role_cod_listed'].apply(lambda x: convert_str_to_list(x) if type(x)!=float else x)\n",
        "test_features['indi_pt']= test_features['indi_pt'].apply(lambda x: convert_str_to_list(x) if type(x)!=float else x)\n",
        "test_features['drugname_listed']= test_features['drugname_listed'].apply(lambda x: convert_str_to_list(x) if type(x)!=float else x)\n",
        "test_features['role_cod_listed']= test_features['role_cod_listed'].apply(lambda x: convert_str_to_list(x) if type(x)!=float else x)"
      ]
    },
    {
      "cell_type": "code",
      "execution_count": 6,
      "metadata": {
        "id": "2ZtW277JVyEr"
      },
      "outputs": [],
      "source": [
        "##Defining functions for custom_preprocessors\n",
        "##agecolumn - fill missing_values\n",
        "##Transform column_transformer matrix for XGboost\n",
        "class CSCTransformer(TransformerMixin):\n",
        "    def transform(self, X, y=None, **fit_params):\n",
        "        return X.tocsc()\n",
        "\n",
        "    def fit_transform(self, X, y=None, **fit_params):\n",
        "        self.fit(X, y, **fit_params)\n",
        "        return self.transform(X)\n",
        "\n",
        "    def fit(self, X, y=None, **fit_params):\n",
        "        return self\n",
        "class ageImputer(BaseEstimator, TransformerMixin) :\n",
        "    def __init__(self, column = 'age'):\n",
        "        self.death_chances = None\n",
        "        self.live_chances = None\n",
        "        self.column = column\n",
        "        self.X1 = None\n",
        "        self.y = None\n",
        "    def get_age_new(self,d_chances,l_chances,column,out = -100):\n",
        "        try:\n",
        "            out = int(out)\n",
        "            if out == 1:\n",
        "                ages_unichoi = [random.uniform(i.left,i.right) for i in list(d_chances['age_groups'])]\n",
        "                death_ages = random.choices(ages_unichoi, weights = list(d_chances[column]), k = 1)\n",
        "                return round(death_ages[0], 1)\n",
        "            elif out==0:\n",
        "                ages_unichoi = [random.uniform(i.left,i.right) for i in list(l_chances['age_groups'])]\n",
        "                live_ages = random.choices(ages_unichoi, weights = list(l_chances[column]), k = 1)\n",
        "                return round(live_ages[0], 1)\n",
        "            else:\n",
        "                trans = random.choices(random.uniform(i.left,i.right), weights = list(d_chances[column]), k = 1)\n",
        "                return  round(trans[0], 1)\n",
        "        except:\n",
        "            return -1\n",
        "\n",
        "    def fit(self, X, y=None):\n",
        "        self.y = y\n",
        "        self.X1 = X.merge(self.y, right_index=True, left_index=True)\n",
        "        X_fixed_age_not_null = self.X1[self.X1[self.column].notnull()]\n",
        "        death = X_fixed_age_not_null[X_fixed_age_not_null['outc_cod']==1]\n",
        "        live = X_fixed_age_not_null[X_fixed_age_not_null['outc_cod']==0]\n",
        "        self.death_chances = death[self.column].value_counts(bins= 2 ,normalize = True).to_frame()\n",
        "        self.death_chances = self.death_chances.reset_index().rename(columns = {'index':'age_groups'})\n",
        "        self.live_chances = live[self.column].value_counts(bins= 2 ,normalize = True).to_frame()\n",
        "        self.live_chances =self.live_chances.reset_index().rename(columns = {'index':'age_groups'})\n",
        "        self.X1[self.column] = self.X1.apply(lambda row: self.get_age_new(self.death_chances,self.live_chances,self.column,row['outc_cod']) if np.isnan(row[self.column]) else row[self.column],axis=1)\n",
        "        X.iloc[:, 0] = self.X1[self.column]\n",
        "        return  self                      \n",
        "    def transform(self, X, y=None):\n",
        "        X1 = X.copy()\n",
        "        X1.iloc[:, 0] = X1.iloc[:, 0].apply(lambda row: self.get_age_new(self.death_chances,self.live_chances,self.column) if np.isnan(row) else row)\n",
        "        return X1\n",
        "###convert_sex_values_to_integer_and_fillna_randomaly\n",
        "def sex_change(x):\n",
        "    if x =='M':\n",
        "        return 0\n",
        "    elif x == 'F':\n",
        "        return 1\n",
        "    else:\n",
        "        return random.choice([0,1])\n",
        "def sex_transform_to_pipe(data):\n",
        "    z = data.apply(lambda x: [sex_change(t) for t in x])\n",
        "    return z\n",
        "def convert_df_column_to_list(data):\n",
        "    d = list(data.iloc[:, 0])\n",
        "    return d"
      ]
    },
    {
      "cell_type": "code",
      "execution_count": 7,
      "metadata": {
        "id": "FNdMDCMQWLaU"
      },
      "outputs": [],
      "source": [
        "drug_feature = ['drugname_listed']\n",
        "age_feature = ['age']\n",
        "sex_feature = ['sex']\n",
        "cat_features = ['occr_country']\n",
        "indi_feature = ['indi_pt']\n",
        "catall_features = ['drugname','occr_country']\n",
        "all_features = ['age','sex','drugname','occr_country']\n",
        "sex_transformer = Pipeline(steps=[('se',FunctionTransformer(sex_transform_to_pipe)),('onehot', OneHotEncoder())])\n",
        "target_encoding_transformer = Pipeline(steps = [('target',TargetEncoder())])\n",
        "tfidf_transformer=  Pipeline(steps=[\n",
        "    ('extract_list',FunctionTransformer(convert_df_column_to_list,validate=False)),\n",
        "    ('tf',TfidfVectorizer(analyzer = 'word',tokenizer=lambda x: x,\n",
        "                        preprocessor=lambda x: x,lowercase = False))])\n",
        "ageImputer_transformer = Pipeline(steps = \n",
        "    [(\"age\", ageImputer()),\n",
        "        ('scale', StandardScaler())])\n",
        "drug_tf_idf_preprocessor =ColumnTransformer(transformers = [\n",
        "    ('sex',sex_transformer,sex_feature),\n",
        "    ('age2',ageImputer_transformer,age_feature),\n",
        "    ('drug',tfidf_transformer,drug_feature),\n",
        "    ('categorical',target_encoding_transformer,cat_features)\n",
        "])\n",
        "indi_tf_idf_preprocessor =ColumnTransformer(transformers = [\n",
        "    ('sex',sex_transformer,sex_feature),\n",
        "    ('age2',ageImputer_transformer,age_feature),\n",
        "    ('indi',tfidf_transformer,indi_feature),\n",
        "    ('categorical',target_encoding_transformer,cat_features)\n",
        "])\n",
        "baseline_preprocessor = ColumnTransformer(transformers = [\n",
        "    ('sex',sex_transformer,sex_feature),\n",
        "    ('age',ageImputer_transformer,age_feature),\n",
        "    ('categorical',target_encoding_transformer,catall_features)])"
      ]
    },
    {
      "cell_type": "code",
      "execution_count": 8,
      "metadata": {
        "id": "1ZcaiI-EWX0i"
      },
      "outputs": [],
      "source": [
        "class set_modeling():\n",
        "    def __init__(self, num_val_folds = 5):\n",
        "        #Initialze the general parameters\n",
        "        self.score_to_optimize = 'AUC'\n",
        "        self.verbose = 10\n",
        "        self.n_experiments = int(1e1)\n",
        "        self.n_jobs=-2 \n",
        "        self.num_val_folds = num_val_folds\n",
        "        self.splitter = StratifiedKFold(self.num_val_folds)\n",
        "        #Initiaze scorers\n",
        "        self.auc_scorer = None\n",
        "        self.precision_scorer = None\n",
        "        self.recall_scorer = None\n",
        "        self.precision_recall_scorer = None\n",
        "        self.scorers = dict\n",
        "        self.hyper_opt = None \n",
        "    ##get roc_auc_score\n",
        "    def get_roc_auc(self,gt, pred):\n",
        "        return roc_auc_score(gt, pred, average='weighted')\n",
        "    def get_precision(self,gt, pred):\n",
        "        return precision_score(gt, pred, average='weighted')\n",
        "    def get_recall(self,gt, pred):\n",
        "        return recall_score(gt, pred, average='weighted')\n",
        "    def get_precision_recall_fscore_support(self,gt, pred):\n",
        "        precision,recall,f2_score,support = precision_recall_fscore_support(gt, pred,beta = 2,average='weighted')\n",
        "        return f2_score\n",
        "    def set_scorers(self):\n",
        "        self.auc_scorer = make_scorer(self.get_roc_auc, needs_proba=True)\n",
        "        self.precision_scorer = make_scorer(self.get_precision)\n",
        "        self.recall_scorer = make_scorer(self.get_recall)\n",
        "        self.precision_recall_scorer = make_scorer(self.get_precision_recall_fscore_support)\n",
        "        self.scorers = {'AUC':  self.auc_scorer, \n",
        "           'Precision': self.precision_scorer, 'Recall': self.recall_scorer,\n",
        "           'Accuracy': 'accuracy'}\n",
        "    def optimize_predict(self,train_features, train_labels,test_features,test_labels,pipeline,param):\n",
        "        print(type(train_labels[0:10]))\n",
        "        self.set_scorers()\n",
        "        self.hyper_opt = RandomizedSearchCV(pipeline, param,n_iter = self.n_experiments,\n",
        "                           scoring = self.scorers, n_jobs =  self.n_jobs, cv=self.splitter,\n",
        "                           refit=self.score_to_optimize,pre_dispatch =2,\n",
        "                           return_train_score=False, verbose=self.verbose)\n",
        "        tr_val_sequences, tr_val_labels = train_features, train_labels\n",
        "        num_label_apperances = tr_val_labels.value_counts()\n",
        "        min_label_apperances = min(num_label_apperances)\n",
        "        if self.num_val_folds > min_label_apperances:\n",
        "            self.hyper_opt.cv = StratifiedKFold(min_label_apperances)\n",
        "        start_time = dt.now()\n",
        "        print(f\"Fitting (training) the models and performing hyper parameter search. \"\n",
        "              f\"Time: {start_time}\")\n",
        "        self.hyper_opt.fit(tr_val_sequences, tr_val_labels)\n",
        "        best_ind = self.hyper_opt.best_index_\n",
        "        scores = {}\n",
        "        for scorer in self.scorers:\n",
        "            scores[scorer] = self.hyper_opt.cv_results_['mean_test_' + scorer][best_ind]\n",
        "        scores_str = '\\n'.join(f\"{k}: {v:.3f}\" for k, v in scores.items())\n",
        "        print(f'---Algorithm performance---: \\n{scores_str}\\n-------------')\n",
        "\n",
        "\n",
        "        end_time = dt.now()\n",
        "        duration = (end_time - start_time).total_seconds()\n",
        "        print(f'Training took {duration} seconds')\n"
      ]
    },
    {
      "cell_type": "code",
      "execution_count": 9,
      "metadata": {
        "id": "xpaZ9mD0Wadf"
      },
      "outputs": [],
      "source": [
        "class pipes_training(set_modeling):\n",
        "        def __init__(self, preprocessor = None,num_val_folds = 5):\n",
        "            set_modeling.__init__(self)\n",
        "            self.reg_coef_logrange = (0, 3, 5)\n",
        "            self.min_dfs_logrange = (0, 2, 1)\n",
        "            # Initialze featuers\n",
        "            self.drug_feature = ['drugname']\n",
        "            self.age_feature = ['age']\n",
        "            self.sex_feature = ['sex']\n",
        "            self.cat_features = ['occr_country']\n",
        "            self.catall_features = ['drugname','occr_country']\n",
        "            self.naive_preprocessor = preprocessor\n",
        "            # Initialze the estimators\n",
        "            self.clf1 = LogisticRegression()\n",
        "            self.clf2 = RandomForestClassifier()\n",
        "            self.clf3 = XGBClassifier()\n",
        "            # self.classifiers = [self.clf1,self.clf2]\n",
        "            self.classifiers = [self.clf1]\n",
        "            self.models = []\n",
        "            # Initiaze dictionaries for hyperparameters\n",
        "            self.param1 = {}\n",
        "            self.param2 = {}\n",
        "            self.param3 = {}\n",
        "            self.params = {}\n",
        "        def log_range(self,lower, upper, samples_per_decade, is_int=True):\n",
        "            samples = 1 + (upper - lower) * samples_per_decade\n",
        "            samples = int(round(samples))\n",
        "            if is_int:\n",
        "                return [int(round(i)) for i in np.logspace(lower, upper, samples)]\n",
        "            else:\n",
        "                return list(np.logspace(lower, upper, samples))\n",
        "        def set_hyperparameters(self): #hyperparameters for each classifier\n",
        "            ##fill logistic regression parameters\n",
        "            self.param1['feature_extractor']= self.naive_preprocessor\n",
        "            # self.param1['feature_extractor__indi__tf__min_df']= [0.01,0.05,0.1]\n",
        "            self.param1['feature_extractor__categorical__target__min_samples_leaf']= [200,1000,2000]\n",
        "            self.param1['classifier__solver']=['lbfgs']\n",
        "            self.param1['classifier__multi_class']=['auto']\n",
        "            self.param1['classifier__max_iter']=[int(1e6)]\n",
        "            self.param1['classifier__class_weight']=['balanced']\n",
        "            self.param1['classifier__C'] = self.log_range(*self.reg_coef_logrange, is_int=False)\n",
        "#             self.param1['classifier__penalty'] = ['l1', 'l2']\n",
        "            self.param1['classifier'] = [self.clf1]\n",
        "\n",
        "             ##fill randomforest parameters\n",
        "            self.param2['feature_extractor__categorical__target__min_samples_leaf']= [200,1000]\n",
        "            self.param2['feature_extractor']=self.naive_preprocessor\n",
        "            self.param2['classifier__n_estimators'] = [10]\n",
        "            self.param2['classifier__max_depth'] = [5, 10, 20]\n",
        "            self.param2['classifier__class_weight'] = ['balanced_subsample']\n",
        "            self.param2['classifier'] = [self.clf2]\n",
        "\n",
        "            ##fill knn parameters\n",
        "            self.param3['feature_extractor']=[naive_preprocessor],\n",
        "            self.param3['classifier'] = [self.clf3]\n",
        "\n",
        "            if self.naive_preprocessor==drug_tf_idf_preprocessor:\n",
        "                    self.param1['feature_extractor__drug__tf__min_df']= [0.001,0.005,0.01,0.05]\n",
        "                    self.param2['feature_extractor__drug__tf__min_df']= [0.001,0.005,0.01,0.05]\n",
        "            if self.naive_preprocessor==indi_tf_idf_preprocessor:\n",
        "                    self.param1['feature_extractor__indi__tf__min_df']= [0.001,0.005,0.01,0.05]\n",
        "                    self.param2['feature_extractor__indi__tf__min_df']= [0.001,0.005,0.01,0.05]\n",
        "\n",
        "            self.params = [self.param1,self.param2,self.param3]\n",
        "        def add_params(self,new_params):\n",
        "          self.params.append(new_params)\n",
        "        def train_pipes(self,train_features, train_labels,test_features,test_labels,default_params = True,params = 0):\n",
        "                if default_params ==True:\n",
        "                    self.set_hyperparameters()\n",
        "                params_for_tuning = self.params[params]\n",
        "                for i in self.classifiers:\n",
        "                    print(i)\n",
        "                    p = Pipeline(steps = [('feature_extractor','passthrough'),('classifier',i)])\n",
        "#                     print(p)\n",
        "                    self.optimize_predict(train_features, train_labels,test_features,test_labels,p, params_for_tuning)\n",
        "                    self.models.append(self.hyper_opt)\n",
        "                return self.models"
      ]
    },
    {
      "cell_type": "markdown",
      "metadata": {
        "id": "aTTl2KDZp-f9"
      },
      "source": [
        "# ***Baseline Model***\n"
      ]
    },
    {
      "cell_type": "code",
      "execution_count": 10,
      "metadata": {
        "colab": {
          "base_uri": "https://localhost:8080/"
        },
        "id": "Dca5Pt4j7Q9g",
        "outputId": "492c3eff-d055-4b11-8eed-be3f4ffc5eb8"
      },
      "outputs": [
        {
          "output_type": "stream",
          "name": "stdout",
          "text": [
            "---Algorithm performance---: \n",
            "AUC: 0.725\n",
            "Precision: 0.812\n",
            "Recall: 0.755\n",
            "Accuracy: 0.755\n",
            "-------------\n"
          ]
        }
      ],
      "source": [
        "##Training - Baseline model_5Folds\n",
        "##Logistic_Regression\n",
        "# baseline = pipes_training(preprocessor = [baseline_preprocessor])\n",
        "# models = baseline.train_pipes(train_features,train_labels['outc_cod'],test_features,test_labels['outc_cod'])\n",
        "filename = '/content/drive/MyDrive/Colab Notebooks/Project/models/baseline_traget_encoding_Logistic_Regression.pkl'\n",
        "# pickle.dump(models[0], open(filename, 'wb'))\n",
        "###Results\n",
        "baseline_logreg = dillpickle.load(open(filename, 'rb'))\n",
        "op.get_train_scores(baseline_logreg)"
      ]
    },
    {
      "cell_type": "code",
      "execution_count": 11,
      "metadata": {
        "colab": {
          "base_uri": "https://localhost:8080/"
        },
        "id": "NzZRqfRkj_vF",
        "outputId": "0aaaae56-acb8-4ecc-fde7-785ed7aea51c"
      },
      "outputs": [
        {
          "output_type": "stream",
          "name": "stdout",
          "text": [
            "---Algorithm performance---: \n",
            "AUC: 0.743\n",
            "Precision: 0.821\n",
            "Recall: 0.703\n",
            "Accuracy: 0.703\n",
            "-------------\n"
          ]
        }
      ],
      "source": [
        "##Training - Baseline model_5Folds\n",
        "##Random_Forest\n",
        "\n",
        "##Training and save pickle file\n",
        "# baseline = pipes_training(preprocessor = [baseline_preprocessor])\n",
        "# models = baseline.train_pipes(train_features,train_labels['outc_cod'],test_features,test_labels['outc_cod'],params=1)\n",
        "filename = '/content/drive/MyDrive/Colab Notebooks/Project/models/baseline_traget_encoding_Random_Forest.pkl'\n",
        "# pickle.dump(models[0], open(filename, 'wb'))\n",
        "\n",
        "###Loading Results\n",
        "baseline_rforest = dillpickle.load(open(filename, 'rb'))\n",
        "op.get_train_scores(baseline_rforest)"
      ]
    },
    {
      "cell_type": "code",
      "execution_count": 12,
      "metadata": {
        "colab": {
          "base_uri": "https://localhost:8080/"
        },
        "id": "UWppmTMRq1j2",
        "outputId": "9192771a-f305-4f59-d755-62e4591c3db1"
      },
      "outputs": [
        {
          "output_type": "stream",
          "name": "stdout",
          "text": [
            "[06:07:44] WARNING: ../src/gbm/gbtree.cc:386: Loading from a raw memory buffer on CPU only machine.  Changing tree_method to hist.\n",
            "[06:07:44] WARNING: ../src/learner.cc:223: No visible GPU is found, setting `gpu_id` to -1\n",
            "---Algorithm performance---: \n",
            "AUC: 0.751\n",
            "Precision: 0.824\n",
            "Recall: 0.703\n",
            "Accuracy: 0.703\n",
            "-------------\n"
          ]
        }
      ],
      "source": [
        "##Training - Baseline model_5Folds\n",
        "##XGboost\n",
        "\n",
        "#Set Parameters\n",
        "# new_params_baseline = {}\n",
        "# new_params_baseline['feature_extractor']=[baseline_preprocessor]\n",
        "# new_params_baseline['classifier__num_parallel_tree'] =  [4]\n",
        "# new_params_baseline['feature_extractor__categorical__target__min_samples_leaf']= [300]\n",
        "# new_params_baseline['classifier__objective'] =  ['binary:logistic']\n",
        "# new_params_baseline['classifier__tree_method'] =  ['gpu_hist']\n",
        "# new_params_baseline['classifier__eval_metric'] = ['auc']\n",
        "# new_params_baseline['classifier__min_child_weight'] =  [2,5]\n",
        "# new_params_baseline['classifier__gamma'] = [1]\n",
        "# new_params_baseline['classifier__scale_pos_weight']=[0.85/0.15]\n",
        "# new_params_baseline['classifier__subsample']=[0.5]\n",
        "# new_params_baseline['classifier__colsample_bytree']=[0.6]\n",
        "# new_params_baseline['classifier__max_delta_step']=[10]\n",
        "# new_params_baseline['classifier__max_depth']= [20]\n",
        "# new_params_baseline['classifier__learning_rate']= [0.001,0.01]\n",
        "\n",
        "##Training and save pickle file\n",
        "# baseline = pipes_training(preprocessor = [baseline_preprocessor])\n",
        "# models = baseline.train_pipes(train_features,train_labels['outc_cod'],test_features,test_labels['outc_cod'],params=0)\n",
        "filename = '/content/drive/MyDrive/Colab Notebooks/Project/models/baseline_traget_encoding_XGboost.pkl'\n",
        "# pickle.dump(models[0], open(filename, 'wb'))\n",
        "\n",
        "###Loading Results\n",
        "baseline_xgboost = dillpickle.load(open(filename, 'rb'))\n",
        "op.get_train_scores(baseline_xgboost)"
      ]
    },
    {
      "cell_type": "markdown",
      "metadata": {
        "id": "CZRKe54YGTiE"
      },
      "source": [
        "# **Drug TF-IDF Model** "
      ]
    },
    {
      "cell_type": "code",
      "execution_count": 13,
      "metadata": {
        "id": "o09pARnPk_1N",
        "colab": {
          "base_uri": "https://localhost:8080/"
        },
        "outputId": "0ef11592-9e03-4296-e955-064b25285c9e"
      },
      "outputs": [
        {
          "output_type": "stream",
          "name": "stdout",
          "text": [
            "---Algorithm performance---: \n",
            "AUC: 0.618\n",
            "Precision: 0.780\n",
            "Recall: 0.708\n",
            "Accuracy: 0.708\n",
            "-------------\n"
          ]
        }
      ],
      "source": [
        "##Training - Using_tf-idf_vectorizer_for_drugname_feature_5Folds\n",
        "##Logistic_Regression\n",
        "# baseline = pipes_training(preprocessor =[drug_tf_idf_preprocessor])\n",
        "# models = baseline.train_pipes(train_features,train_labels['outc_cod'],test_features,test_labels['outc_cod'])\n",
        "filename = '/content/drive/MyDrive/Colab Notebooks/Project/models/drug_tf_idf_Logistic_Regression.pkl'\n",
        "# pickle.dump(models[0], open(filename, 'wb'))\n",
        "###Results\n",
        "drug_tfidf_logreg = dillpickle.load(open(filename, 'rb'))\n",
        "op.get_train_scores(drug_tfidf_logreg)"
      ]
    },
    {
      "cell_type": "code",
      "execution_count": 14,
      "metadata": {
        "colab": {
          "base_uri": "https://localhost:8080/"
        },
        "id": "2do-7Jb0mNyP",
        "outputId": "bbc856a5-dc7b-431b-f6b8-1c215eff609f"
      },
      "outputs": [
        {
          "output_type": "stream",
          "name": "stdout",
          "text": [
            "---Algorithm performance---: \n",
            "AUC: 0.733\n",
            "Precision: 0.815\n",
            "Recall: 0.779\n",
            "Accuracy: 0.779\n",
            "-------------\n"
          ]
        }
      ],
      "source": [
        "##Training - Using_tf-idf_vectorizer_for_drugname_feature_5Folds\n",
        "##Random_Forest\n",
        "# baseline = pipes_training(preprocessor =[drug_tf_idf_preprocessor])\n",
        "# models = baseline.train_pipes(train_features,train_labels['outc_cod'],test_features,test_labels['outc_cod'],params=1)\n",
        "filename = '/content/drive/MyDrive/Colab Notebooks/Project/models/drug_tf_idf_Random_Forest.pkl'\n",
        "# pickle.dump(models[0], open(filename, 'wb'))\n",
        "###Results\n",
        "drug_tfidf_rforest = dillpickle.load(open(filename, 'rb'))\n",
        "op.get_train_scores(drug_tfidf_rforest)"
      ]
    },
    {
      "cell_type": "code",
      "execution_count": 15,
      "metadata": {
        "colab": {
          "base_uri": "https://localhost:8080/",
          "height": 198
        },
        "id": "t0GG5_AwiN3d",
        "outputId": "15180d6c-6e29-455c-b7d7-6c72d58ff76d"
      },
      "outputs": [
        {
          "output_type": "execute_result",
          "data": {
            "text/plain": [
              "(-0.5, 237.5, 105.5, -0.5)"
            ]
          },
          "metadata": {},
          "execution_count": 15
        },
        {
          "output_type": "display_data",
          "data": {
            "image/png": "[encoded data removed]",
            "text/plain": [
              "<Figure size 432x288 with 1 Axes>"
            ]
          },
          "metadata": {
            "needs_background": "light"
          }
        }
      ],
      "source": [
        "##Training - Using_tf-idf_vectorizer_for_drugname_feature_5Folds\n",
        "##XGboost\n",
        "##Set Parmeters\n",
        "# new_params_drug_tf_idf = {}\n",
        "# new_params_drug_tf_idf['feature_extractor']=[drug_tf_idf_preprocessor]\n",
        "# new_params_drug_tf_idf['sparse'] = [CSCTransformer()]\n",
        "# new_params_drug_tf_idf['classifier__num_parallel_tree'] =  [4]\n",
        "# new_params_drug_tf_idf['feature_extractor__categorical__target__min_samples_leaf']= [500]\n",
        "# new_params_drug_tf_idf['feature_extractor__drug__tf__min_df']= [0.0001,0.0005,0.001,0.05]\n",
        "# new_params_drug_tf_idf['classifier__objective'] =  ['binary:logistic']\n",
        "# new_params_drug_tf_idf['classifier__tree_method'] =  ['gpu_hist']\n",
        "# new_params_drug_tf_idf['classifier__eval_metric'] = ['auc']\n",
        "# new_params_drug_tf_idf['classifier__min_child_weight'] =  [5]\n",
        "# new_params_drug_tf_idf['classifier__gamma'] = [1]\n",
        "# new_params_drug_tf_idf['classifier__scale_pos_weight']=[0.85/0.15]\n",
        "# new_params_drug_tf_idf['classifier__subsample']=[0.5]\n",
        "# new_params_drug_tf_idf['classifier__colsample_bytree']=[0.6]\n",
        "# new_params_drug_tf_idf['classifier__max_delta_step']=[1]\n",
        "# new_params_drug_tf_idf['classifier__max_depth']= [10,20]\n",
        "# new_params_drug_tf_idf['classifier__learning_rate']= [0.001,0.1,0.2,0.4]\n",
        "\n",
        "##Training and save pickle file\n",
        "# filename = '/content/drive/MyDrive/Colab Notebooks/drug_tf_idf_XGboost.pkl'\n",
        "# drug_train =pipes_training()\n",
        "# drug_train.add_params(new_params_drug_tf_idf)\n",
        "# models = drug_train.train_pipes(train_features, train_labels['outc_cod'],test_features,test_labels['outc_cod'],default_params = False,params = 0)\n",
        "# pickle.dump(models[0], open(filename, 'wb'))\n",
        "\n",
        "\n",
        "\n",
        "###Loading Results\n",
        "filename_csv = '/content/drive/MyDrive/Colab Notebooks/Project/models/drug_tf_idf_XGboost.csv'\n",
        "results = '/content/drive/MyDrive/Colab Notebooks/Project/models/drug_tf_idf_XGboost_results.PNG'\n",
        "##Pickle created with other pandas version(Kaggle), cant be loaded as pickle file\n",
        "# drug_tf_idf_XGBoost = dillpickle.load(open(filename, 'rb'))\n",
        "xgboost_drug_results = pd.read_csv(filename_csv)\n",
        "image = mpimg.imread(results)\n",
        "plt.imshow(image)\n",
        "plt.axis('off')"
      ]
    },
    {
      "cell_type": "markdown",
      "metadata": {
        "id": "1jyNBYtTGa3t"
      },
      "source": [
        "# **Indication TF-IDF Model**"
      ]
    },
    {
      "cell_type": "code",
      "execution_count": 16,
      "metadata": {
        "colab": {
          "base_uri": "https://localhost:8080/"
        },
        "id": "u4xsjRYbmZTf",
        "outputId": "7fe5b918-c76f-4a29-e96d-bde5a525f893"
      },
      "outputs": [
        {
          "output_type": "stream",
          "name": "stdout",
          "text": [
            "---Algorithm performance---: \n",
            "AUC: 0.695\n",
            "Precision: 0.798\n",
            "Recall: 0.696\n",
            "Accuracy: 0.696\n",
            "-------------\n"
          ]
        }
      ],
      "source": [
        "##Training - Using_tf-idf_vectorizer_for_indi_pt_feature_5Folds\n",
        "##Logistic_Regression\n",
        "# baseline = pipes_training(preprocessor =[indi_tf_idf_preprocessor])\n",
        "# models = baseline.train_pipes(train_features,train_labels['outc_cod'],test_features,test_labels['outc_cod'])\n",
        "filename = '/content/drive/MyDrive/Colab Notebooks/Project/models/indi_tf_idf_Logistic_Regression_onehot.pkl'\n",
        "# pickle.dump(models[0], open(filename, 'wb'))\n",
        "###Results\n",
        "indi_tfidf_logreg = dillpickle.load(open(filename, 'rb'))\n",
        "op.get_train_scores(indi_tfidf_logreg)"
      ]
    },
    {
      "cell_type": "code",
      "execution_count": 17,
      "metadata": {
        "colab": {
          "base_uri": "https://localhost:8080/"
        },
        "id": "Jl4qk_1PnItL",
        "outputId": "09d87ffd-b5ec-4c16-ad76-671f19441765"
      },
      "outputs": [
        {
          "output_type": "stream",
          "name": "stdout",
          "text": [
            "---Algorithm performance---: \n",
            "AUC: 0.744\n",
            "Precision: 0.817\n",
            "Recall: 0.745\n",
            "Accuracy: 0.745\n",
            "-------------\n"
          ]
        }
      ],
      "source": [
        "##Training - Using_tf-idf_vectorizer_for_indi_pt_feature_5Folds\n",
        "##Random_Forest\n",
        "# baseline = pipes_training(preprocessor =[indi_tf_idf_preprocessor])\n",
        "# models = baseline.train_pipes(train_features,train_labels['outc_cod'],test_features,test_labels['outc_cod'],params=1)\n",
        "filename = '/content/drive/MyDrive/Colab Notebooks/Project/models/indi_tf_idf_Random_Forest.pkl'\n",
        "# pickle.dump(models[0], open(filename, 'wb'))\n",
        "###Results\n",
        "indi_tfidf_rforest = dillpickle.load(open(filename, 'rb'))\n",
        "op.get_train_scores(indi_tfidf_rforest)\n"
      ]
    },
    {
      "cell_type": "code",
      "execution_count": 18,
      "metadata": {
        "colab": {
          "base_uri": "https://localhost:8080/",
          "height": 165
        },
        "id": "b48c06qi8d6G",
        "outputId": "3a4fb8ef-0b3a-4000-d7f8-a8f02a9e8e6a"
      },
      "outputs": [
        {
          "output_type": "execute_result",
          "data": {
            "text/plain": [
              "(-0.5, 265.5, 91.5, -0.5)"
            ]
          },
          "metadata": {},
          "execution_count": 18
        },
        {
          "output_type": "display_data",
          "data": {
            "image/png": "[encoded data removed]",
            "text/plain": [
              "<Figure size 432x288 with 1 Axes>"
            ]
          },
          "metadata": {
            "needs_background": "light"
          }
        }
      ],
      "source": [
        "##Training - Using_tf-idf_vectorizer_for_indi_pt_feature_5Folds\n",
        "##XGboost\n",
        "##Set Parmeters\n",
        "# new_params_indi_tf_idf = {}\n",
        "# new_params_indi_tf_idf['feature_extractor']=[indi_tf_idf_preprocessor]\n",
        "# new_params_indi_tf_idf['sparse'] = [CSCTransformer()]\n",
        "# new_params_indi_tf_idf['classifier__num_parallel_tree'] =  [4]\n",
        "# new_params_indi_tf_idf['feature_extractor__categorical__target__min_samples_leaf']= [500]\n",
        "# new_params_indi_tf_idf['feature_extractor__indi__tf__min_df']= [0.0001,0.0005,0.001,0.05]\n",
        "# new_params_indi_tf_idf['classifier__objective'] =  ['binary:logistic']\n",
        "# new_params_indi_tf_idf['classifier__tree_method'] =  ['gpu_hist']\n",
        "# new_params_indi_tf_idf['classifier__eval_metric'] = ['auc']\n",
        "# new_params_indi_tf_idf['classifier__min_child_weight'] =  [5]\n",
        "# new_params_indi_tf_idf['classifier__gamma'] = [1]\n",
        "# new_params_indi_tf_idf['classifier__scale_pos_weight']=[0.85/0.15]\n",
        "# new_params_indi_tf_idf['classifier__subsample']=[0.5]\n",
        "# new_params_indi_tf_idf['classifier__colsample_bytree']=[0.6]\n",
        "# new_params_indi_tf_idf['classifier__max_delta_step']=[1,5]\n",
        "# new_params_indi_tf_idf['classifier__max_depth']= [10,20]\n",
        "# new_params_indi_tf_idf['classifier__learning_rate']= [0.001,0.1,0.2,0.4]\n",
        "\n",
        "\n",
        "##Training and save pickle file\n",
        "# filename = '/content/drive/MyDrive/Colab Notebooks/indi_tf_idf_XGboost.pkl'\n",
        "# indi_train =pipes_training()\n",
        "# indi_train.add_params(new_params_indi_tf_idf)\n",
        "# models = indi_train.train_pipes(train_features, train_labels['outc_cod'],test_features,test_labels['outc_cod'],default_params = False,params = 0)\n",
        "# pickle.dump(models[0], open(filename, 'wb'))\n",
        "\n",
        "# pickle.dump(models[0], open(filename, 'wb'))\n",
        "###Loading Results\n",
        "##Pickle created with other pandas version(Kaggle), cant be loaded as pickle\n",
        "#indi_tf_idf_XGBoost = dillpickle.load(open(filename, 'rb'))\n",
        "filename_csv = '/content/drive/MyDrive/Colab Notebooks/Project/models/indi_tf_idf_XGboost_results.csv'\n",
        "results = '/content/drive/MyDrive/Colab Notebooks/Project/models/indi_tf_idf_XGboost_results.PNG'\n",
        "xgboost_indi_results = pd.read_csv(filename_csv)\n",
        "image = mpimg.imread(results)\n",
        "plt.imshow(image)\n",
        "plt.axis('off')"
      ]
    },
    {
      "cell_type": "markdown",
      "source": [
        "**Best Classifieres Comparsion**"
      ],
      "metadata": {
        "id": "mx7g9X3oopJv"
      }
    },
    {
      "cell_type": "code",
      "source": [
        "best_classifiers = {'Baseline_XGboost':baseline_xgboost,'Drug_XGboost':xgboost_drug_results, 'Indi_XGboost':xgboost_indi_results}\n",
        "compare_models(test_features,test_labels,best_classifiers)"
      ],
      "metadata": {
        "colab": {
          "base_uri": "https://localhost:8080/",
          "height": 621
        },
        "id": "DWHLRCL5qHvG",
        "outputId": "db12319d-66ca-4535-b0a2-204d4b2bb6ea"
      },
      "execution_count": 22,
      "outputs": [
        {
          "output_type": "display_data",
          "data": {
            "image/png": "[encoded data removed]",
            "text/plain": [
              "<Figure size 1440x720 with 2 Axes>"
            ]
          },
          "metadata": {
            "needs_background": "light"
          }
        }
      ]
    },
    {
      "cell_type": "code",
      "execution_count": 20,
      "metadata": {
        "id": "pNXeBd2GsdYC"
      },
      "outputs": [],
      "source": [
        "def compare_models(test_features,test_labels, classifiers):\n",
        "    fig, (ax1, ax2) = plt.subplots(1, 2,figsize= (20,10))\n",
        "    for i in classifiers:\n",
        "      if type(classifiers[i])==pd.core.frame.DataFrame:\n",
        "              y_scores = classifiers[i]['y_scores']\n",
        "              fpr, tpr, thresholds =roc_curve(test_labels, y_scores)\n",
        "              precision, recall, thresholds = precision_recall_curve(test_labels, y_scores)\n",
        "              auc = roc_auc_score(test_labels, y_scores)\n",
        "              ax1.plot(precision, recall)\n",
        "              ax2.plot(fpr, tpr, label='%s ROC (area = %0.2f)' % (str(i), auc))\n",
        "      else:\n",
        "\n",
        "              y_predict1 = classifiers[i].predict(test_features)\n",
        "              y_scores1 =  classifiers[i].predict_proba(test_features)[:, 1]\n",
        "              fpr1, tpr1, thresholds =roc_curve(test_labels, y_scores1)\n",
        "              precision1, recall1, thresholds = precision_recall_curve(test_labels, y_scores1)\n",
        "              auc1 = roc_auc_score(test_labels, y_scores1)\n",
        "              ax1.plot(precision1, recall1)\n",
        "              ax2.plot(fpr1, tpr1, label='%s ROC (area = %0.2f)' % (str(i), auc1))\n",
        "    ax1.set_title('Precision-Recall Curve')\n",
        "    ax2.set_title('Roc Curve')\n",
        "    ax1.set_xlabel('Recall')\n",
        "    ax2.set_ylabel('Precision')\n",
        "    ax2.plot([0, 1], [0, 1],'r--')\n",
        "    ax2.set_xlabel('False Positive Rate')\n",
        "    ax2.set_ylabel('True Positive Rate')\n",
        "    ax2.legend(loc=\"lower right\")\n",
        "    plt.show()"
      ]
    }
  ],
  "metadata": {
    "colab": {
      "collapsed_sections": [],
      "name": "Modeling.ipynb",
      "provenance": [],
      "authorship_tag": "ABX9TyNRj96VWQaLHlI66M1yDj9S",
      "include_colab_link": true
    },
    "kernelspec": {
      "display_name": "Python 3",
      "name": "python3"
    },
    "language_info": {
      "name": "python"
    }
  },
  "nbformat": 4,
  "nbformat_minor": 0
}