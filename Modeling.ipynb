{
  "cells": [
    {
      "cell_type": "markdown",
      "metadata": {
        "id": "view-in-github",
        "colab_type": "text"
      },
      "source": [
        "<a href=\"https://colab.research.google.com/github/omerfalach/Death-Classification-FAERS/blob/main/Modeling.ipynb\" target=\"_parent\"><img src=\"https://colab.research.google.com/assets/colab-badge.svg\" alt=\"Open In Colab\"/></a>"
      ]
    },
    {
      "cell_type": "code",
      "execution_count": 3,
      "metadata": {
        "colab": {
          "base_uri": "https://localhost:8080/"
        },
        "id": "anIwRoDVtmU4",
        "outputId": "4f120dd2-eb18-409e-cfbd-7843bef040c3"
      },
      "outputs": [
        {
          "output_type": "stream",
          "name": "stdout",
          "text": [
            "Drive already mounted at /content/drive/; to attempt to forcibly remount, call drive.mount(\"/content/drive/\", force_remount=True).\n"
          ]
        }
      ],
      "source": [
        "##connect to google drive \n",
        "from google.colab import drive\n",
        "drive.mount('/content/drive/')"
      ]
    },
    {
      "cell_type": "code",
      "execution_count": 4,
      "metadata": {
        "colab": {
          "base_uri": "https://localhost:8080/"
        },
        "id": "VIIoAeXduMLt",
        "outputId": "b70e3c95-4ea4-4cde-d1d4-4641b15cd68e"
      },
      "outputs": [
        {
          "output_type": "stream",
          "name": "stdout",
          "text": [
            "Requirement already satisfied: category_encoders in /usr/local/lib/python3.7/dist-packages (2.3.0)\n",
            "Requirement already satisfied: numpy>=1.14.0 in /usr/local/lib/python3.7/dist-packages (from category_encoders) (1.19.5)\n",
            "Requirement already satisfied: patsy>=0.5.1 in /usr/local/lib/python3.7/dist-packages (from category_encoders) (0.5.2)\n",
            "Requirement already satisfied: statsmodels>=0.9.0 in /usr/local/lib/python3.7/dist-packages (from category_encoders) (0.10.2)\n",
            "Requirement already satisfied: scikit-learn>=0.20.0 in /usr/local/lib/python3.7/dist-packages (from category_encoders) (1.0.2)\n",
            "Requirement already satisfied: scipy>=1.0.0 in /usr/local/lib/python3.7/dist-packages (from category_encoders) (1.4.1)\n",
            "Requirement already satisfied: pandas>=0.21.1 in /usr/local/lib/python3.7/dist-packages (from category_encoders) (1.1.5)\n",
            "Requirement already satisfied: python-dateutil>=2.7.3 in /usr/local/lib/python3.7/dist-packages (from pandas>=0.21.1->category_encoders) (2.8.2)\n",
            "Requirement already satisfied: pytz>=2017.2 in /usr/local/lib/python3.7/dist-packages (from pandas>=0.21.1->category_encoders) (2018.9)\n",
            "Requirement already satisfied: six in /usr/local/lib/python3.7/dist-packages (from patsy>=0.5.1->category_encoders) (1.15.0)\n",
            "Requirement already satisfied: joblib>=0.11 in /usr/local/lib/python3.7/dist-packages (from scikit-learn>=0.20.0->category_encoders) (1.1.0)\n",
            "Requirement already satisfied: threadpoolctl>=2.0.0 in /usr/local/lib/python3.7/dist-packages (from scikit-learn>=0.20.0->category_encoders) (3.0.0)\n",
            "Requirement already satisfied: squarify in /usr/local/lib/python3.7/dist-packages (0.4.3)\n",
            "Requirement already satisfied: xgboost in /usr/local/lib/python3.7/dist-packages (1.5.2)\n",
            "Requirement already satisfied: scipy in /usr/local/lib/python3.7/dist-packages (from xgboost) (1.4.1)\n",
            "Requirement already satisfied: numpy in /usr/local/lib/python3.7/dist-packages (from xgboost) (1.19.5)\n"
          ]
        }
      ],
      "source": [
        "###Installations for google colab\n",
        "!pip install category_encoders\n",
        "!pip install squarify\n",
        "!pip install --upgrade xgboost"
      ]
    },
    {
      "cell_type": "code",
      "source": [
        "##pandas version for pickle files\n",
        "!pip install --upgrade pandas==1.1.5"
      ],
      "metadata": {
        "id": "G_laQKeyChvx",
        "outputId": "4332495b-0428-4a12-f698-7b6db7b58ae8",
        "colab": {
          "base_uri": "https://localhost:8080/"
        }
      },
      "execution_count": 45,
      "outputs": [
        {
          "output_type": "stream",
          "name": "stdout",
          "text": [
            "Requirement already satisfied: pandas==1.1.5 in /usr/local/lib/python3.7/dist-packages (1.1.5)\n",
            "Requirement already satisfied: numpy>=1.15.4 in /usr/local/lib/python3.7/dist-packages (from pandas==1.1.5) (1.19.5)\n",
            "Requirement already satisfied: pytz>=2017.2 in /usr/local/lib/python3.7/dist-packages (from pandas==1.1.5) (2018.9)\n",
            "Requirement already satisfied: python-dateutil>=2.7.3 in /usr/local/lib/python3.7/dist-packages (from pandas==1.1.5) (2.8.2)\n",
            "Requirement already satisfied: six>=1.5 in /usr/local/lib/python3.7/dist-packages (from python-dateutil>=2.7.3->pandas==1.1.5) (1.15.0)\n"
          ]
        }
      ]
    },
    {
      "cell_type": "code",
      "source": [
        "import sys\n",
        "print(pd.__version__)"
      ],
      "metadata": {
        "id": "uIJhOFmV0ifz",
        "outputId": "bbd9c3ec-e1b4-494d-b234-3eff1fcd3217",
        "colab": {
          "base_uri": "https://localhost:8080/"
        }
      },
      "execution_count": 7,
      "outputs": [
        {
          "output_type": "stream",
          "name": "stdout",
          "text": [
            "1.1.5\n"
          ]
        }
      ]
    },
    {
      "cell_type": "code",
      "source": [
        "###Project folder location\n",
        "folder = '/content/drive/MyDrive/Colab Notebooks/Project/'"
      ],
      "metadata": {
        "id": "FKmA_OH0CdKP"
      },
      "execution_count": 5,
      "outputs": []
    },
    {
      "cell_type": "code",
      "execution_count": 6,
      "metadata": {
        "id": "zvoUpGM8uGyM"
      },
      "outputs": [],
      "source": [
        "import numpy as np\n",
        "from sklearn.pipeline import Pipeline, FeatureUnion\n",
        "from sklearn.feature_extraction.text import CountVectorizer,TfidfVectorizer\n",
        "from sklearn.svm import LinearSVC\n",
        "from sklearn.feature_extraction.text import TfidfTransformer\n",
        "from sklearn.multiclass import OneVsRestClassifier\n",
        "from sklearn.preprocessing import FunctionTransformer\n",
        "from sklearn.compose import ColumnTransformer\n",
        "import pandas as pd\n",
        "import pytz\n",
        "import pickle\n",
        "# import pycountry_convert as pc\n",
        "from sklearn.preprocessing import FunctionTransformer\n",
        "from sklearn.compose import make_column_transformer\n",
        "from sklearn.base import BaseEstimator, TransformerMixin\n",
        "import random\n",
        "import pandas as pd\n",
        "import numpy as np\n",
        "import matplotlib.pyplot as plt\n",
        "import seaborn as sns\n",
        "import sklearn\n",
        "from sklearn.neighbors import KNeighborsClassifier\n",
        "from sklearn.preprocessing import LabelEncoder,OneHotEncoder\n",
        "import os\n",
        "import warnings\n",
        "import random\n",
        "from sklearn.preprocessing import StandardScaler\n",
        "import requests\n",
        "from category_encoders import TargetEncoder\n",
        "from sklearn.linear_model import LogisticRegression\n",
        "from sklearn.ensemble import RandomForestClassifier, GradientBoostingClassifier\n",
        "from sklearn.model_selection import StratifiedKFold, train_test_split, GridSearchCV, RandomizedSearchCV\n",
        "from sklearn.metrics import precision_score, roc_auc_score, recall_score, accuracy_score, make_scorer\n",
        "from sklearn.metrics import confusion_matrix, plot_confusion_matrix, roc_curve, auc,precision_recall_curve,ConfusionMatrixDisplay,RocCurveDisplay\n",
        "import sys\n",
        "import plotly.express as px\n",
        "from sklearn.model_selection import StratifiedKFold\n",
        "from scipy import stats\n",
        "from datetime import datetime as dt\n",
        "import dill as dillpickle\n",
        "import matplotlib.image as mpimg\n",
        "from xgboost import XGBClassifier\n",
        "py_file_location = folder+ \"scripts\"\n",
        "sys.path.append(os.path.abspath(py_file_location))\n",
        "import project_plots as op\n",
        "\n"
      ]
    },
    {
      "cell_type": "code",
      "execution_count": 8,
      "metadata": {
        "id": "5k6yq1adt0jF"
      },
      "outputs": [],
      "source": [
        "train_features= pd.read_csv(folder+ 'preprocessed_files/train_features.csv')\n",
        "test_features= pd.read_csv(folder+  'preprocessed_files/test_features.csv')\n",
        "train_labels= pd.read_csv(folder+'preprocessed_files/train_labels.csv')\n",
        "test_labels= pd.read_csv(folder+'preprocessed_files/test_labels.csv')"
      ]
    },
    {
      "cell_type": "code",
      "execution_count": 19,
      "metadata": {
        "id": "N-HfqyfPW_OD"
      },
      "outputs": [],
      "source": [
        "#Read_csv read pandas column with lists as str\n",
        "def convert_str_to_list(x):\n",
        "    try:\n",
        "        z= x.strip('[]').replace(\"'\", \"\").split(',')\n",
        "        z1 = [f.strip() for f in z]\n",
        "        return  z1\n",
        "    except:\n",
        "        return x # replace with any suitable placeholder value\n",
        "train_features['indi_pt']= train_features['indi_pt'].apply(lambda x: convert_str_to_list(x) if type(x)!=float else x)\n",
        "train_features['drugname_listed']= train_features['drugname_listed'].apply(lambda x: convert_str_to_list(x) if type(x)!=float else x)\n",
        "train_features['role_cod_listed']= train_features['role_cod_listed'].apply(lambda x: convert_str_to_list(x) if type(x)!=float else x)\n",
        "test_features['indi_pt']= test_features['indi_pt'].apply(lambda x: convert_str_to_list(x) if type(x)!=float else x)\n",
        "test_features['drugname_listed']= test_features['drugname_listed'].apply(lambda x: convert_str_to_list(x) if type(x)!=float else x)\n",
        "test_features['role_cod_listed']= test_features['role_cod_listed'].apply(lambda x: convert_str_to_list(x) if type(x)!=float else x)"
      ]
    },
    {
      "cell_type": "markdown",
      "source": [
        "#Creating preprocessors"
      ],
      "metadata": {
        "id": "hSHdYIoH825p"
      }
    },
    {
      "cell_type": "code",
      "execution_count": 20,
      "metadata": {
        "id": "2ZtW277JVyEr"
      },
      "outputs": [],
      "source": [
        "##Defining functions for custom_preprocessors\n",
        "##agecolumn - fill missing_values\n",
        "##Transform column_transformer matrix for XGboost\n",
        "class CSCTransformer(TransformerMixin):\n",
        "    def transform(self, X, y=None, **fit_params):\n",
        "        return X.tocsc()\n",
        "\n",
        "    def fit_transform(self, X, y=None, **fit_params):\n",
        "        self.fit(X, y, **fit_params)\n",
        "        return self.transform(X)\n",
        "\n",
        "    def fit(self, X, y=None, **fit_params):\n",
        "        return self\n",
        "class ageImputer(BaseEstimator, TransformerMixin) :\n",
        "    def __init__(self, column = 'age'):\n",
        "        self.death_chances = None\n",
        "        self.live_chances = None\n",
        "        self.column = column\n",
        "        self.X1 = None\n",
        "        self.y = None\n",
        "    def get_age_new(self,d_chances,l_chances,column,out = -100):\n",
        "        try:\n",
        "            out = int(out)\n",
        "            if out == 1:\n",
        "                ages_unichoi = [random.uniform(i.left,i.right) for i in list(d_chances['age_groups'])]\n",
        "                death_ages = random.choices(ages_unichoi, weights = list(d_chances[column]), k = 1)\n",
        "                return round(death_ages[0], 1)\n",
        "            elif out==0:\n",
        "                ages_unichoi = [random.uniform(i.left,i.right) for i in list(l_chances['age_groups'])]\n",
        "                live_ages = random.choices(ages_unichoi, weights = list(l_chances[column]), k = 1)\n",
        "                return round(live_ages[0], 1)\n",
        "            else:\n",
        "                trans = random.choices(random.uniform(i.left,i.right), weights = list(d_chances[column]), k = 1)\n",
        "                return  round(trans[0], 1)\n",
        "        except:\n",
        "            return -1\n",
        "\n",
        "    def fit(self, X, y=None):\n",
        "        self.y = y\n",
        "        self.X1 = X.merge(self.y, right_index=True, left_index=True)\n",
        "        X_fixed_age_not_null = self.X1[self.X1[self.column].notnull()]\n",
        "        death = X_fixed_age_not_null[X_fixed_age_not_null['outc_cod']==1]\n",
        "        live = X_fixed_age_not_null[X_fixed_age_not_null['outc_cod']==0]\n",
        "        self.death_chances = death[self.column].value_counts(bins= 2 ,normalize = True).to_frame()\n",
        "        self.death_chances = self.death_chances.reset_index().rename(columns = {'index':'age_groups'})\n",
        "        self.live_chances = live[self.column].value_counts(bins= 2 ,normalize = True).to_frame()\n",
        "        self.live_chances =self.live_chances.reset_index().rename(columns = {'index':'age_groups'})\n",
        "        self.X1[self.column] = self.X1.apply(lambda row: self.get_age_new(self.death_chances,self.live_chances,self.column,row['outc_cod']) if np.isnan(row[self.column]) else row[self.column],axis=1)\n",
        "        X.iloc[:, 0] = self.X1[self.column]\n",
        "        return  self                      \n",
        "    def transform(self, X, y=None):\n",
        "        X1 = X.copy()\n",
        "        X1.iloc[:, 0] = X1.iloc[:, 0].apply(lambda row: self.get_age_new(self.death_chances,self.live_chances,self.column) if np.isnan(row) else row)\n",
        "        return X1\n",
        "###convert_sex_values_to_integer_and_fillna_randomaly\n",
        "def sex_change(x):\n",
        "    if x =='M':\n",
        "        return 0\n",
        "    elif x == 'F':\n",
        "        return 1\n",
        "    else:\n",
        "        return random.choice([0,1])\n",
        "def sex_transform_to_pipe(data):\n",
        "    z = data.apply(lambda x: [sex_change(t) for t in x])\n",
        "    return z\n",
        "def convert_df_column_to_list(data):\n",
        "    d = list(data.iloc[:, 0])\n",
        "    return d"
      ]
    },
    {
      "cell_type": "code",
      "execution_count": 21,
      "metadata": {
        "id": "FNdMDCMQWLaU"
      },
      "outputs": [],
      "source": [
        "drug_feature = ['drugname_listed']\n",
        "age_feature = ['age']\n",
        "sex_feature = ['sex']\n",
        "cat_features = ['occr_country']\n",
        "indi_feature = ['indi_pt']\n",
        "catall_features = ['drugname','occr_country']\n",
        "all_features = ['age','sex','drugname','occr_country']\n",
        "sex_transformer = Pipeline(steps=[('se',FunctionTransformer(sex_transform_to_pipe)),('onehot', OneHotEncoder())])\n",
        "target_encoding_transformer = Pipeline(steps = [('target',TargetEncoder())])\n",
        "tfidf_transformer=  Pipeline(steps=[\n",
        "    ('extract_list',FunctionTransformer(convert_df_column_to_list,validate=False)),\n",
        "    ('tf',TfidfVectorizer(analyzer = 'word',tokenizer=lambda x: x,\n",
        "                        preprocessor=lambda x: x,lowercase = False))])\n",
        "ageImputer_transformer = Pipeline(steps = \n",
        "    [(\"age\", ageImputer()),\n",
        "        ('scale', StandardScaler())])\n",
        "drug_tf_idf_preprocessor =ColumnTransformer(transformers = [\n",
        "    ('sex',sex_transformer,sex_feature),\n",
        "    ('age2',ageImputer_transformer,age_feature),\n",
        "    ('drug',tfidf_transformer,drug_feature),\n",
        "    ('categorical',target_encoding_transformer,cat_features)\n",
        "])\n",
        "indi_tf_idf_preprocessor =ColumnTransformer(transformers = [\n",
        "    ('sex',sex_transformer,sex_feature),\n",
        "    ('age2',ageImputer_transformer,age_feature),\n",
        "    ('indi',tfidf_transformer,indi_feature),\n",
        "    ('categorical',target_encoding_transformer,cat_features)\n",
        "])\n",
        "baseline_preprocessor = ColumnTransformer(transformers = [\n",
        "    ('sex',sex_transformer,sex_feature),\n",
        "    ('age',ageImputer_transformer,age_feature),\n",
        "    ('categorical',target_encoding_transformer,catall_features)])"
      ]
    },
    {
      "cell_type": "markdown",
      "source": [
        "#Training classes"
      ],
      "metadata": {
        "id": "enXt8i8b9WFq"
      }
    },
    {
      "cell_type": "code",
      "execution_count": 22,
      "metadata": {
        "id": "1ZcaiI-EWX0i"
      },
      "outputs": [],
      "source": [
        "class set_modeling():\n",
        "    def __init__(self):\n",
        "        #Initialze the general parameters\n",
        "        self.score_to_optimize = 'AUC'\n",
        "        self.verbose = 10\n",
        "        self.n_experiments = int(1e1)\n",
        "        self.n_jobs=-2 \n",
        "        self.num_val_folds = 2\n",
        "        self.splitter = StratifiedKFold(self.num_val_folds)\n",
        "        #Initiaze scorers\n",
        "        self.auc_scorer = None\n",
        "        self.precision_scorer = None\n",
        "        self.recall_scorer = None\n",
        "        self.precision_recall_scorer = None\n",
        "        self.scorers = dict\n",
        "        self.hyper_opt = None \n",
        "    ##get roc_auc_score\n",
        "    def get_roc_auc(self,gt, pred):\n",
        "        return roc_auc_score(gt, pred, average='weighted')\n",
        "    def get_precision(self,gt, pred):\n",
        "        return precision_score(gt, pred, average='weighted')\n",
        "    def get_recall(self,gt, pred):\n",
        "        return recall_score(gt, pred, average='weighted')\n",
        "    def get_precision_recall_fscore_support(self,gt, pred):\n",
        "        precision,recall,f2_score,support = precision_recall_fscore_support(gt, pred,beta = 2,average='weighted')\n",
        "        return f2_score\n",
        "    def set_scorers(self):\n",
        "        self.auc_scorer = make_scorer(self.get_roc_auc, needs_proba=True)\n",
        "        self.precision_scorer = make_scorer(self.get_precision)\n",
        "        self.recall_scorer = make_scorer(self.get_recall)\n",
        "        self.precision_recall_scorer = make_scorer(self.get_precision_recall_fscore_support)\n",
        "        self.scorers = {'AUC':  self.auc_scorer, \n",
        "           'Precision': self.precision_scorer, 'Recall': self.recall_scorer,\n",
        "           'Accuracy': 'accuracy'}\n",
        "    def optimize_predict(self,train_features, train_labels,test_features,test_labels,pipeline,param):\n",
        "        print(type(train_labels[0:10]))\n",
        "        self.set_scorers()\n",
        "        self.hyper_opt = RandomizedSearchCV(pipeline, param,n_iter = self.n_experiments,\n",
        "                           scoring = self.scorers, n_jobs =  self.n_jobs, cv=self.splitter,\n",
        "                           refit=self.score_to_optimize,pre_dispatch =2,\n",
        "                           return_train_score=False, verbose=self.verbose)\n",
        "        tr_val_sequences, tr_val_labels = train_features, train_labels\n",
        "        num_label_apperances = tr_val_labels.value_counts()\n",
        "        min_label_apperances = min(num_label_apperances)\n",
        "        if self.num_val_folds > min_label_apperances:\n",
        "            self.hyper_opt.cv = StratifiedKFold(min_label_apperances)\n",
        "        start_time = dt.now()\n",
        "        print(f\"Fitting (training) the models and performing hyper parameter search. \"\n",
        "              f\"Time: {start_time}\")\n",
        "        self.hyper_opt.fit(tr_val_sequences, tr_val_labels)\n",
        "        best_ind = self.hyper_opt.best_index_\n",
        "        scores = {}\n",
        "        for scorer in self.scorers:\n",
        "            scores[scorer] = self.hyper_opt.cv_results_['mean_test_' + scorer][best_ind]\n",
        "        scores_str = '\\n'.join(f\"{k}: {v:.3f}\" for k, v in scores.items())\n",
        "        print(f'---Algorithm performance---: \\n{scores_str}\\n-------------')\n",
        "\n",
        "\n",
        "        end_time = dt.now()\n",
        "        duration = (end_time - start_time).total_seconds()\n",
        "        print(f'Training took {duration} seconds')\n"
      ]
    },
    {
      "cell_type": "code",
      "execution_count": 23,
      "metadata": {
        "id": "xpaZ9mD0Wadf"
      },
      "outputs": [],
      "source": [
        "class pipes_training(set_modeling):\n",
        "        def __init__(self, preprocessor = None,num_val_folds =2):\n",
        "            set_modeling.__init__(self)\n",
        "            self.reg_coef_logrange = (0, 3, 5)\n",
        "            self.min_dfs_logrange = (0, 2, 1)\n",
        "            self.num_val_folds = num_val_folds\n",
        "            # Initialze featuers\n",
        "            self.drug_feature = ['drugname']\n",
        "            self.age_feature = ['age']\n",
        "            self.sex_feature = ['sex']\n",
        "            self.cat_features = ['occr_country']\n",
        "            self.catall_features = ['drugname','occr_country']\n",
        "            self.naive_preprocessor = preprocessor\n",
        "            # Initialze the estimators\n",
        "            self.clf1 = LogisticRegression()\n",
        "            self.clf2 = RandomForestClassifier()\n",
        "            self.clf3 = XGBClassifier()\n",
        "            # self.classifiers = [self.clf1,self.clf2]\n",
        "            self.classifiers = [self.clf3]\n",
        "            self.models = []\n",
        "            # Initiaze dictionaries for hyperparameters\n",
        "            self.param1 = {}\n",
        "            self.param2 = {}\n",
        "            self.param3 = {}\n",
        "            self.params = {}\n",
        "        def log_range(self,lower, upper, samples_per_decade, is_int=True):\n",
        "            samples = 1 + (upper - lower) * samples_per_decade\n",
        "            samples = int(round(samples))\n",
        "            if is_int:\n",
        "                return [int(round(i)) for i in np.logspace(lower, upper, samples)]\n",
        "            else:\n",
        "                return list(np.logspace(lower, upper, samples))\n",
        "        def set_hyperparameters(self): #hyperparameters for each classifier\n",
        "            ##fill logistic regression parameters\n",
        "            self.param1['feature_extractor']= self.naive_preprocessor\n",
        "            # self.param1['feature_extractor__indi__tf__min_df']= [0.01,0.05,0.1]\n",
        "            self.param1['feature_extractor__categorical__target__min_samples_leaf']= [200,1000,2000]\n",
        "            self.param1['classifier__solver']=['lbfgs']\n",
        "            self.param1['classifier__multi_class']=['auto']\n",
        "            self.param1['classifier__max_iter']=[int(1e6)]\n",
        "            self.param1['classifier__class_weight']=['balanced']\n",
        "            self.param1['classifier__C'] = self.log_range(*self.reg_coef_logrange, is_int=False)\n",
        "#             self.param1['classifier__penalty'] = ['l1', 'l2']\n",
        "            self.param1['classifier'] = [self.clf1]\n",
        "\n",
        "             ##fill randomforest parameters\n",
        "            self.param2['feature_extractor__categorical__target__min_samples_leaf']= [200,1000]\n",
        "            self.param2['feature_extractor']=self.naive_preprocessor\n",
        "            self.param2['classifier__n_estimators'] = [10]\n",
        "            self.param2['classifier__max_depth'] = [5, 10, 20]\n",
        "            self.param2['classifier__class_weight'] = ['balanced_subsample']\n",
        "            self.param2['classifier'] = [self.clf2]\n",
        "\n",
        "            ##fill knn parameters\n",
        "            self.param3['feature_extractor']=[naive_preprocessor],\n",
        "            self.param3['classifier'] = [self.clf3]\n",
        "\n",
        "            if self.naive_preprocessor==drug_tf_idf_preprocessor:\n",
        "                    self.param1['feature_extractor__drug__tf__min_df']= [0.001,0.005,0.01,0.05]\n",
        "                    self.param2['feature_extractor__drug__tf__min_df']= [0.001,0.005,0.01,0.05]\n",
        "            if self.naive_preprocessor==indi_tf_idf_preprocessor:\n",
        "                    self.param1['feature_extractor__indi__tf__min_df']= [0.001,0.005,0.01,0.05]\n",
        "                    self.param2['feature_extractor__indi__tf__min_df']= [0.001,0.005,0.01,0.05]\n",
        "\n",
        "            self.params = [self.param1,self.param2,self.param3]\n",
        "        def add_params(self,new_params):\n",
        "              self.params= [new_params]\n",
        "        def train_pipes(self,train_features, train_labels,test_features,test_labels,default_params = True,params = 0):\n",
        "                if default_params ==True:\n",
        "                    self.set_hyperparameters()\n",
        "                params_for_tuning = self.params[params]\n",
        "                for i in self.classifiers:\n",
        "                    print(i)\n",
        "                    p = Pipeline(steps = [('feature_extractor','passthrough'),('classifier',i)])\n",
        "#                     print(p)\n",
        "                    self.optimize_predict(train_features, train_labels,test_features,test_labels,p, params_for_tuning)\n",
        "                    self.models.append(self.hyper_opt)\n",
        "                return self.models"
      ]
    },
    {
      "cell_type": "markdown",
      "source": [
        "#Training Models"
      ],
      "metadata": {
        "id": "KxJeaKlp9iBw"
      }
    },
    {
      "cell_type": "markdown",
      "metadata": {
        "id": "aTTl2KDZp-f9"
      },
      "source": [
        "# ***Baseline Model***\n"
      ]
    },
    {
      "cell_type": "code",
      "execution_count": 9,
      "metadata": {
        "id": "Dca5Pt4j7Q9g"
      },
      "outputs": [],
      "source": [
        "##Training - Baseline model_5Folds\n",
        "##Logistic_Regression\n",
        "# baseline = pipes_training(preprocessor = [baseline_preprocessor])\n",
        "# models = baseline.train_pipes(train_features,train_labels['outc_cod'],test_features,test_labels['outc_cod'])\n",
        "filename = folder+'models/baseline_traget_encoding_Logistic_Regression.pkl'\n",
        "# pickle.dump(models[0], open(filename, 'wb'))\n"
      ]
    },
    {
      "cell_type": "code",
      "source": [
        "###Results\n",
        "baseline_logreg = dillpickle.load(open(filename, 'rb'))\n",
        "op.get_train_scores(baseline_logreg)"
      ],
      "metadata": {
        "id": "aCRBuTUIbgdA",
        "outputId": "582c366f-f018-495d-b100-054e60c05f29",
        "colab": {
          "base_uri": "https://localhost:8080/"
        }
      },
      "execution_count": 10,
      "outputs": [
        {
          "output_type": "stream",
          "name": "stdout",
          "text": [
            "---Algorithm performance---: \n",
            "AUC: 0.725\n",
            "Precision: 0.812\n",
            "Recall: 0.755\n",
            "Accuracy: 0.755\n",
            "-------------\n"
          ]
        }
      ]
    },
    {
      "cell_type": "code",
      "execution_count": 11,
      "metadata": {
        "id": "NzZRqfRkj_vF"
      },
      "outputs": [],
      "source": [
        "##Training - Baseline model_5Folds\n",
        "##Random_Forest\n",
        "\n",
        "##Training and save pickle file\n",
        "# baseline = pipes_training(preprocessor = [baseline_preprocessor])\n",
        "# models = baseline.train_pipes(train_features,train_labels['outc_cod'],test_features,test_labels['outc_cod'],params=1)\n",
        "filename = folder+'models/baseline_traget_encoding_Random_Forest.pkl'\n",
        "# pickle.dump(models[0], open(filename, 'wb'))\n",
        "\n"
      ]
    },
    {
      "cell_type": "code",
      "source": [
        "###Loading Results\n",
        "baseline_rforest = dillpickle.load(open(filename, 'rb'))\n",
        "op.get_train_scores(baseline_rforest)"
      ],
      "metadata": {
        "id": "mTv7V_w6bcqE",
        "outputId": "1752371e-6140-47d2-94a1-178117f7b7bc",
        "colab": {
          "base_uri": "https://localhost:8080/"
        }
      },
      "execution_count": 12,
      "outputs": [
        {
          "output_type": "stream",
          "name": "stdout",
          "text": [
            "---Algorithm performance---: \n",
            "AUC: 0.743\n",
            "Precision: 0.821\n",
            "Recall: 0.703\n",
            "Accuracy: 0.703\n",
            "-------------\n"
          ]
        }
      ]
    },
    {
      "cell_type": "code",
      "execution_count": null,
      "metadata": {
        "id": "UWppmTMRq1j2"
      },
      "outputs": [],
      "source": [
        "##Training - Baseline model_5Folds\n",
        "##XGboost\n",
        "\n",
        "#Set Parameters\n",
        "# new_params_baseline = {}\n",
        "# new_params_baseline['feature_extractor']=[baseline_preprocessor]\n",
        "# new_params_baseline['classifier__num_parallel_tree'] =  [4]\n",
        "# new_params_baseline['feature_extractor__categorical__target__min_samples_leaf']= [300]\n",
        "# new_params_baseline['classifier__objective'] =  ['binary:logistic']\n",
        "# new_params_baseline['classifier__tree_method'] =  ['gpu_hist']\n",
        "# new_params_baseline['classifier__eval_metric'] = ['auc']\n",
        "# new_params_baseline['classifier__min_child_weight'] =  [2,5]\n",
        "# new_params_baseline['classifier__gamma'] = [1]\n",
        "# new_params_baseline['classifier__scale_pos_weight']=[0.85/0.15]\n",
        "# new_params_baseline['classifier__subsample']=[0.5]\n",
        "# new_params_baseline['classifier__colsample_bytree']=[0.6]\n",
        "# new_params_baseline['classifier__max_delta_step']=[10]\n",
        "# new_params_baseline['classifier__max_depth']= [20]\n",
        "# new_params_baseline['classifier__learning_rate']= [0.001,0.01]\n",
        "\n",
        "##Training and save pickle file\n",
        "# baseline = pipes_training(preprocessor = [baseline_preprocessor])\n",
        "# models = baseline.train_pipes(train_features,train_labels['outc_cod'],test_features,test_labels['outc_cod'],params=0)\n",
        "filename = folder+'models/baseline_traget_encoding_XGboost.pkl'\n",
        "# pickle.dump(models[0], open(filename, 'wb'))\n",
        "\n"
      ]
    },
    {
      "cell_type": "code",
      "source": [
        "###Loading Results\n",
        "baseline_xgboost = dillpickle.load(open(filename, 'rb'))\n",
        "op.get_train_scores(baseline_xgboost)"
      ],
      "metadata": {
        "id": "j9hSnCLFbZMn",
        "outputId": "2c60e6ab-a45f-4b5b-8b67-ebdc85cb3484",
        "colab": {
          "base_uri": "https://localhost:8080/"
        }
      },
      "execution_count": null,
      "outputs": [
        {
          "output_type": "stream",
          "name": "stdout",
          "text": [
            "[22:40:29] WARNING: ../src/gbm/gbtree.cc:386: Loading from a raw memory buffer on CPU only machine.  Changing tree_method to hist.\n",
            "[22:40:29] WARNING: ../src/learner.cc:223: No visible GPU is found, setting `gpu_id` to -1\n",
            "---Algorithm performance---: \n",
            "AUC: 0.751\n",
            "Precision: 0.824\n",
            "Recall: 0.703\n",
            "Accuracy: 0.703\n",
            "-------------\n"
          ]
        }
      ]
    },
    {
      "cell_type": "markdown",
      "metadata": {
        "id": "CZRKe54YGTiE"
      },
      "source": [
        "# **Drug TF-IDF Model** "
      ]
    },
    {
      "cell_type": "code",
      "execution_count": null,
      "metadata": {
        "id": "o09pARnPk_1N"
      },
      "outputs": [],
      "source": [
        "##Training - Using_tf-idf_vectorizer_for_drugname_feature_5Folds\n",
        "##Logistic_Regression\n",
        "# baseline = pipes_training(preprocessor =[drug_tf_idf_preprocessor])\n",
        "# models = baseline.train_pipes(train_features,train_labels['outc_cod'],test_features,test_labels['outc_cod'])\n",
        "filename = folder+'models/drug_tf_idf_Logistic_Regression.pkl'\n",
        "# pickle.dump(models[0], open(filename, 'wb'))\n"
      ]
    },
    {
      "cell_type": "code",
      "source": [
        "###Loading Results\n",
        "drug_tfidf_logreg = dillpickle.load(open(filename, 'rb'))\n",
        "op.get_train_scores(drug_tfidf_logreg)"
      ],
      "metadata": {
        "id": "Igj-h8wgbU9J",
        "outputId": "ecffaeb3-d231-40bf-ad9d-fc7fd6e7f75f",
        "colab": {
          "base_uri": "https://localhost:8080/"
        }
      },
      "execution_count": null,
      "outputs": [
        {
          "output_type": "stream",
          "name": "stdout",
          "text": [
            "---Algorithm performance---: \n",
            "AUC: 0.618\n",
            "Precision: 0.780\n",
            "Recall: 0.708\n",
            "Accuracy: 0.708\n",
            "-------------\n"
          ]
        }
      ]
    },
    {
      "cell_type": "code",
      "execution_count": 42,
      "metadata": {
        "id": "2do-7Jb0mNyP"
      },
      "outputs": [],
      "source": [
        "##Training - Using_tf-idf_vectorizer_for_drugname_feature_5Folds\n",
        "##Random_Forest\n",
        "# baseline = pipes_training(preprocessor =[drug_tf_idf_preprocessor])\n",
        "# models = baseline.train_pipes(train_features,train_labels['outc_cod'],test_features,test_labels['outc_cod'],params=1)\n",
        "filename = folder+'models/drug_tf_idf_Random_Forest.pkl'\n",
        "# pickle.dump(models[0], open(filename, 'wb'))\n"
      ]
    },
    {
      "cell_type": "code",
      "source": [
        "###Loading Results\n",
        "drug_tfidf_rforest = dillpickle.load(open(filename, 'rb'))\n",
        "op.get_train_scores(drug_tfidf_rforest)"
      ],
      "metadata": {
        "id": "ui09eWbHbSAl",
        "outputId": "b2f17f7a-0847-4dee-f4ff-d5e0ad928f00",
        "colab": {
          "base_uri": "https://localhost:8080/",
          "height": 415
        }
      },
      "execution_count": 43,
      "outputs": [
        {
          "output_type": "error",
          "ename": "AttributeError",
          "evalue": "ignored",
          "traceback": [
            "\u001b[0;31m---------------------------------------------------------------------------\u001b[0m",
            "\u001b[0;31mAttributeError\u001b[0m                            Traceback (most recent call last)",
            "\u001b[0;32m<ipython-input-43-f16e3342ed80>\u001b[0m in \u001b[0;36m<module>\u001b[0;34m()\u001b[0m\n\u001b[1;32m      1\u001b[0m \u001b[0;31m###Loading Results\u001b[0m\u001b[0;34m\u001b[0m\u001b[0;34m\u001b[0m\u001b[0;34m\u001b[0m\u001b[0m\n\u001b[0;32m----> 2\u001b[0;31m \u001b[0mdrug_tfidf_rforest\u001b[0m \u001b[0;34m=\u001b[0m \u001b[0mdillpickle\u001b[0m\u001b[0;34m.\u001b[0m\u001b[0mload\u001b[0m\u001b[0;34m(\u001b[0m\u001b[0mopen\u001b[0m\u001b[0;34m(\u001b[0m\u001b[0mfilename\u001b[0m\u001b[0;34m,\u001b[0m \u001b[0;34m'rb'\u001b[0m\u001b[0;34m)\u001b[0m\u001b[0;34m)\u001b[0m\u001b[0;34m\u001b[0m\u001b[0;34m\u001b[0m\u001b[0m\n\u001b[0m\u001b[1;32m      3\u001b[0m \u001b[0mop\u001b[0m\u001b[0;34m.\u001b[0m\u001b[0mget_train_scores\u001b[0m\u001b[0;34m(\u001b[0m\u001b[0mdrug_tfidf_rforest\u001b[0m\u001b[0;34m)\u001b[0m\u001b[0;34m\u001b[0m\u001b[0;34m\u001b[0m\u001b[0m\n",
            "\u001b[0;32m/usr/local/lib/python3.7/dist-packages/dill/_dill.py\u001b[0m in \u001b[0;36mload\u001b[0;34m(file, ignore, **kwds)\u001b[0m\n\u001b[1;32m    311\u001b[0m     \u001b[0mSee\u001b[0m \u001b[0;34m:\u001b[0m\u001b[0mfunc\u001b[0m\u001b[0;34m:\u001b[0m\u001b[0;31m`\u001b[0m\u001b[0mloads\u001b[0m\u001b[0;31m`\u001b[0m \u001b[0;32mfor\u001b[0m \u001b[0mkeyword\u001b[0m \u001b[0marguments\u001b[0m\u001b[0;34m.\u001b[0m\u001b[0;34m\u001b[0m\u001b[0;34m\u001b[0m\u001b[0m\n\u001b[1;32m    312\u001b[0m     \"\"\"\n\u001b[0;32m--> 313\u001b[0;31m     \u001b[0;32mreturn\u001b[0m \u001b[0mUnpickler\u001b[0m\u001b[0;34m(\u001b[0m\u001b[0mfile\u001b[0m\u001b[0;34m,\u001b[0m \u001b[0mignore\u001b[0m\u001b[0;34m=\u001b[0m\u001b[0mignore\u001b[0m\u001b[0;34m,\u001b[0m \u001b[0;34m**\u001b[0m\u001b[0mkwds\u001b[0m\u001b[0;34m)\u001b[0m\u001b[0;34m.\u001b[0m\u001b[0mload\u001b[0m\u001b[0;34m(\u001b[0m\u001b[0;34m)\u001b[0m\u001b[0;34m\u001b[0m\u001b[0;34m\u001b[0m\u001b[0m\n\u001b[0m\u001b[1;32m    314\u001b[0m \u001b[0;34m\u001b[0m\u001b[0m\n\u001b[1;32m    315\u001b[0m \u001b[0;32mdef\u001b[0m \u001b[0mloads\u001b[0m\u001b[0;34m(\u001b[0m\u001b[0mstr\u001b[0m\u001b[0;34m,\u001b[0m \u001b[0mignore\u001b[0m\u001b[0;34m=\u001b[0m\u001b[0;32mNone\u001b[0m\u001b[0;34m,\u001b[0m \u001b[0;34m**\u001b[0m\u001b[0mkwds\u001b[0m\u001b[0;34m)\u001b[0m\u001b[0;34m:\u001b[0m\u001b[0;34m\u001b[0m\u001b[0;34m\u001b[0m\u001b[0m\n",
            "\u001b[0;32m/usr/local/lib/python3.7/dist-packages/dill/_dill.py\u001b[0m in \u001b[0;36mload\u001b[0;34m(self)\u001b[0m\n\u001b[1;32m    523\u001b[0m \u001b[0;34m\u001b[0m\u001b[0m\n\u001b[1;32m    524\u001b[0m     \u001b[0;32mdef\u001b[0m \u001b[0mload\u001b[0m\u001b[0;34m(\u001b[0m\u001b[0mself\u001b[0m\u001b[0;34m)\u001b[0m\u001b[0;34m:\u001b[0m \u001b[0;31m#NOTE: if settings change, need to update attributes\u001b[0m\u001b[0;34m\u001b[0m\u001b[0;34m\u001b[0m\u001b[0m\n\u001b[0;32m--> 525\u001b[0;31m         \u001b[0mobj\u001b[0m \u001b[0;34m=\u001b[0m \u001b[0mStockUnpickler\u001b[0m\u001b[0;34m.\u001b[0m\u001b[0mload\u001b[0m\u001b[0;34m(\u001b[0m\u001b[0mself\u001b[0m\u001b[0;34m)\u001b[0m\u001b[0;34m\u001b[0m\u001b[0;34m\u001b[0m\u001b[0m\n\u001b[0m\u001b[1;32m    526\u001b[0m         \u001b[0;32mif\u001b[0m \u001b[0mtype\u001b[0m\u001b[0;34m(\u001b[0m\u001b[0mobj\u001b[0m\u001b[0;34m)\u001b[0m\u001b[0;34m.\u001b[0m\u001b[0m__module__\u001b[0m \u001b[0;34m==\u001b[0m \u001b[0mgetattr\u001b[0m\u001b[0;34m(\u001b[0m\u001b[0m_main_module\u001b[0m\u001b[0;34m,\u001b[0m \u001b[0;34m'__name__'\u001b[0m\u001b[0;34m,\u001b[0m \u001b[0;34m'__main__'\u001b[0m\u001b[0;34m)\u001b[0m\u001b[0;34m:\u001b[0m\u001b[0;34m\u001b[0m\u001b[0;34m\u001b[0m\u001b[0m\n\u001b[1;32m    527\u001b[0m             \u001b[0;32mif\u001b[0m \u001b[0;32mnot\u001b[0m \u001b[0mself\u001b[0m\u001b[0;34m.\u001b[0m\u001b[0m_ignore\u001b[0m\u001b[0;34m:\u001b[0m\u001b[0;34m\u001b[0m\u001b[0;34m\u001b[0m\u001b[0m\n",
            "\u001b[0;32mpandas/_libs/internals.pyx\u001b[0m in \u001b[0;36mpandas._libs.internals.BlockManager.__setstate__\u001b[0;34m()\u001b[0m\n",
            "\u001b[0;32mpandas/_libs/internals.pyx\u001b[0m in \u001b[0;36mpandas._libs.internals.BlockManager.__setstate__\u001b[0;34m()\u001b[0m\n",
            "\u001b[0;32m/usr/local/lib/python3.7/dist-packages/pandas/core/internals/blocks.py\u001b[0m in \u001b[0;36mensure_block_shape\u001b[0;34m(values, ndim)\u001b[0m\n\u001b[1;32m   2030\u001b[0m         \u001b[0;32mreturn\u001b[0m \u001b[0mself\u001b[0m\u001b[0;34m.\u001b[0m\u001b[0m_holder\u001b[0m\u001b[0;34m.\u001b[0m\u001b[0m_simple_new\u001b[0m\u001b[0;34m(\u001b[0m\u001b[0mself\u001b[0m\u001b[0;34m.\u001b[0m\u001b[0mvalues\u001b[0m\u001b[0;34m)\u001b[0m\u001b[0;34m\u001b[0m\u001b[0;34m\u001b[0m\u001b[0m\n\u001b[1;32m   2031\u001b[0m \u001b[0;34m\u001b[0m\u001b[0m\n\u001b[0;32m-> 2032\u001b[0;31m     \u001b[0;32mdef\u001b[0m \u001b[0miget\u001b[0m\u001b[0;34m(\u001b[0m\u001b[0mself\u001b[0m\u001b[0;34m,\u001b[0m \u001b[0mkey\u001b[0m\u001b[0;34m)\u001b[0m\u001b[0;34m:\u001b[0m\u001b[0;34m\u001b[0m\u001b[0;34m\u001b[0m\u001b[0m\n\u001b[0m\u001b[1;32m   2033\u001b[0m         \u001b[0;31m# GH#31649 we need to wrap scalars in Timestamp/Timedelta\u001b[0m\u001b[0;34m\u001b[0m\u001b[0;34m\u001b[0m\u001b[0;34m\u001b[0m\u001b[0m\n\u001b[1;32m   2034\u001b[0m         \u001b[0;31m# TODO(EA2D): this can be removed if we ever have 2D EA\u001b[0m\u001b[0;34m\u001b[0m\u001b[0;34m\u001b[0m\u001b[0;34m\u001b[0m\u001b[0m\n",
            "\u001b[0;32m/usr/local/lib/python3.7/dist-packages/pandas/core/arrays/interval.py\u001b[0m in \u001b[0;36mdtype\u001b[0;34m(self)\u001b[0m\n\u001b[1;32m    610\u001b[0m             ):\n\u001b[1;32m    611\u001b[0m                 \u001b[0mresult\u001b[0m\u001b[0;34m[\u001b[0m\u001b[0mi\u001b[0m\u001b[0;34m]\u001b[0m \u001b[0;34m=\u001b[0m \u001b[0;32mTrue\u001b[0m\u001b[0;34m\u001b[0m\u001b[0;34m\u001b[0m\u001b[0m\n\u001b[0;32m--> 612\u001b[0;31m \u001b[0;34m\u001b[0m\u001b[0m\n\u001b[0m\u001b[1;32m    613\u001b[0m         \u001b[0;32mreturn\u001b[0m \u001b[0mresult\u001b[0m\u001b[0;34m\u001b[0m\u001b[0;34m\u001b[0m\u001b[0m\n\u001b[1;32m    614\u001b[0m \u001b[0;34m\u001b[0m\u001b[0m\n",
            "\u001b[0;31mAttributeError\u001b[0m: 'IntervalArray' object has no attribute '_dtype'"
          ]
        }
      ]
    },
    {
      "cell_type": "code",
      "execution_count": null,
      "metadata": {
        "id": "t0GG5_AwiN3d"
      },
      "outputs": [],
      "source": [
        "##Training - Using_tf-idf_vectorizer_for_drugname_feature_5Folds\n",
        "##XGboost\n",
        "##Set Parmeters\n",
        "# new_params_drug_tf_idf = {}\n",
        "# new_params_drug_tf_idf['feature_extractor']=[drug_tf_idf_preprocessor]\n",
        "# new_params_drug_tf_idf['classifier__sparse'] = [CSCTransformer()]\n",
        "# new_params_drug_tf_idf['classifier__num_parallel_tree'] =  [4]\n",
        "# new_params_drug_tf_idf['feature_extractor__categorical__target__min_samples_leaf']= [500]\n",
        "# new_params_drug_tf_idf['feature_extractor__drug__tf__min_df']= [0.0001,0.0005,0.001,0.05]\n",
        "# new_params_drug_tf_idf['classifier__objective'] =  ['binary:logistic']\n",
        "# new_params_drug_tf_idf['classifier__tree_method'] =  ['gpu_hist']\n",
        "# new_params_drug_tf_idf['classifier__eval_metric'] = ['auc']\n",
        "# new_params_drug_tf_idf['classifier__min_child_weight'] =  [5]\n",
        "# new_params_drug_tf_idf['classifier__gamma'] = [1]\n",
        "# new_params_drug_tf_idf['classifier__scale_pos_weight']=[0.85/0.15]\n",
        "# new_params_drug_tf_idf['classifier__subsample']=[0.5]\n",
        "# new_params_drug_tf_idf['classifier__colsample_bytree']=[0.6]\n",
        "# new_params_drug_tf_idf['classifier__max_delta_step']=[1,5]\n",
        "# new_params_drug_tf_idf['classifier__max_depth']= [5,10,20]\n",
        "# new_params_drug_tf_idf['classifier__learning_rate']= [0.001,0.1,0.2,0.4]\n",
        "\n",
        "##Training and save pickle file\n",
        "# filename = '/content/drive/MyDrive/Colab Notebooks/drug_tf_idf_XGboost.pkl'\n",
        "# drug_train =pipes_training()\n",
        "# drug_train.add_params(new_params_drug_tf_idf)\n",
        "# models = drug_train.train_pipes(train_features, train_labels['outc_cod'],test_features,test_labels['outc_cod'],default_params = False,params = 0)\n",
        "# pickle.dump(models[0], open(filename, 'wb'))\n",
        "\n",
        "\n",
        "\n"
      ]
    },
    {
      "cell_type": "code",
      "source": [
        "# new_params_drug_tf_idf = {}\n",
        "# new_params_drug_tf_idf['feature_extractor']=[drug_tf_idf_preprocessor]\n",
        "# new_params_drug_tf_idf['classifier__sparse'] = [CSCTransformer()]\n",
        "# new_params_drug_tf_idf['classifier__num_parallel_tree'] =  [4]\n",
        "# new_params_drug_tf_idf['feature_extractor__categorical__target__min_samples_leaf']= [500]\n",
        "# new_params_drug_tf_idf['feature_extractor__drug__tf__min_df']= [0.0005]\n",
        "# new_params_drug_tf_idf['classifier__objective'] =  ['binary:logistic']\n",
        "# new_params_drug_tf_idf['classifier__tree_method'] =  ['gpu_hist']\n",
        "# new_params_drug_tf_idf['classifier__eval_metric'] = ['auc']\n",
        "# new_params_drug_tf_idf['classifier__min_child_weight'] =  [5]\n",
        "# new_params_drug_tf_idf['classifier__gamma'] = [1]\n",
        "# new_params_drug_tf_idf['classifier__scale_pos_weight']=[0.85/0.15]\n",
        "# new_params_drug_tf_idf['classifier__subsample']=[0.5]\n",
        "# new_params_drug_tf_idf['classifier__colsample_bytree']=[0.6]\n",
        "# new_params_drug_tf_idf['classifier__max_delta_step']=[5]\n",
        "# new_params_drug_tf_idf['classifier__max_depth']= [20]\n",
        "# new_params_drug_tf_idf['classifier__learning_rate']= [0.4]\n",
        "\n",
        "#Training and save pickle file\n",
        "filename_s = '/content/drive/MyDrive/Colab Notebooks/drug_tf_idf_XGboost_newest.pkl'\n",
        "# drug_train =pipes_training()\n",
        "indi_tfidf_rforest = dillpickle.load(open(filename_s, 'rb'))\n",
        "# drug_train.add_params(new_params_drug_tf_idf)\n",
        "# models = drug_train.train_pipes(train_features, train_labels['outc_cod'],test_features,test_labels['outc_cod'],default_params = False,params = 0)\n",
        "# dillpickle.dump(models[0], open(filename, 'wb'))"
      ],
      "metadata": {
        "id": "ED12a5hF9K2g",
        "outputId": "3dc1771f-cb69-40fd-b613-7fe68ceb77b9",
        "colab": {
          "base_uri": "https://localhost:8080/",
          "height": 381
        }
      },
      "execution_count": 16,
      "outputs": [
        {
          "output_type": "error",
          "ename": "AttributeError",
          "evalue": "ignored",
          "traceback": [
            "\u001b[0;31m---------------------------------------------------------------------------\u001b[0m",
            "\u001b[0;31mAttributeError\u001b[0m                            Traceback (most recent call last)",
            "\u001b[0;32m<ipython-input-16-6e64e848d4ce>\u001b[0m in \u001b[0;36m<module>\u001b[0;34m()\u001b[0m\n\u001b[1;32m     20\u001b[0m \u001b[0mfilename_s\u001b[0m \u001b[0;34m=\u001b[0m \u001b[0;34m'/content/drive/MyDrive/Colab Notebooks/drug_tf_idf_XGboost_newest.pkl'\u001b[0m\u001b[0;34m\u001b[0m\u001b[0;34m\u001b[0m\u001b[0m\n\u001b[1;32m     21\u001b[0m \u001b[0;31m# drug_train =pipes_training()\u001b[0m\u001b[0;34m\u001b[0m\u001b[0;34m\u001b[0m\u001b[0;34m\u001b[0m\u001b[0m\n\u001b[0;32m---> 22\u001b[0;31m \u001b[0mindi_tfidf_rforest\u001b[0m \u001b[0;34m=\u001b[0m \u001b[0mdillpickle\u001b[0m\u001b[0;34m.\u001b[0m\u001b[0mload\u001b[0m\u001b[0;34m(\u001b[0m\u001b[0mopen\u001b[0m\u001b[0;34m(\u001b[0m\u001b[0mfilename_s\u001b[0m\u001b[0;34m,\u001b[0m \u001b[0;34m'rb'\u001b[0m\u001b[0;34m)\u001b[0m\u001b[0;34m)\u001b[0m\u001b[0;34m\u001b[0m\u001b[0;34m\u001b[0m\u001b[0m\n\u001b[0m\u001b[1;32m     23\u001b[0m \u001b[0;31m# drug_train.add_params(new_params_drug_tf_idf)\u001b[0m\u001b[0;34m\u001b[0m\u001b[0;34m\u001b[0m\u001b[0;34m\u001b[0m\u001b[0m\n\u001b[1;32m     24\u001b[0m \u001b[0;31m# models = drug_train.train_pipes(train_features, train_labels['outc_cod'],test_features,test_labels['outc_cod'],default_params = False,params = 0)\u001b[0m\u001b[0;34m\u001b[0m\u001b[0;34m\u001b[0m\u001b[0;34m\u001b[0m\u001b[0m\n",
            "\u001b[0;32m/usr/local/lib/python3.7/dist-packages/dill/_dill.py\u001b[0m in \u001b[0;36mload\u001b[0;34m(file, ignore, **kwds)\u001b[0m\n\u001b[1;32m    311\u001b[0m     \u001b[0mSee\u001b[0m \u001b[0;34m:\u001b[0m\u001b[0mfunc\u001b[0m\u001b[0;34m:\u001b[0m\u001b[0;31m`\u001b[0m\u001b[0mloads\u001b[0m\u001b[0;31m`\u001b[0m \u001b[0;32mfor\u001b[0m \u001b[0mkeyword\u001b[0m \u001b[0marguments\u001b[0m\u001b[0;34m.\u001b[0m\u001b[0;34m\u001b[0m\u001b[0;34m\u001b[0m\u001b[0m\n\u001b[1;32m    312\u001b[0m     \"\"\"\n\u001b[0;32m--> 313\u001b[0;31m     \u001b[0;32mreturn\u001b[0m \u001b[0mUnpickler\u001b[0m\u001b[0;34m(\u001b[0m\u001b[0mfile\u001b[0m\u001b[0;34m,\u001b[0m \u001b[0mignore\u001b[0m\u001b[0;34m=\u001b[0m\u001b[0mignore\u001b[0m\u001b[0;34m,\u001b[0m \u001b[0;34m**\u001b[0m\u001b[0mkwds\u001b[0m\u001b[0;34m)\u001b[0m\u001b[0;34m.\u001b[0m\u001b[0mload\u001b[0m\u001b[0;34m(\u001b[0m\u001b[0;34m)\u001b[0m\u001b[0;34m\u001b[0m\u001b[0;34m\u001b[0m\u001b[0m\n\u001b[0m\u001b[1;32m    314\u001b[0m \u001b[0;34m\u001b[0m\u001b[0m\n\u001b[1;32m    315\u001b[0m \u001b[0;32mdef\u001b[0m \u001b[0mloads\u001b[0m\u001b[0;34m(\u001b[0m\u001b[0mstr\u001b[0m\u001b[0;34m,\u001b[0m \u001b[0mignore\u001b[0m\u001b[0;34m=\u001b[0m\u001b[0;32mNone\u001b[0m\u001b[0;34m,\u001b[0m \u001b[0;34m**\u001b[0m\u001b[0mkwds\u001b[0m\u001b[0;34m)\u001b[0m\u001b[0;34m:\u001b[0m\u001b[0;34m\u001b[0m\u001b[0;34m\u001b[0m\u001b[0m\n",
            "\u001b[0;32m/usr/local/lib/python3.7/dist-packages/dill/_dill.py\u001b[0m in \u001b[0;36mload\u001b[0;34m(self)\u001b[0m\n\u001b[1;32m    523\u001b[0m \u001b[0;34m\u001b[0m\u001b[0m\n\u001b[1;32m    524\u001b[0m     \u001b[0;32mdef\u001b[0m \u001b[0mload\u001b[0m\u001b[0;34m(\u001b[0m\u001b[0mself\u001b[0m\u001b[0;34m)\u001b[0m\u001b[0;34m:\u001b[0m \u001b[0;31m#NOTE: if settings change, need to update attributes\u001b[0m\u001b[0;34m\u001b[0m\u001b[0;34m\u001b[0m\u001b[0m\n\u001b[0;32m--> 525\u001b[0;31m         \u001b[0mobj\u001b[0m \u001b[0;34m=\u001b[0m \u001b[0mStockUnpickler\u001b[0m\u001b[0;34m.\u001b[0m\u001b[0mload\u001b[0m\u001b[0;34m(\u001b[0m\u001b[0mself\u001b[0m\u001b[0;34m)\u001b[0m\u001b[0;34m\u001b[0m\u001b[0;34m\u001b[0m\u001b[0m\n\u001b[0m\u001b[1;32m    526\u001b[0m         \u001b[0;32mif\u001b[0m \u001b[0mtype\u001b[0m\u001b[0;34m(\u001b[0m\u001b[0mobj\u001b[0m\u001b[0;34m)\u001b[0m\u001b[0;34m.\u001b[0m\u001b[0m__module__\u001b[0m \u001b[0;34m==\u001b[0m \u001b[0mgetattr\u001b[0m\u001b[0;34m(\u001b[0m\u001b[0m_main_module\u001b[0m\u001b[0;34m,\u001b[0m \u001b[0;34m'__name__'\u001b[0m\u001b[0;34m,\u001b[0m \u001b[0;34m'__main__'\u001b[0m\u001b[0;34m)\u001b[0m\u001b[0;34m:\u001b[0m\u001b[0;34m\u001b[0m\u001b[0;34m\u001b[0m\u001b[0m\n\u001b[1;32m    527\u001b[0m             \u001b[0;32mif\u001b[0m \u001b[0;32mnot\u001b[0m \u001b[0mself\u001b[0m\u001b[0;34m.\u001b[0m\u001b[0m_ignore\u001b[0m\u001b[0;34m:\u001b[0m\u001b[0;34m\u001b[0m\u001b[0;34m\u001b[0m\u001b[0m\n",
            "\u001b[0;32m/usr/local/lib/python3.7/dist-packages/dill/_dill.py\u001b[0m in \u001b[0;36mfind_class\u001b[0;34m(self, module, name)\u001b[0m\n\u001b[1;32m    513\u001b[0m             \u001b[0;32mreturn\u001b[0m \u001b[0mtype\u001b[0m\u001b[0;34m(\u001b[0m\u001b[0;32mNone\u001b[0m\u001b[0;34m)\u001b[0m \u001b[0;31m#XXX: special case: NoneType missing\u001b[0m\u001b[0;34m\u001b[0m\u001b[0;34m\u001b[0m\u001b[0m\n\u001b[1;32m    514\u001b[0m         \u001b[0;32mif\u001b[0m \u001b[0mmodule\u001b[0m \u001b[0;34m==\u001b[0m \u001b[0;34m'dill.dill'\u001b[0m\u001b[0;34m:\u001b[0m \u001b[0mmodule\u001b[0m \u001b[0;34m=\u001b[0m \u001b[0;34m'dill._dill'\u001b[0m\u001b[0;34m\u001b[0m\u001b[0;34m\u001b[0m\u001b[0m\n\u001b[0;32m--> 515\u001b[0;31m         \u001b[0;32mreturn\u001b[0m \u001b[0mStockUnpickler\u001b[0m\u001b[0;34m.\u001b[0m\u001b[0mfind_class\u001b[0m\u001b[0;34m(\u001b[0m\u001b[0mself\u001b[0m\u001b[0;34m,\u001b[0m \u001b[0mmodule\u001b[0m\u001b[0;34m,\u001b[0m \u001b[0mname\u001b[0m\u001b[0;34m)\u001b[0m\u001b[0;34m\u001b[0m\u001b[0;34m\u001b[0m\u001b[0m\n\u001b[0m\u001b[1;32m    516\u001b[0m \u001b[0;34m\u001b[0m\u001b[0m\n\u001b[1;32m    517\u001b[0m     \u001b[0;32mdef\u001b[0m \u001b[0m__init__\u001b[0m\u001b[0;34m(\u001b[0m\u001b[0mself\u001b[0m\u001b[0;34m,\u001b[0m \u001b[0;34m*\u001b[0m\u001b[0margs\u001b[0m\u001b[0;34m,\u001b[0m \u001b[0;34m**\u001b[0m\u001b[0mkwds\u001b[0m\u001b[0;34m)\u001b[0m\u001b[0;34m:\u001b[0m\u001b[0;34m\u001b[0m\u001b[0;34m\u001b[0m\u001b[0m\n",
            "\u001b[0;31mAttributeError\u001b[0m: Can't get attribute 'new_block' on <module 'pandas.core.internals.blocks' from '/usr/local/lib/python3.7/dist-packages/pandas/core/internals/blocks.py'>"
          ]
        }
      ]
    },
    {
      "cell_type": "code",
      "source": [
        "import dill as dillpickle\n",
        "dillpickle.dump(models[0], open(filename, 'wb'))"
      ],
      "metadata": {
        "id": "6OKayyS0YCay"
      },
      "execution_count": 18,
      "outputs": []
    },
    {
      "cell_type": "code",
      "source": [
        "# test = dillpickle.load(open(filename, 'rb'))\n",
        "op.get_train_scores(test)"
      ],
      "metadata": {
        "id": "RpHrTEqmjNl9",
        "outputId": "b0bbffb0-0510-43cf-9680-048dd679fedd",
        "colab": {
          "base_uri": "https://localhost:8080/"
        }
      },
      "execution_count": 20,
      "outputs": [
        {
          "output_type": "stream",
          "name": "stdout",
          "text": [
            "---Algorithm performance---: \n",
            "AUC: 0.771\n",
            "Precision: 0.828\n",
            "Recall: 0.748\n",
            "Accuracy: 0.748\n",
            "-------------\n"
          ]
        }
      ]
    },
    {
      "cell_type": "code",
      "source": [
        "###Loading Results\n",
        "filename_csv = folder+'models/drug_tf_idf_XGboost.csv'\n",
        "results = folder+'models/drug_tf_idf_XGboost_results.PNG'\n",
        "##Pickle created with other pandas version(Kaggle), cant be loaded as pickle file\n",
        "# drug_tf_idf_XGBoost = dillpickle.load(open(filename, 'rb'))\n",
        "xgboost_drug_results = pd.read_csv(filename_csv)\n",
        "image = mpimg.imread(results)\n",
        "plt.imshow(image)\n",
        "plt.axis('off')"
      ],
      "metadata": {
        "id": "5opZbovdbPI6",
        "outputId": "7f64e327-da22-469b-ebcf-183d4f4f90dd",
        "colab": {
          "base_uri": "https://localhost:8080/",
          "height": 197
        }
      },
      "execution_count": null,
      "outputs": [
        {
          "output_type": "execute_result",
          "data": {
            "text/plain": [
              "(-0.5, 237.5, 105.5, -0.5)"
            ]
          },
          "metadata": {},
          "execution_count": 33
        },
        {
          "output_type": "display_data",
          "data": {
            "image/png": "[encoded data removed]",
            "text/plain": [
              "<Figure size 432x288 with 1 Axes>"
            ]
          },
          "metadata": {
            "needs_background": "light"
          }
        }
      ]
    },
    {
      "cell_type": "markdown",
      "metadata": {
        "id": "1jyNBYtTGa3t"
      },
      "source": [
        "# **Indication TF-IDF Model**"
      ]
    },
    {
      "cell_type": "code",
      "execution_count": null,
      "metadata": {
        "id": "u4xsjRYbmZTf"
      },
      "outputs": [],
      "source": [
        "##Training - Using_tf-idf_vectorizer_for_indi_pt_feature_5Folds\n",
        "##Logistic_Regression\n",
        "# baseline = pipes_training(preprocessor =[indi_tf_idf_preprocessor])\n",
        "# models = baseline.train_pipes(train_features,train_labels['outc_cod'],test_features,test_labels['outc_cod'])\n",
        "filename = folder+'models/indi_tf_idf_Logistic_Regression_onehot.pkl'\n",
        "# pickle.dump(models[0], open(filename, 'wb'))"
      ]
    },
    {
      "cell_type": "code",
      "source": [
        "###Loading Results\n",
        "indi_tfidf_logreg = dillpickle.load(open(filename, 'rb'))\n",
        "op.get_train_scores(indi_tfidf_logreg)"
      ],
      "metadata": {
        "id": "LfCWbBzvbF4J",
        "outputId": "d1493e2a-d60e-42c9-dd5e-b222fa6a54c1",
        "colab": {
          "base_uri": "https://localhost:8080/"
        }
      },
      "execution_count": null,
      "outputs": [
        {
          "output_type": "stream",
          "name": "stdout",
          "text": [
            "---Algorithm performance---: \n",
            "AUC: 0.695\n",
            "Precision: 0.798\n",
            "Recall: 0.696\n",
            "Accuracy: 0.696\n",
            "-------------\n"
          ]
        }
      ]
    },
    {
      "cell_type": "code",
      "execution_count": 34,
      "metadata": {
        "id": "Jl4qk_1PnItL"
      },
      "outputs": [],
      "source": [
        "##Training - Using_tf-idf_vectorizer_for_indi_pt_feature_5Folds\n",
        "##Random_Forest\n",
        "# baseline = pipes_training(preprocessor =[indi_tf_idf_preprocessor])\n",
        "# models = baseline.train_pipes(train_features,train_labels['outc_cod'],test_features,test_labels['outc_cod'],params=1)\n",
        "filename_r = folder+'models/indi_tf_idf_Random_Forest.pkl'\n",
        "# pickle.dump(models[0], open(filename, 'wb'))\n",
        "\n"
      ]
    },
    {
      "cell_type": "code",
      "source": [
        "###Results\n",
        "import joblib\n",
        "indi_tfidf_rforest = joblib.load(open(filename_r, 'rb'))\n",
        "op.get_train_scores(indi_tfidf_rforest)"
      ],
      "metadata": {
        "id": "ttI4u1s0bDlD",
        "outputId": "b783f049-8621-4db1-8a29-38bc670ae0fd",
        "colab": {
          "base_uri": "https://localhost:8080/",
          "height": 502
        }
      },
      "execution_count": 37,
      "outputs": [
        {
          "output_type": "error",
          "ename": "ModuleNotFoundError",
          "evalue": "ignored",
          "traceback": [
            "\u001b[0;31m---------------------------------------------------------------------------\u001b[0m",
            "\u001b[0;31mModuleNotFoundError\u001b[0m                       Traceback (most recent call last)",
            "\u001b[0;32m<ipython-input-37-0980fa026c6f>\u001b[0m in \u001b[0;36m<module>\u001b[0;34m()\u001b[0m\n\u001b[1;32m      1\u001b[0m \u001b[0;31m###Results\u001b[0m\u001b[0;34m\u001b[0m\u001b[0;34m\u001b[0m\u001b[0;34m\u001b[0m\u001b[0m\n\u001b[1;32m      2\u001b[0m \u001b[0;32mimport\u001b[0m \u001b[0mjoblib\u001b[0m\u001b[0;34m\u001b[0m\u001b[0;34m\u001b[0m\u001b[0m\n\u001b[0;32m----> 3\u001b[0;31m \u001b[0mindi_tfidf_rforest\u001b[0m \u001b[0;34m=\u001b[0m \u001b[0mjoblib\u001b[0m\u001b[0;34m.\u001b[0m\u001b[0mload\u001b[0m\u001b[0;34m(\u001b[0m\u001b[0mopen\u001b[0m\u001b[0;34m(\u001b[0m\u001b[0mfilename_r\u001b[0m\u001b[0;34m,\u001b[0m \u001b[0;34m'rb'\u001b[0m\u001b[0;34m)\u001b[0m\u001b[0;34m)\u001b[0m\u001b[0;34m\u001b[0m\u001b[0;34m\u001b[0m\u001b[0m\n\u001b[0m\u001b[1;32m      4\u001b[0m \u001b[0mop\u001b[0m\u001b[0;34m.\u001b[0m\u001b[0mget_train_scores\u001b[0m\u001b[0;34m(\u001b[0m\u001b[0mindi_tfidf_rforest\u001b[0m\u001b[0;34m)\u001b[0m\u001b[0;34m\u001b[0m\u001b[0;34m\u001b[0m\u001b[0m\n",
            "\u001b[0;32m/usr/local/lib/python3.7/dist-packages/joblib/numpy_pickle.py\u001b[0m in \u001b[0;36mload\u001b[0;34m(filename, mmap_mode)\u001b[0m\n\u001b[1;32m    575\u001b[0m         \u001b[0mfilename\u001b[0m \u001b[0;34m=\u001b[0m \u001b[0mgetattr\u001b[0m\u001b[0;34m(\u001b[0m\u001b[0mfobj\u001b[0m\u001b[0;34m,\u001b[0m \u001b[0;34m'name'\u001b[0m\u001b[0;34m,\u001b[0m \u001b[0;34m''\u001b[0m\u001b[0;34m)\u001b[0m\u001b[0;34m\u001b[0m\u001b[0;34m\u001b[0m\u001b[0m\n\u001b[1;32m    576\u001b[0m         \u001b[0;32mwith\u001b[0m \u001b[0m_read_fileobject\u001b[0m\u001b[0;34m(\u001b[0m\u001b[0mfobj\u001b[0m\u001b[0;34m,\u001b[0m \u001b[0mfilename\u001b[0m\u001b[0;34m,\u001b[0m \u001b[0mmmap_mode\u001b[0m\u001b[0;34m)\u001b[0m \u001b[0;32mas\u001b[0m \u001b[0mfobj\u001b[0m\u001b[0;34m:\u001b[0m\u001b[0;34m\u001b[0m\u001b[0;34m\u001b[0m\u001b[0m\n\u001b[0;32m--> 577\u001b[0;31m             \u001b[0mobj\u001b[0m \u001b[0;34m=\u001b[0m \u001b[0m_unpickle\u001b[0m\u001b[0;34m(\u001b[0m\u001b[0mfobj\u001b[0m\u001b[0;34m)\u001b[0m\u001b[0;34m\u001b[0m\u001b[0;34m\u001b[0m\u001b[0m\n\u001b[0m\u001b[1;32m    578\u001b[0m     \u001b[0;32melse\u001b[0m\u001b[0;34m:\u001b[0m\u001b[0;34m\u001b[0m\u001b[0;34m\u001b[0m\u001b[0m\n\u001b[1;32m    579\u001b[0m         \u001b[0;32mwith\u001b[0m \u001b[0mopen\u001b[0m\u001b[0;34m(\u001b[0m\u001b[0mfilename\u001b[0m\u001b[0;34m,\u001b[0m \u001b[0;34m'rb'\u001b[0m\u001b[0;34m)\u001b[0m \u001b[0;32mas\u001b[0m \u001b[0mf\u001b[0m\u001b[0;34m:\u001b[0m\u001b[0;34m\u001b[0m\u001b[0;34m\u001b[0m\u001b[0m\n",
            "\u001b[0;32m/usr/local/lib/python3.7/dist-packages/joblib/numpy_pickle.py\u001b[0m in \u001b[0;36m_unpickle\u001b[0;34m(fobj, filename, mmap_mode)\u001b[0m\n\u001b[1;32m    504\u001b[0m     \u001b[0mobj\u001b[0m \u001b[0;34m=\u001b[0m \u001b[0;32mNone\u001b[0m\u001b[0;34m\u001b[0m\u001b[0;34m\u001b[0m\u001b[0m\n\u001b[1;32m    505\u001b[0m     \u001b[0;32mtry\u001b[0m\u001b[0;34m:\u001b[0m\u001b[0;34m\u001b[0m\u001b[0;34m\u001b[0m\u001b[0m\n\u001b[0;32m--> 506\u001b[0;31m         \u001b[0mobj\u001b[0m \u001b[0;34m=\u001b[0m \u001b[0munpickler\u001b[0m\u001b[0;34m.\u001b[0m\u001b[0mload\u001b[0m\u001b[0;34m(\u001b[0m\u001b[0;34m)\u001b[0m\u001b[0;34m\u001b[0m\u001b[0;34m\u001b[0m\u001b[0m\n\u001b[0m\u001b[1;32m    507\u001b[0m         \u001b[0;32mif\u001b[0m \u001b[0munpickler\u001b[0m\u001b[0;34m.\u001b[0m\u001b[0mcompat_mode\u001b[0m\u001b[0;34m:\u001b[0m\u001b[0;34m\u001b[0m\u001b[0;34m\u001b[0m\u001b[0m\n\u001b[1;32m    508\u001b[0m             warnings.warn(\"The file '%s' has been generated with a \"\n",
            "\u001b[0;32m/usr/lib/python3.7/pickle.py\u001b[0m in \u001b[0;36mload\u001b[0;34m(self)\u001b[0m\n\u001b[1;32m   1086\u001b[0m                     \u001b[0;32mraise\u001b[0m \u001b[0mEOFError\u001b[0m\u001b[0;34m\u001b[0m\u001b[0;34m\u001b[0m\u001b[0m\n\u001b[1;32m   1087\u001b[0m                 \u001b[0;32massert\u001b[0m \u001b[0misinstance\u001b[0m\u001b[0;34m(\u001b[0m\u001b[0mkey\u001b[0m\u001b[0;34m,\u001b[0m \u001b[0mbytes_types\u001b[0m\u001b[0;34m)\u001b[0m\u001b[0;34m\u001b[0m\u001b[0;34m\u001b[0m\u001b[0m\n\u001b[0;32m-> 1088\u001b[0;31m                 \u001b[0mdispatch\u001b[0m\u001b[0;34m[\u001b[0m\u001b[0mkey\u001b[0m\u001b[0;34m[\u001b[0m\u001b[0;36m0\u001b[0m\u001b[0;34m]\u001b[0m\u001b[0;34m]\u001b[0m\u001b[0;34m(\u001b[0m\u001b[0mself\u001b[0m\u001b[0;34m)\u001b[0m\u001b[0;34m\u001b[0m\u001b[0;34m\u001b[0m\u001b[0m\n\u001b[0m\u001b[1;32m   1089\u001b[0m         \u001b[0;32mexcept\u001b[0m \u001b[0m_Stop\u001b[0m \u001b[0;32mas\u001b[0m \u001b[0mstopinst\u001b[0m\u001b[0;34m:\u001b[0m\u001b[0;34m\u001b[0m\u001b[0;34m\u001b[0m\u001b[0m\n\u001b[1;32m   1090\u001b[0m             \u001b[0;32mreturn\u001b[0m \u001b[0mstopinst\u001b[0m\u001b[0;34m.\u001b[0m\u001b[0mvalue\u001b[0m\u001b[0;34m\u001b[0m\u001b[0;34m\u001b[0m\u001b[0m\n",
            "\u001b[0;32m/usr/lib/python3.7/pickle.py\u001b[0m in \u001b[0;36mload_global\u001b[0;34m(self)\u001b[0m\n\u001b[1;32m   1374\u001b[0m         \u001b[0mmodule\u001b[0m \u001b[0;34m=\u001b[0m \u001b[0mself\u001b[0m\u001b[0;34m.\u001b[0m\u001b[0mreadline\u001b[0m\u001b[0;34m(\u001b[0m\u001b[0;34m)\u001b[0m\u001b[0;34m[\u001b[0m\u001b[0;34m:\u001b[0m\u001b[0;34m-\u001b[0m\u001b[0;36m1\u001b[0m\u001b[0;34m]\u001b[0m\u001b[0;34m.\u001b[0m\u001b[0mdecode\u001b[0m\u001b[0;34m(\u001b[0m\u001b[0;34m\"utf-8\"\u001b[0m\u001b[0;34m)\u001b[0m\u001b[0;34m\u001b[0m\u001b[0;34m\u001b[0m\u001b[0m\n\u001b[1;32m   1375\u001b[0m         \u001b[0mname\u001b[0m \u001b[0;34m=\u001b[0m \u001b[0mself\u001b[0m\u001b[0;34m.\u001b[0m\u001b[0mreadline\u001b[0m\u001b[0;34m(\u001b[0m\u001b[0;34m)\u001b[0m\u001b[0;34m[\u001b[0m\u001b[0;34m:\u001b[0m\u001b[0;34m-\u001b[0m\u001b[0;36m1\u001b[0m\u001b[0;34m]\u001b[0m\u001b[0;34m.\u001b[0m\u001b[0mdecode\u001b[0m\u001b[0;34m(\u001b[0m\u001b[0;34m\"utf-8\"\u001b[0m\u001b[0;34m)\u001b[0m\u001b[0;34m\u001b[0m\u001b[0;34m\u001b[0m\u001b[0m\n\u001b[0;32m-> 1376\u001b[0;31m         \u001b[0mklass\u001b[0m \u001b[0;34m=\u001b[0m \u001b[0mself\u001b[0m\u001b[0;34m.\u001b[0m\u001b[0mfind_class\u001b[0m\u001b[0;34m(\u001b[0m\u001b[0mmodule\u001b[0m\u001b[0;34m,\u001b[0m \u001b[0mname\u001b[0m\u001b[0;34m)\u001b[0m\u001b[0;34m\u001b[0m\u001b[0;34m\u001b[0m\u001b[0m\n\u001b[0m\u001b[1;32m   1377\u001b[0m         \u001b[0mself\u001b[0m\u001b[0;34m.\u001b[0m\u001b[0mappend\u001b[0m\u001b[0;34m(\u001b[0m\u001b[0mklass\u001b[0m\u001b[0;34m)\u001b[0m\u001b[0;34m\u001b[0m\u001b[0;34m\u001b[0m\u001b[0m\n\u001b[1;32m   1378\u001b[0m     \u001b[0mdispatch\u001b[0m\u001b[0;34m[\u001b[0m\u001b[0mGLOBAL\u001b[0m\u001b[0;34m[\u001b[0m\u001b[0;36m0\u001b[0m\u001b[0;34m]\u001b[0m\u001b[0;34m]\u001b[0m \u001b[0;34m=\u001b[0m \u001b[0mload_global\u001b[0m\u001b[0;34m\u001b[0m\u001b[0;34m\u001b[0m\u001b[0m\n",
            "\u001b[0;32m/usr/lib/python3.7/pickle.py\u001b[0m in \u001b[0;36mfind_class\u001b[0;34m(self, module, name)\u001b[0m\n\u001b[1;32m   1424\u001b[0m             \u001b[0;32melif\u001b[0m \u001b[0mmodule\u001b[0m \u001b[0;32min\u001b[0m \u001b[0m_compat_pickle\u001b[0m\u001b[0;34m.\u001b[0m\u001b[0mIMPORT_MAPPING\u001b[0m\u001b[0;34m:\u001b[0m\u001b[0;34m\u001b[0m\u001b[0;34m\u001b[0m\u001b[0m\n\u001b[1;32m   1425\u001b[0m                 \u001b[0mmodule\u001b[0m \u001b[0;34m=\u001b[0m \u001b[0m_compat_pickle\u001b[0m\u001b[0;34m.\u001b[0m\u001b[0mIMPORT_MAPPING\u001b[0m\u001b[0;34m[\u001b[0m\u001b[0mmodule\u001b[0m\u001b[0;34m]\u001b[0m\u001b[0;34m\u001b[0m\u001b[0;34m\u001b[0m\u001b[0m\n\u001b[0;32m-> 1426\u001b[0;31m         \u001b[0m__import__\u001b[0m\u001b[0;34m(\u001b[0m\u001b[0mmodule\u001b[0m\u001b[0;34m,\u001b[0m \u001b[0mlevel\u001b[0m\u001b[0;34m=\u001b[0m\u001b[0;36m0\u001b[0m\u001b[0;34m)\u001b[0m\u001b[0;34m\u001b[0m\u001b[0;34m\u001b[0m\u001b[0m\n\u001b[0m\u001b[1;32m   1427\u001b[0m         \u001b[0;32mif\u001b[0m \u001b[0mself\u001b[0m\u001b[0;34m.\u001b[0m\u001b[0mproto\u001b[0m \u001b[0;34m>=\u001b[0m \u001b[0;36m4\u001b[0m\u001b[0;34m:\u001b[0m\u001b[0;34m\u001b[0m\u001b[0;34m\u001b[0m\u001b[0m\n\u001b[1;32m   1428\u001b[0m             \u001b[0;32mreturn\u001b[0m \u001b[0m_getattribute\u001b[0m\u001b[0;34m(\u001b[0m\u001b[0msys\u001b[0m\u001b[0;34m.\u001b[0m\u001b[0mmodules\u001b[0m\u001b[0;34m[\u001b[0m\u001b[0mmodule\u001b[0m\u001b[0;34m]\u001b[0m\u001b[0;34m,\u001b[0m \u001b[0mname\u001b[0m\u001b[0;34m)\u001b[0m\u001b[0;34m[\u001b[0m\u001b[0;36m0\u001b[0m\u001b[0;34m]\u001b[0m\u001b[0;34m\u001b[0m\u001b[0;34m\u001b[0m\u001b[0m\n",
            "\u001b[0;31mModuleNotFoundError\u001b[0m: No module named '__builtin__'",
            "",
            "\u001b[0;31m---------------------------------------------------------------------------\u001b[0;32m\nNOTE: If your import is failing due to a missing package, you can\nmanually install dependencies using either !pip or !apt.\n\nTo view examples of installing some common dependencies, click the\n\"Open Examples\" button below.\n\u001b[0;31m---------------------------------------------------------------------------\u001b[0m\n"
          ],
          "errorDetails": {
            "actions": [
              {
                "action": "open_url",
                "actionText": "Open Examples",
                "url": "/notebooks/snippets/importing_libraries.ipynb"
              }
            ]
          }
        }
      ]
    },
    {
      "cell_type": "code",
      "source": [
        "best_classifiers = {'Baseline_XGboost':indi_tfidf_rforest}\n",
        "op.compare_models(test_features,test_labels,best_classifiers)"
      ],
      "metadata": {
        "id": "V0gXTZgyzSo8"
      },
      "execution_count": null,
      "outputs": []
    },
    {
      "cell_type": "code",
      "execution_count": null,
      "metadata": {
        "id": "b48c06qi8d6G"
      },
      "outputs": [],
      "source": [
        "##Training - Using_tf-idf_vectorizer_for_indi_pt_feature_5Folds\n",
        "##XGboost\n",
        "##Set Parmeters\n",
        "# new_params_indi_tf_idf = {}\n",
        "# new_params_indi_tf_idf['feature_extractor']=[indi_tf_idf_preprocessor]\n",
        "# new_params_indi_tf_idf['classifier__sparse'] = [CSCTransformer()]\n",
        "# new_params_indi_tf_idf['classifier__num_parallel_tree'] =  [4]\n",
        "# new_params_indi_tf_idf['feature_extractor__categorical__target__min_samples_leaf']= [500]\n",
        "# new_params_indi_tf_idf['feature_extractor__indi__tf__min_df']= [0.0001,0.0005,0.001,0.05]\n",
        "# new_params_indi_tf_idf['classifier__objective'] =  ['binary:logistic']\n",
        "# new_params_indi_tf_idf['classifier__tree_method'] =  ['gpu_hist']\n",
        "# new_params_indi_tf_idf['classifier__eval_metric'] = ['auc']\n",
        "# new_params_indi_tf_idf['classifier__min_child_weight'] =  [5]\n",
        "# new_params_indi_tf_idf['classifier__gamma'] = [1]\n",
        "# new_params_indi_tf_idf['classifier__scale_pos_weight']=[0.85/0.15]\n",
        "# new_params_indi_tf_idf['classifier__subsample']=[0.5]\n",
        "# new_params_indi_tf_idf['classifier__colsample_bytree']=[0.6]\n",
        "# new_params_indi_tf_idf['classifier__max_delta_step']=[1,5]\n",
        "# new_params_indi_tf_idf['classifier__max_depth']= [10,20]\n",
        "# new_params_indi_tf_idf['classifier__learning_rate']= [0.001,0.1,0.2,0.4]\n",
        "\n",
        "\n",
        "##Training and save pickle file\n",
        "# filename = '/content/drive/MyDrive/Colab Notebooks/indi_tf_idf_XGboost.pkl'\n",
        "# indi_train =pipes_training()\n",
        "# indi_train.add_params(new_params_indi_tf_idf)\n",
        "# models = indi_train.train_pipes(train_features, train_labels['outc_cod'],test_features,test_labels['outc_cod'],default_params = False,params = 0)\n",
        "# pickle.dump(models[0], open(filename, 'wb'))"
      ]
    },
    {
      "cell_type": "code",
      "source": [
        "##Training - Using_tf-idf_vectorizer_for_indi_pt_feature_5Folds\n",
        "##XGboost\n",
        "#Set Parmeters\n",
        "new_params_indi_tf_idf = {}\n",
        "new_params_indi_tf_idf['feature_extractor']=[indi_tf_idf_preprocessor]\n",
        "new_params_indi_tf_idf['classifier__sparse'] = [CSCTransformer()]\n",
        "new_params_indi_tf_idf['classifier__num_parallel_tree'] =  [4]\n",
        "new_params_indi_tf_idf['feature_extractor__categorical__target__min_samples_leaf']= [500]\n",
        "new_params_indi_tf_idf['feature_extractor__indi__tf__min_df']= [0.0005]\n",
        "new_params_indi_tf_idf['classifier__objective'] =  ['binary:logistic']\n",
        "new_params_indi_tf_idf['classifier__tree_method'] =  ['gpu_hist']\n",
        "new_params_indi_tf_idf['classifier__eval_metric'] = ['auc']\n",
        "new_params_indi_tf_idf['classifier__min_child_weight'] =  [5]\n",
        "new_params_indi_tf_idf['classifier__gamma'] = [1]\n",
        "new_params_indi_tf_idf['classifier__scale_pos_weight']=[0.85/0.15]\n",
        "new_params_indi_tf_idf['classifier__subsample']=[0.5]\n",
        "new_params_indi_tf_idf['classifier__colsample_bytree']=[0.6]\n",
        "new_params_indi_tf_idf['classifier__max_delta_step']=[5]\n",
        "new_params_indi_tf_idf['classifier__max_depth']= [20]\n",
        "new_params_indi_tf_idf['classifier__learning_rate']= [0.4]\n",
        "\n",
        "\n",
        "#Training and save pickle file\n",
        "filename = '/content/drive/MyDrive/Colab Notebooks/indi_tf_idf_XGboost_new2.pkl'\n",
        "indi_train =pipes_training(num_val_folds=2)\n",
        "indi_train.add_params(new_params_indi_tf_idf)\n",
        "models = indi_train.train_pipes(train_features, train_labels['outc_cod'],test_features,test_labels['outc_cod'],default_params = False,params = 0)\n",
        "dillpickle.dump(models[0], open(filename, 'wb'))"
      ],
      "metadata": {
        "id": "5yWBLOLDkOFX",
        "outputId": "1d6de2fe-6f8d-41bf-dc34-c856c938c4c4",
        "colab": {
          "base_uri": "https://localhost:8080/"
        }
      },
      "execution_count": 24,
      "outputs": [
        {
          "output_type": "stream",
          "name": "stdout",
          "text": [
            "XGBClassifier(base_score=None, booster=None, colsample_bylevel=None,\n",
            "              colsample_bynode=None, colsample_bytree=None,\n",
            "              enable_categorical=False, gamma=None, gpu_id=None,\n",
            "              importance_type=None, interaction_constraints=None,\n",
            "              learning_rate=None, max_delta_step=None, max_depth=None,\n",
            "              min_child_weight=None, missing=nan, monotone_constraints=None,\n",
            "              n_estimators=100, n_jobs=None, num_parallel_tree=None,\n",
            "              predictor=None, random_state=None, reg_alpha=None,\n",
            "              reg_lambda=None, scale_pos_weight=None, subsample=None,\n",
            "              tree_method=None, validate_parameters=None, verbosity=None)\n",
            "<class 'pandas.core.series.Series'>\n",
            "Fitting (training) the models and performing hyper parameter search. Time: 2022-02-02 14:30:57.988413\n",
            "Fitting 2 folds for each of 1 candidates, totalling 2 fits\n"
          ]
        },
        {
          "output_type": "stream",
          "name": "stderr",
          "text": [
            "/usr/local/lib/python3.7/dist-packages/sklearn/model_selection/_search.py:296: UserWarning: The total space of parameters 1 is smaller than n_iter=10. Running 1 iterations. For exhaustive searches, use GridSearchCV.\n",
            "  UserWarning,\n"
          ]
        },
        {
          "output_type": "stream",
          "name": "stdout",
          "text": [
            "[CV 1/2; 1/1] START classifier__colsample_bytree=0.6, classifier__eval_metric=auc, classifier__gamma=1, classifier__learning_rate=0.4, classifier__max_delta_step=5, classifier__max_depth=20, classifier__min_child_weight=5, classifier__num_parallel_tree=4, classifier__objective=binary:logistic, classifier__scale_pos_weight=5.666666666666667, classifier__sparse=<__main__.CSCTransformer object at 0x7f6c70948850>, classifier__subsample=0.5, classifier__tree_method=gpu_hist, feature_extractor=ColumnTransformer(transformers=[('sex',\n",
            "                                 Pipeline(steps=[('se',\n",
            "                                                  FunctionTransformer(func=<function sex_transform_to_pipe at 0x7f6c6a053050>)),\n",
            "                                                 ('onehot', OneHotEncoder())]),\n",
            "                                 ['sex']),\n",
            "                                ('age2',\n",
            "                                 Pipeline(steps=[('age', ageImputer()),\n",
            "                                                 ('scale', StandardScaler())]),\n",
            "                                 ['age']),\n",
            "                                ('indi',\n",
            "                                 Pipeline(steps=[('extract_list',\n",
            "                                                  FunctionTransformer(func=<function convert_df_column_to_list at 0x7f6c6a0533b0>)),\n",
            "                                                 ('tf',\n",
            "                                                  TfidfVectorizer(lowercase=False,\n",
            "                                                                  preprocessor=<function <lambda> at 0x7f6c6afcc290>,\n",
            "                                                                  tokenizer=<function <lambda> at 0x7f6c6a053950>))]),\n",
            "                                 ['indi_pt']),\n",
            "                                ('categorical',\n",
            "                                 Pipeline(steps=[('target', TargetEncoder())]),\n",
            "                                 ['occr_country'])]), feature_extractor__categorical__target__min_samples_leaf=500, feature_extractor__indi__tf__min_df=0.0005\n"
          ]
        },
        {
          "output_type": "stream",
          "name": "stderr",
          "text": [
            "/usr/local/lib/python3.7/dist-packages/xgboost/sklearn.py:1224: UserWarning: The use of label encoder in XGBClassifier is deprecated and will be removed in a future release. To remove this warning, do the following: 1) Pass option use_label_encoder=False when constructing XGBClassifier object; and 2) Encode your labels (y) as integers starting with 0, i.e. 0, 1, 2, ..., [num_class - 1].\n",
            "  warnings.warn(label_encoder_deprecation_msg, UserWarning)\n"
          ]
        },
        {
          "output_type": "stream",
          "name": "stdout",
          "text": [
            "[14:33:20] WARNING: ../src/learner.cc:576: \n",
            "Parameters: { \"sparse\" } might not be used.\n",
            "\n",
            "  This could be a false alarm, with some parameters getting used by language bindings but\n",
            "  then being mistakenly passed down to XGBoost core, or some parameter actually being used\n",
            "  but getting flagged wrongly here. Please open an issue if you find any such cases.\n",
            "\n",
            "\n",
            "[CV 1/2; 1/1] END classifier__colsample_bytree=0.6, classifier__eval_metric=auc, classifier__gamma=1, classifier__learning_rate=0.4, classifier__max_delta_step=5, classifier__max_depth=20, classifier__min_child_weight=5, classifier__num_parallel_tree=4, classifier__objective=binary:logistic, classifier__scale_pos_weight=5.666666666666667, classifier__sparse=<__main__.CSCTransformer object at 0x7f6c70948850>, classifier__subsample=0.5, classifier__tree_method=gpu_hist, feature_extractor=ColumnTransformer(transformers=[('sex',\n",
            "                                 Pipeline(steps=[('se',\n",
            "                                                  FunctionTransformer(func=<function sex_transform_to_pipe at 0x7f6c6a053050>)),\n",
            "                                                 ('onehot', OneHotEncoder())]),\n",
            "                                 ['sex']),\n",
            "                                ('age2',\n",
            "                                 Pipeline(steps=[('age', ageImputer()),\n",
            "                                                 ('scale', StandardScaler())]),\n",
            "                                 ['age']),\n",
            "                                ('indi',\n",
            "                                 Pipeline(steps=[('extract_list',\n",
            "                                                  FunctionTransformer(func=<function convert_df_column_to_list at 0x7f6c6a0533b0>)),\n",
            "                                                 ('tf',\n",
            "                                                  TfidfVectorizer(lowercase=False,\n",
            "                                                                  preprocessor=<function <lambda> at 0x7f6c6afcc290>,\n",
            "                                                                  tokenizer=<function <lambda> at 0x7f6c6a053950>))]),\n",
            "                                 ['indi_pt']),\n",
            "                                ('categorical',\n",
            "                                 Pipeline(steps=[('target', TargetEncoder())]),\n",
            "                                 ['occr_country'])]), feature_extractor__categorical__target__min_samples_leaf=500, feature_extractor__indi__tf__min_df=0.0005; AUC: (test=0.713) Accuracy: (test=0.695) Precision: (test=0.806) Recall: (test=0.695) total time=20.2min\n",
            "[CV 2/2; 1/1] START classifier__colsample_bytree=0.6, classifier__eval_metric=auc, classifier__gamma=1, classifier__learning_rate=0.4, classifier__max_delta_step=5, classifier__max_depth=20, classifier__min_child_weight=5, classifier__num_parallel_tree=4, classifier__objective=binary:logistic, classifier__scale_pos_weight=5.666666666666667, classifier__sparse=<__main__.CSCTransformer object at 0x7f6c70948850>, classifier__subsample=0.5, classifier__tree_method=gpu_hist, feature_extractor=ColumnTransformer(transformers=[('sex',\n",
            "                                 Pipeline(steps=[('se',\n",
            "                                                  FunctionTransformer(func=<function sex_transform_to_pipe at 0x7f6c6a053050>)),\n",
            "                                                 ('onehot', OneHotEncoder())]),\n",
            "                                 ['sex']),\n",
            "                                ('age2',\n",
            "                                 Pipeline(steps=[('age', ageImputer()),\n",
            "                                                 ('scale', StandardScaler())]),\n",
            "                                 ['age']),\n",
            "                                ('indi',\n",
            "                                 Pipeline(steps=[('extract_list',\n",
            "                                                  FunctionTransformer(func=<function convert_df_column_to_list at 0x7f6c6a0533b0>)),\n",
            "                                                 ('tf',\n",
            "                                                  TfidfVectorizer(lowercase=False,\n",
            "                                                                  preprocessor=<function <lambda> at 0x7f6c6afcc290>,\n",
            "                                                                  tokenizer=<function <lambda> at 0x7f6c6a053950>))]),\n",
            "                                 ['indi_pt']),\n",
            "                                ('categorical',\n",
            "                                 Pipeline(steps=[('target', TargetEncoder())]),\n",
            "                                 ['occr_country'])]), feature_extractor__categorical__target__min_samples_leaf=500, feature_extractor__indi__tf__min_df=0.0005\n"
          ]
        },
        {
          "output_type": "stream",
          "name": "stderr",
          "text": [
            "/usr/local/lib/python3.7/dist-packages/xgboost/sklearn.py:1224: UserWarning: The use of label encoder in XGBClassifier is deprecated and will be removed in a future release. To remove this warning, do the following: 1) Pass option use_label_encoder=False when constructing XGBClassifier object; and 2) Encode your labels (y) as integers starting with 0, i.e. 0, 1, 2, ..., [num_class - 1].\n",
            "  warnings.warn(label_encoder_deprecation_msg, UserWarning)\n"
          ]
        },
        {
          "output_type": "stream",
          "name": "stdout",
          "text": [
            "[14:53:23] WARNING: ../src/learner.cc:576: \n",
            "Parameters: { \"sparse\" } might not be used.\n",
            "\n",
            "  This could be a false alarm, with some parameters getting used by language bindings but\n",
            "  then being mistakenly passed down to XGBoost core, or some parameter actually being used\n",
            "  but getting flagged wrongly here. Please open an issue if you find any such cases.\n",
            "\n",
            "\n",
            "[CV 2/2; 1/1] END classifier__colsample_bytree=0.6, classifier__eval_metric=auc, classifier__gamma=1, classifier__learning_rate=0.4, classifier__max_delta_step=5, classifier__max_depth=20, classifier__min_child_weight=5, classifier__num_parallel_tree=4, classifier__objective=binary:logistic, classifier__scale_pos_weight=5.666666666666667, classifier__sparse=<__main__.CSCTransformer object at 0x7f6c70948850>, classifier__subsample=0.5, classifier__tree_method=gpu_hist, feature_extractor=ColumnTransformer(transformers=[('sex',\n",
            "                                 Pipeline(steps=[('se',\n",
            "                                                  FunctionTransformer(func=<function sex_transform_to_pipe at 0x7f6c6a053050>)),\n",
            "                                                 ('onehot', OneHotEncoder())]),\n",
            "                                 ['sex']),\n",
            "                                ('age2',\n",
            "                                 Pipeline(steps=[('age', ageImputer()),\n",
            "                                                 ('scale', StandardScaler())]),\n",
            "                                 ['age']),\n",
            "                                ('indi',\n",
            "                                 Pipeline(steps=[('extract_list',\n",
            "                                                  FunctionTransformer(func=<function convert_df_column_to_list at 0x7f6c6a0533b0>)),\n",
            "                                                 ('tf',\n",
            "                                                  TfidfVectorizer(lowercase=False,\n",
            "                                                                  preprocessor=<function <lambda> at 0x7f6c6afcc290>,\n",
            "                                                                  tokenizer=<function <lambda> at 0x7f6c6a053950>))]),\n",
            "                                 ['indi_pt']),\n",
            "                                ('categorical',\n",
            "                                 Pipeline(steps=[('target', TargetEncoder())]),\n",
            "                                 ['occr_country'])]), feature_extractor__categorical__target__min_samples_leaf=500, feature_extractor__indi__tf__min_df=0.0005; AUC: (test=0.736) Accuracy: (test=0.701) Precision: (test=0.818) Recall: (test=0.701) total time=18.5min\n"
          ]
        },
        {
          "output_type": "stream",
          "name": "stderr",
          "text": [
            "/usr/local/lib/python3.7/dist-packages/xgboost/sklearn.py:1224: UserWarning: The use of label encoder in XGBClassifier is deprecated and will be removed in a future release. To remove this warning, do the following: 1) Pass option use_label_encoder=False when constructing XGBClassifier object; and 2) Encode your labels (y) as integers starting with 0, i.e. 0, 1, 2, ..., [num_class - 1].\n",
            "  warnings.warn(label_encoder_deprecation_msg, UserWarning)\n"
          ]
        },
        {
          "output_type": "stream",
          "name": "stdout",
          "text": [
            "[15:14:12] WARNING: ../src/learner.cc:576: \n",
            "Parameters: { \"sparse\" } might not be used.\n",
            "\n",
            "  This could be a false alarm, with some parameters getting used by language bindings but\n",
            "  then being mistakenly passed down to XGBoost core, or some parameter actually being used\n",
            "  but getting flagged wrongly here. Please open an issue if you find any such cases.\n",
            "\n",
            "\n",
            "---Algorithm performance---: \n",
            "AUC: 0.724\n",
            "Precision: 0.812\n",
            "Recall: 0.698\n",
            "Accuracy: 0.698\n",
            "-------------\n",
            "Training took 3564.073161 seconds\n"
          ]
        }
      ]
    },
    {
      "cell_type": "code",
      "source": [
        "###Loading Results\n",
        "##Pickle created with other pandas version(Kaggle), cant be loaded as pickle\n",
        "#indi_tf_idf_XGBoost = dillpickle.load(open(filename, 'rb'))\n",
        "filename_csv = folder+'models/indi_tf_idf_XGboost_results.csv'\n",
        "results = folder+'models/indi_tf_idf_XGboost_results.PNG'\n",
        "xgboost_indi_results = pd.read_csv(filename_csv)\n",
        "image = mpimg.imread(results)\n",
        "plt.imshow(image)\n",
        "plt.axis('off')"
      ],
      "metadata": {
        "id": "ciycC1Vra3-1",
        "outputId": "989d8a4e-e4c8-4f1c-b6bf-0a7e46cd5ec5",
        "colab": {
          "base_uri": "https://localhost:8080/",
          "height": 163
        }
      },
      "execution_count": null,
      "outputs": [
        {
          "output_type": "execute_result",
          "data": {
            "text/plain": [
              "(-0.5, 265.5, 91.5, -0.5)"
            ]
          },
          "metadata": {},
          "execution_count": 34
        },
        {
          "output_type": "display_data",
          "data": {
            "image/png": "[encoded data removed]",
            "text/plain": [
              "<Figure size 432x288 with 1 Axes>"
            ]
          },
          "metadata": {
            "needs_background": "light"
          }
        }
      ]
    },
    {
      "cell_type": "markdown",
      "source": [
        "#**Best Classifieres Comparsion**"
      ],
      "metadata": {
        "id": "mx7g9X3oopJv"
      }
    },
    {
      "cell_type": "code",
      "source": [
        "best_classifiers = {'Baseline_XGboost':baseline_xgboost,'Drug_XGboost':xgboost_drug_results, 'Indi_XGboost':xgboost_indi_results}\n",
        "op.compare_models(test_features,test_labels,best_classifiers)"
      ],
      "metadata": {
        "colab": {
          "base_uri": "https://localhost:8080/",
          "height": 621
        },
        "id": "DWHLRCL5qHvG",
        "outputId": "2fc13230-beef-4537-8dc4-bcd3df310ee6"
      },
      "execution_count": null,
      "outputs": [
        {
          "output_type": "display_data",
          "data": {
            "image/png": "[encoded data removed]",
            "text/plain": [
              "<Figure size 1440x720 with 2 Axes>"
            ]
          },
          "metadata": {
            "needs_background": "light"
          }
        }
      ]
    }
  ],
  "metadata": {
    "colab": {
      "collapsed_sections": [],
      "name": "Modeling.ipynb",
      "provenance": [],
      "include_colab_link": true
    },
    "kernelspec": {
      "display_name": "Python 3",
      "name": "python3"
    },
    "language_info": {
      "name": "python"
    },
    "accelerator": "GPU"
  },
  "nbformat": 4,
  "nbformat_minor": 0
}